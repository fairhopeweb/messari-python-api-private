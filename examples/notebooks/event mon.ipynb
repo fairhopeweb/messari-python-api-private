{
 "cells": [
  {
   "cell_type": "markdown",
   "id": "cfde7e57",
   "metadata": {},
   "source": [
    "# Event Monitor"
   ]
  },
  {
   "cell_type": "markdown",
   "id": "a059f427",
   "metadata": {},
   "source": [
    "## Monitor Structure"
   ]
  },
  {
   "cell_type": "markdown",
   "id": "221e3603",
   "metadata": {},
   "source": [
    "Description here\n",
    "\n",
    "Event Monitor\n",
    "* start_monitor\n",
    "* stop_monitor\n",
    "* get_monitor_status\n",
    "* monitor\n",
    "\n",
    "Event Sync\n",
    "* start_sync\n",
    "* stop_sync\n",
    "* watch_sync\n",
    "* get_sync_status\n",
    "* sync\n",
    "\n",
    "Event Handler\n",
    "* start_event_handler\n",
    "* stop_event_handler\n",
    "* get_event_handler_status\n",
    "* event_handler\n",
    "* handle_event\n",
    "\n",
    "Helpers\n",
    "* get_events_df\n",
    "* get_events_list\n",
    "* get_queue_size\n",
    "* get_contract_events"
   ]
  },
  {
   "cell_type": "markdown",
   "id": "792338f9",
   "metadata": {},
   "source": [
    "## Setup"
   ]
  },
  {
   "cell_type": "markdown",
   "id": "ab357769",
   "metadata": {},
   "source": [
    "The event monitor requires a blockexplorer for initialization. The purpose of this blockexplorer is to get the contract source code so that contract interactions (Data & Logs) can be decoded into human readable events. "
   ]
  },
  {
   "cell_type": "code",
   "execution_count": 14,
   "id": "4e935821",
   "metadata": {},
   "outputs": [],
   "source": [
    "from messari.blockexplorers import Etherscan\n",
    "\n",
    "API_KEY = 'YOUR_API_KEY'\n",
    "ES = Etherscan(api_key=API_KEY)"
   ]
  },
  {
   "cell_type": "markdown",
   "id": "2e7d29c0",
   "metadata": {},
   "source": [
    "The event monitor also requires the endpoint for an RPC. This should belong to the same network as the blockexplorer."
   ]
  },
  {
   "cell_type": "code",
   "execution_count": 15,
   "id": "edf51404",
   "metadata": {},
   "outputs": [],
   "source": [
    "from messari.eventmonitor import EventMonitor\n",
    "\n",
    "rpc_url = 'YOUR_RPC'"
   ]
  },
  {
   "cell_type": "markdown",
   "id": "d2dfbc4b",
   "metadata": {},
   "source": [
    "Finally the event monitor must be initialized with the adress to monitor for events. "
   ]
  },
  {
   "cell_type": "markdown",
   "id": "8534c5bc",
   "metadata": {},
   "source": [
    "NOTE: The source code for this contract must be verified on the selected blockexplorer or else the event monitor will not be able to decode events for the given contract"
   ]
  },
  {
   "cell_type": "code",
   "execution_count": 12,
   "id": "35e0ad85",
   "metadata": {},
   "outputs": [],
   "source": [
    "DAI = '0x6B175474E89094C44Da98b954EedeAC495271d0F'"
   ]
  },
  {
   "cell_type": "markdown",
   "id": "36e4c2cf",
   "metadata": {},
   "source": [
    "Initalize with contract(s), blockexplorer, & RPC"
   ]
  },
  {
   "cell_type": "code",
   "execution_count": 13,
   "id": "7b8055ed",
   "metadata": {},
   "outputs": [],
   "source": [
    "dai_monitor = EventMonitor(DAI, ES, rpc_url)"
   ]
  },
  {
   "cell_type": "markdown",
   "id": "4bbf2418",
   "metadata": {},
   "source": [
    "## Event Monitor"
   ]
  },
  {
   "cell_type": "markdown",
   "id": "1925187d",
   "metadata": {},
   "source": [
    "### start_monitor"
   ]
  },
  {
   "cell_type": "markdown",
   "id": "60202b4f",
   "metadata": {},
   "source": [
    "Start the event monitor in a dedicated thread. The monitor thread will continue to run until `stop_monitor()` is called. The monitor thread can be accessed with `EventMonitor.monitor_thread`."
   ]
  },
  {
   "cell_type": "code",
   "execution_count": 5,
   "id": "134c0f16",
   "metadata": {},
   "outputs": [],
   "source": [
    "dai_monitor.start_monitor()"
   ]
  },
  {
   "cell_type": "markdown",
   "id": "fba52d61",
   "metadata": {},
   "source": [
    "### stop_monitor"
   ]
  },
  {
   "cell_type": "markdown",
   "id": "62f4507e",
   "metadata": {},
   "source": [
    "Stop the event monitor thread. This function will set an internal flag in the `EventMonitor` which tells the monitor thread to exit its loop. The monitor thread will not stop until it finishes the current loop and reaches the top again."
   ]
  },
  {
   "cell_type": "code",
   "execution_count": 9,
   "id": "49e29f91",
   "metadata": {},
   "outputs": [],
   "source": [
    "dai_monitor.stop_monitor()"
   ]
  },
  {
   "cell_type": "markdown",
   "id": "1d9871ba",
   "metadata": {},
   "source": [
    "### get_monitor_status"
   ]
  },
  {
   "cell_type": "markdown",
   "id": "322babce",
   "metadata": {},
   "source": [
    "Returns the operating status of the event monitor\n",
    "- RUNNING: event monitor is running\n",
    "- STOPPING: event monitor is stopping. If the monitor takes too long to stop then something is likely wrong\n",
    "- CRASH: event monitor thread crashed.\n",
    "- DEAD: event monitor is dead/stopped. "
   ]
  },
  {
   "cell_type": "code",
   "execution_count": 8,
   "id": "12d3a36e",
   "metadata": {},
   "outputs": [
    {
     "data": {
      "text/plain": [
       "'RUNNING'"
      ]
     },
     "execution_count": 8,
     "metadata": {},
     "output_type": "execute_result"
    }
   ],
   "source": [
    "monitor_status = dai_monitor.get_monitor_status()\n",
    "monitor_status"
   ]
  },
  {
   "cell_type": "markdown",
   "id": "a856bd36",
   "metadata": {},
   "source": [
    "### monitor"
   ]
  },
  {
   "cell_type": "markdown",
   "id": "2aa0bd23",
   "metadata": {},
   "source": [
    "This function runs the main loop for live event monitoring\n",
    "\n",
    "WARNING: It is highly recomended that you only interact with this function through the `start_monitor()` and `stop_monitor()` functions, not directly. However if you are inclined, feel free to read the source code for the EventMonitor class and experiment with this function in your own flow/script."
   ]
  },
  {
   "cell_type": "code",
   "execution_count": 7,
   "id": "b9589716",
   "metadata": {},
   "outputs": [],
   "source": [
    "# dai_monitor.monitor()"
   ]
  },
  {
   "cell_type": "markdown",
   "id": "82163cdd",
   "metadata": {},
   "source": [
    "## Event Sync"
   ]
  },
  {
   "cell_type": "markdown",
   "id": "d349df49",
   "metadata": {},
   "source": [
    "### start_sync"
   ]
  },
  {
   "cell_type": "markdown",
   "id": "31f75fa6",
   "metadata": {},
   "source": [
    "Start the event sync in a dedicated thread. The sync thread will find and submit all events in the given block range to the event handler. The sync thread will continue to run until `stop_sync()` is called or the sync is finished. The sync thread can be accessed with `self.sync_thread`."
   ]
  },
  {
   "cell_type": "markdown",
   "id": "25257893",
   "metadata": {},
   "source": [
    "The parameters for this function are:\n",
    "* start: starting block, default is 0\n",
    "* end: ending block, default is 'latest'"
   ]
  },
  {
   "cell_type": "code",
   "execution_count": 12,
   "id": "f53ff554",
   "metadata": {},
   "outputs": [],
   "source": [
    "dai_monitor.start_sync()"
   ]
  },
  {
   "cell_type": "markdown",
   "id": "e569f463",
   "metadata": {},
   "source": [
    "### stop_sync"
   ]
  },
  {
   "cell_type": "markdown",
   "id": "60be2ea8",
   "metadata": {},
   "source": [
    "Stop the event sync thread. This function will set an internal flag in the `EventMonitor` which tells the sync thread to exit its loop. The sync thread will not stop until it finishes the current loop and reaches the top again."
   ]
  },
  {
   "cell_type": "code",
   "execution_count": 15,
   "id": "e5718088",
   "metadata": {},
   "outputs": [],
   "source": [
    "dai_monitor.stop_sync()"
   ]
  },
  {
   "cell_type": "markdown",
   "id": "c8ece0f2",
   "metadata": {},
   "source": [
    "### watch_sync"
   ]
  },
  {
   "cell_type": "markdown",
   "id": "9fbb6bd3",
   "metadata": {},
   "source": [
    "This function can be used to watch the status of any given sync. Every 10 seconds this function will print an update on the progress of a sync.\n",
    "\n",
    "NOTE: This is a a blocking function meaning it will be run on the main thread until concluding. ie if there is 10 minutes left in a sync and you call this function, you'll be watching this function for the next 10 minutes"
   ]
  },
  {
   "cell_type": "code",
   "execution_count": 21,
   "id": "abd12b67",
   "metadata": {},
   "outputs": [],
   "source": [
    "# dai_monitor.watch_sync()"
   ]
  },
  {
   "cell_type": "markdown",
   "id": "764296e0",
   "metadata": {},
   "source": [
    "### get_sync_status"
   ]
  },
  {
   "cell_type": "markdown",
   "id": "d8170acc",
   "metadata": {},
   "source": [
    "Returns the operating status of the event sync\n",
    "- RUNNING: event sync is running\n",
    "- STOPPING: event sync is stopping. If the sync takes too long to stop then something is likely wrong\n",
    "- CRASH: event sync thread crashed.\n",
    "- DEAD: event sync is dead/stopped. "
   ]
  },
  {
   "cell_type": "code",
   "execution_count": null,
   "id": "ecd477e6",
   "metadata": {},
   "outputs": [],
   "source": [
    "sync_status = dai_monitor.get_sync_status()\n",
    "sync_status"
   ]
  },
  {
   "cell_type": "markdown",
   "id": "37523d34",
   "metadata": {},
   "source": [
    "### sync"
   ]
  },
  {
   "cell_type": "markdown",
   "id": "df21ed58",
   "metadata": {},
   "source": [
    "This function runs the main loop for syncing"
   ]
  },
  {
   "cell_type": "markdown",
   "id": "d6bb9525",
   "metadata": {},
   "source": [
    "WARNING: It is highly recomended that you only interact with this function through the `start_sync()` and `stop_sync()` functions, not directly. However if you are inclined, feel free to read the source code for the EventMonitor class and experiment with this function in your own flow/script."
   ]
  },
  {
   "cell_type": "code",
   "execution_count": null,
   "id": "334353ba",
   "metadata": {},
   "outputs": [],
   "source": [
    "# dai_monitor.sync(0, 100)"
   ]
  },
  {
   "cell_type": "markdown",
   "id": "5782933d",
   "metadata": {},
   "source": [
    "## Event Handler"
   ]
  },
  {
   "cell_type": "markdown",
   "id": "6214b3a1",
   "metadata": {},
   "source": [
    "### start_event_handler"
   ]
  },
  {
   "cell_type": "markdown",
   "id": "0317e7b3",
   "metadata": {},
   "source": [
    "Start the event handler in a dedicated thread. The handler thread will continue to run until `stop_handler()` is called. The handler thread can be accessed with `self.handler_thread`."
   ]
  },
  {
   "cell_type": "markdown",
   "id": "219fae7e",
   "metadata": {},
   "source": [
    "NOTE: this is automatically called with the `start_monitor()` and `start_sync()` functions. You should not have to call this function"
   ]
  },
  {
   "cell_type": "code",
   "execution_count": null,
   "id": "fe112648",
   "metadata": {},
   "outputs": [],
   "source": [
    "dai_monitor.start_event_handler()"
   ]
  },
  {
   "cell_type": "markdown",
   "id": "6e542239",
   "metadata": {},
   "source": [
    "### stop_event_handler"
   ]
  },
  {
   "cell_type": "markdown",
   "id": "3f7930cc",
   "metadata": {},
   "source": [
    "Stop the event handler thread. This function will set an internal flag in the `EventMonitor` which tells the handler thread to exit its loop. The sync thread will not stop until it finishes the current loop and reaches the top again."
   ]
  },
  {
   "cell_type": "markdown",
   "id": "9870e829",
   "metadata": {},
   "source": [
    "NOTE: The event handler thread will run until all events have been handled, you should be able to let this thread run until completion"
   ]
  },
  {
   "cell_type": "code",
   "execution_count": 21,
   "id": "d8e547c8",
   "metadata": {},
   "outputs": [],
   "source": [
    "dai_monitor.stop_event_handler()"
   ]
  },
  {
   "cell_type": "markdown",
   "id": "45bd18e9",
   "metadata": {},
   "source": [
    "### get_event_handler_status"
   ]
  },
  {
   "cell_type": "markdown",
   "id": "41a73d63",
   "metadata": {},
   "source": [
    "Returns the operating status of the event handler"
   ]
  },
  {
   "cell_type": "markdown",
   "id": "e544a548",
   "metadata": {},
   "source": [
    "- RUNNING: event handler is running\n",
    "- STOPPING: event handler is stopping. If the handler takes too long to stop then something is likely wrong\n",
    "- CRASH: event handler thread crashed.\n",
    "- DEAD: event handler is dead/stopped. "
   ]
  },
  {
   "cell_type": "code",
   "execution_count": 11,
   "id": "8607a2ea",
   "metadata": {},
   "outputs": [
    {
     "data": {
      "text/plain": [
       "'DEAD'"
      ]
     },
     "execution_count": 11,
     "metadata": {},
     "output_type": "execute_result"
    }
   ],
   "source": [
    "event_handler_status = dai_monitor.get_event_handler_status()\n",
    "event_handler_status"
   ]
  },
  {
   "cell_type": "markdown",
   "id": "c8dc8b6d",
   "metadata": {},
   "source": [
    "### event_handler"
   ]
  },
  {
   "cell_type": "markdown",
   "id": "cc75c1c6",
   "metadata": {},
   "source": [
    "This function runs the main loop for event handling"
   ]
  },
  {
   "cell_type": "markdown",
   "id": "b85d4bf7",
   "metadata": {},
   "source": [
    "WARNING: It is highly recomended that you only interact with this function through the `start_event_handler()` and `stop_event_handler()` functions, not directly. However if you are inclined, feel free to read the source code for the EventMonitor class and experiment with this function in your own flow/script."
   ]
  },
  {
   "cell_type": "code",
   "execution_count": 23,
   "id": "c0580e43",
   "metadata": {},
   "outputs": [],
   "source": [
    "# dai_monitor.event_handler()"
   ]
  },
  {
   "cell_type": "markdown",
   "id": "36040fae",
   "metadata": {},
   "source": [
    "### handle_event"
   ]
  },
  {
   "cell_type": "markdown",
   "id": "9ec21110",
   "metadata": {},
   "source": [
    "WARNING: It is highly recomended that you do not interact with this function. However if you so chose, this function could be overridden to define custom behavior for handling events"
   ]
  },
  {
   "cell_type": "markdown",
   "id": "bba3fa39",
   "metadata": {},
   "source": [
    "NOTE: expecting returns from functions called on a w3.eth.filter class"
   ]
  },
  {
   "cell_type": "code",
   "execution_count": 1,
   "id": "7e1c16d4",
   "metadata": {},
   "outputs": [],
   "source": [
    "# dai_monitor.handle_event(event)"
   ]
  },
  {
   "cell_type": "markdown",
   "id": "5f3e5239",
   "metadata": {},
   "source": [
    "## Helpers"
   ]
  },
  {
   "cell_type": "markdown",
   "id": "0cc0cc04",
   "metadata": {},
   "source": [
    "### get_events_df"
   ]
  },
  {
   "cell_type": "markdown",
   "id": "3de2338f",
   "metadata": {},
   "source": [
    "Returns processed events as a DataFrame"
   ]
  },
  {
   "cell_type": "code",
   "execution_count": 17,
   "id": "1e579c62",
   "metadata": {},
   "outputs": [
    {
     "data": {
      "text/html": [
       "<div>\n",
       "<style scoped>\n",
       "    .dataframe tbody tr th:only-of-type {\n",
       "        vertical-align: middle;\n",
       "    }\n",
       "\n",
       "    .dataframe tbody tr th {\n",
       "        vertical-align: top;\n",
       "    }\n",
       "\n",
       "    .dataframe thead th {\n",
       "        text-align: right;\n",
       "    }\n",
       "</style>\n",
       "<table border=\"1\" class=\"dataframe\">\n",
       "  <thead>\n",
       "    <tr style=\"text-align: right;\">\n",
       "      <th></th>\n",
       "      <th></th>\n",
       "      <th>args</th>\n",
       "      <th>event</th>\n",
       "      <th>transaction</th>\n",
       "      <th>log_index</th>\n",
       "      <th>transaction_index</th>\n",
       "      <th>address</th>\n",
       "      <th>block_number</th>\n",
       "      <th>block</th>\n",
       "    </tr>\n",
       "    <tr>\n",
       "      <th>block_number</th>\n",
       "      <th>log_index</th>\n",
       "      <th></th>\n",
       "      <th></th>\n",
       "      <th></th>\n",
       "      <th></th>\n",
       "      <th></th>\n",
       "      <th></th>\n",
       "      <th></th>\n",
       "      <th></th>\n",
       "    </tr>\n",
       "  </thead>\n",
       "  <tbody>\n",
       "    <tr>\n",
       "      <th rowspan=\"5\" valign=\"top\">8928226</th>\n",
       "      <th>19</th>\n",
       "      <td>{'src': '0xc73e0383F3Aff3215E6f04B0331D58CeCf0...</td>\n",
       "      <td>Approval</td>\n",
       "      <td>0xd6ec009c0b8daacbe5ad5cc9647a5df910d910081de6...</td>\n",
       "      <td>19</td>\n",
       "      <td>29</td>\n",
       "      <td>0x9f8F72aA9304c8B593d555F12eF6589cC3A579A2</td>\n",
       "      <td>8928226</td>\n",
       "      <td>0xe8312bebafc94658685d97a87f90da716c904b95c27c...</td>\n",
       "    </tr>\n",
       "    <tr>\n",
       "      <th>20</th>\n",
       "      <td>{'src': '0xc73e0383F3Aff3215E6f04B0331D58CeCf0...</td>\n",
       "      <td>Approval</td>\n",
       "      <td>0xd6ec009c0b8daacbe5ad5cc9647a5df910d910081de6...</td>\n",
       "      <td>20</td>\n",
       "      <td>29</td>\n",
       "      <td>0xf53AD2c6851052A81B42133467480961B2321C09</td>\n",
       "      <td>8928226</td>\n",
       "      <td>0xe8312bebafc94658685d97a87f90da716c904b95c27c...</td>\n",
       "    </tr>\n",
       "    <tr>\n",
       "      <th>21</th>\n",
       "      <td>{'src': '0xc73e0383F3Aff3215E6f04B0331D58CeCf0...</td>\n",
       "      <td>Approval</td>\n",
       "      <td>0xd6ec009c0b8daacbe5ad5cc9647a5df910d910081de6...</td>\n",
       "      <td>21</td>\n",
       "      <td>29</td>\n",
       "      <td>0x89d24A6b4CcB1B6fAA2625fE562bDD9a23260359</td>\n",
       "      <td>8928226</td>\n",
       "      <td>0xe8312bebafc94658685d97a87f90da716c904b95c27c...</td>\n",
       "    </tr>\n",
       "    <tr>\n",
       "      <th>22</th>\n",
       "      <td>{'src': '0xc73e0383F3Aff3215E6f04B0331D58CeCf0...</td>\n",
       "      <td>Approval</td>\n",
       "      <td>0xd6ec009c0b8daacbe5ad5cc9647a5df910d910081de6...</td>\n",
       "      <td>22</td>\n",
       "      <td>29</td>\n",
       "      <td>0x89d24A6b4CcB1B6fAA2625fE562bDD9a23260359</td>\n",
       "      <td>8928226</td>\n",
       "      <td>0xe8312bebafc94658685d97a87f90da716c904b95c27c...</td>\n",
       "    </tr>\n",
       "    <tr>\n",
       "      <th>23</th>\n",
       "      <td>{'src': '0xc73e0383F3Aff3215E6f04B0331D58CeCf0...</td>\n",
       "      <td>Approval</td>\n",
       "      <td>0xd6ec009c0b8daacbe5ad5cc9647a5df910d910081de6...</td>\n",
       "      <td>23</td>\n",
       "      <td>29</td>\n",
       "      <td>0xC02aaA39b223FE8D0A0e5C4F27eAD9083C756Cc2</td>\n",
       "      <td>8928226</td>\n",
       "      <td>0xe8312bebafc94658685d97a87f90da716c904b95c27c...</td>\n",
       "    </tr>\n",
       "  </tbody>\n",
       "</table>\n",
       "</div>"
      ],
      "text/plain": [
       "                                                                     args  \\\n",
       "block_number log_index                                                      \n",
       "8928226      19         {'src': '0xc73e0383F3Aff3215E6f04B0331D58CeCf0...   \n",
       "             20         {'src': '0xc73e0383F3Aff3215E6f04B0331D58CeCf0...   \n",
       "             21         {'src': '0xc73e0383F3Aff3215E6f04B0331D58CeCf0...   \n",
       "             22         {'src': '0xc73e0383F3Aff3215E6f04B0331D58CeCf0...   \n",
       "             23         {'src': '0xc73e0383F3Aff3215E6f04B0331D58CeCf0...   \n",
       "\n",
       "                           event  \\\n",
       "block_number log_index             \n",
       "8928226      19         Approval   \n",
       "             20         Approval   \n",
       "             21         Approval   \n",
       "             22         Approval   \n",
       "             23         Approval   \n",
       "\n",
       "                                                              transaction  \\\n",
       "block_number log_index                                                      \n",
       "8928226      19         0xd6ec009c0b8daacbe5ad5cc9647a5df910d910081de6...   \n",
       "             20         0xd6ec009c0b8daacbe5ad5cc9647a5df910d910081de6...   \n",
       "             21         0xd6ec009c0b8daacbe5ad5cc9647a5df910d910081de6...   \n",
       "             22         0xd6ec009c0b8daacbe5ad5cc9647a5df910d910081de6...   \n",
       "             23         0xd6ec009c0b8daacbe5ad5cc9647a5df910d910081de6...   \n",
       "\n",
       "                        log_index  transaction_index  \\\n",
       "block_number log_index                                 \n",
       "8928226      19                19                 29   \n",
       "             20                20                 29   \n",
       "             21                21                 29   \n",
       "             22                22                 29   \n",
       "             23                23                 29   \n",
       "\n",
       "                                                           address  \\\n",
       "block_number log_index                                               \n",
       "8928226      19         0x9f8F72aA9304c8B593d555F12eF6589cC3A579A2   \n",
       "             20         0xf53AD2c6851052A81B42133467480961B2321C09   \n",
       "             21         0x89d24A6b4CcB1B6fAA2625fE562bDD9a23260359   \n",
       "             22         0x89d24A6b4CcB1B6fAA2625fE562bDD9a23260359   \n",
       "             23         0xC02aaA39b223FE8D0A0e5C4F27eAD9083C756Cc2   \n",
       "\n",
       "                        block_number  \\\n",
       "block_number log_index                 \n",
       "8928226      19              8928226   \n",
       "             20              8928226   \n",
       "             21              8928226   \n",
       "             22              8928226   \n",
       "             23              8928226   \n",
       "\n",
       "                                                                    block  \n",
       "block_number log_index                                                     \n",
       "8928226      19         0xe8312bebafc94658685d97a87f90da716c904b95c27c...  \n",
       "             20         0xe8312bebafc94658685d97a87f90da716c904b95c27c...  \n",
       "             21         0xe8312bebafc94658685d97a87f90da716c904b95c27c...  \n",
       "             22         0xe8312bebafc94658685d97a87f90da716c904b95c27c...  \n",
       "             23         0xe8312bebafc94658685d97a87f90da716c904b95c27c...  "
      ]
     },
     "execution_count": 17,
     "metadata": {},
     "output_type": "execute_result"
    }
   ],
   "source": [
    "events_df = dai_monitor.get_events_df()\n",
    "events_df.head()"
   ]
  },
  {
   "cell_type": "markdown",
   "id": "9fcfe604",
   "metadata": {},
   "source": [
    "### get_events_list"
   ]
  },
  {
   "cell_type": "markdown",
   "id": "71cd44dc",
   "metadata": {},
   "source": [
    "Returns process events as a List"
   ]
  },
  {
   "cell_type": "code",
   "execution_count": 19,
   "id": "1bf70062",
   "metadata": {},
   "outputs": [
    {
     "data": {
      "text/plain": [
       "[{'args': {'src': '0xc73e0383F3Aff3215E6f04B0331D58CeCf0Ab849',\n",
       "   'guy': '0x448a5065aeBB8E423F0896E6c5D525C040f59af3',\n",
       "   'wad': 115792089237316195423570985008687907853269984665640564039457584007913129639935},\n",
       "  'event': 'Approval',\n",
       "  'transaction': '0xd6ec009c0b8daacbe5ad5cc9647a5df910d910081de6d5146b4f8fc31e66980e',\n",
       "  'log_index': 19,\n",
       "  'transaction_index': 29,\n",
       "  'address': '0x9f8F72aA9304c8B593d555F12eF6589cC3A579A2',\n",
       "  'block_number': 8928226,\n",
       "  'block': '0xe8312bebafc94658685d97a87f90da716c904b95c27cd1a81ace5888c3c66887'},\n",
       " {'args': {'src': '0xc73e0383F3Aff3215E6f04B0331D58CeCf0Ab849',\n",
       "   'guy': '0x448a5065aeBB8E423F0896E6c5D525C040f59af3',\n",
       "   'wad': 115792089237316195423570985008687907853269984665640564039457584007913129639935},\n",
       "  'event': 'Approval',\n",
       "  'transaction': '0xd6ec009c0b8daacbe5ad5cc9647a5df910d910081de6d5146b4f8fc31e66980e',\n",
       "  'log_index': 20,\n",
       "  'transaction_index': 29,\n",
       "  'address': '0xf53AD2c6851052A81B42133467480961B2321C09',\n",
       "  'block_number': 8928226,\n",
       "  'block': '0xe8312bebafc94658685d97a87f90da716c904b95c27cd1a81ace5888c3c66887'}]"
      ]
     },
     "execution_count": 19,
     "metadata": {},
     "output_type": "execute_result"
    }
   ],
   "source": [
    "events_list = dai_monitor.get_events_list()\n",
    "events_list[:2]"
   ]
  },
  {
   "cell_type": "markdown",
   "id": "13958375",
   "metadata": {},
   "source": [
    "### get_queue_size"
   ]
  },
  {
   "cell_type": "markdown",
   "id": "2f01ce82",
   "metadata": {},
   "source": [
    "Returns the size of the event handler queue. This number represents the amounts of unprocessed events which will be processed so long as `EventMonitor.get_handler_status() == 'RUNNING'`"
   ]
  },
  {
   "cell_type": "code",
   "execution_count": 20,
   "id": "90f3c244",
   "metadata": {},
   "outputs": [
    {
     "data": {
      "text/plain": [
       "4655"
      ]
     },
     "execution_count": 20,
     "metadata": {},
     "output_type": "execute_result"
    }
   ],
   "source": [
    "event_queue_size = dai_monitor.get_queue_size()\n",
    "event_queue_size"
   ]
  },
  {
   "cell_type": "markdown",
   "id": "9973c4f7",
   "metadata": {},
   "source": [
    "### get_contract_events"
   ]
  },
  {
   "cell_type": "markdown",
   "id": "466dad08",
   "metadata": {},
   "source": [
    "This function is used internally for mapping ethereum event topics (HEX) to human readable event names. It can be interesting to see the kinds of events for contracts used to initalize the `EventMonitor` class"
   ]
  },
  {
   "cell_type": "code",
   "execution_count": 19,
   "id": "e5e4df57",
   "metadata": {},
   "outputs": [
    {
     "data": {
      "text/html": [
       "<div>\n",
       "<style scoped>\n",
       "    .dataframe tbody tr th:only-of-type {\n",
       "        vertical-align: middle;\n",
       "    }\n",
       "\n",
       "    .dataframe tbody tr th {\n",
       "        vertical-align: top;\n",
       "    }\n",
       "\n",
       "    .dataframe thead tr th {\n",
       "        text-align: left;\n",
       "    }\n",
       "</style>\n",
       "<table border=\"1\" class=\"dataframe\">\n",
       "  <thead>\n",
       "    <tr>\n",
       "      <th></th>\n",
       "      <th colspan=\"4\" halign=\"left\">0x6B175474E89094C44Da98b954EedeAC495271d0F</th>\n",
       "    </tr>\n",
       "    <tr>\n",
       "      <th></th>\n",
       "      <th>name</th>\n",
       "      <th>text</th>\n",
       "      <th>keccak</th>\n",
       "      <th>inputs</th>\n",
       "    </tr>\n",
       "  </thead>\n",
       "  <tbody>\n",
       "    <tr>\n",
       "      <th>0</th>\n",
       "      <td>Approval</td>\n",
       "      <td>Approval(address,address,uint256)</td>\n",
       "      <td>0x8c5be1e5ebec7d5bd14f71427d1e84f3dd0314c0f7b2...</td>\n",
       "      <td>[{'indexed': True, 'internalType': 'address', ...</td>\n",
       "    </tr>\n",
       "    <tr>\n",
       "      <th>1</th>\n",
       "      <td>LogNote</td>\n",
       "      <td>LogNote(bytes4,address,bytes32,bytes32,bytes)</td>\n",
       "      <td>0xd3d8bec38a91a5f4411247483bc030a174e77cda9c03...</td>\n",
       "      <td>[{'indexed': True, 'internalType': 'bytes4', '...</td>\n",
       "    </tr>\n",
       "    <tr>\n",
       "      <th>2</th>\n",
       "      <td>Transfer</td>\n",
       "      <td>Transfer(address,address,uint256)</td>\n",
       "      <td>0xddf252ad1be2c89b69c2b068fc378daa952ba7f163c4...</td>\n",
       "      <td>[{'indexed': True, 'internalType': 'address', ...</td>\n",
       "    </tr>\n",
       "  </tbody>\n",
       "</table>\n",
       "</div>"
      ],
      "text/plain": [
       "  0x6B175474E89094C44Da98b954EedeAC495271d0F  \\\n",
       "                                        name   \n",
       "0                                   Approval   \n",
       "1                                    LogNote   \n",
       "2                                   Transfer   \n",
       "\n",
       "                                                  \\\n",
       "                                            text   \n",
       "0              Approval(address,address,uint256)   \n",
       "1  LogNote(bytes4,address,bytes32,bytes32,bytes)   \n",
       "2              Transfer(address,address,uint256)   \n",
       "\n",
       "                                                      \\\n",
       "                                              keccak   \n",
       "0  0x8c5be1e5ebec7d5bd14f71427d1e84f3dd0314c0f7b2...   \n",
       "1  0xd3d8bec38a91a5f4411247483bc030a174e77cda9c03...   \n",
       "2  0xddf252ad1be2c89b69c2b068fc378daa952ba7f163c4...   \n",
       "\n",
       "                                                      \n",
       "                                              inputs  \n",
       "0  [{'indexed': True, 'internalType': 'address', ...  \n",
       "1  [{'indexed': True, 'internalType': 'bytes4', '...  \n",
       "2  [{'indexed': True, 'internalType': 'address', ...  "
      ]
     },
     "execution_count": 19,
     "metadata": {},
     "output_type": "execute_result"
    }
   ],
   "source": [
    "contract_events = dai_monitor.get_contract_events()\n",
    "contract_events"
   ]
  },
  {
   "cell_type": "code",
   "execution_count": null,
   "id": "74e2a861",
   "metadata": {},
   "outputs": [],
   "source": []
  }
 ],
 "metadata": {
  "kernelspec": {
   "display_name": "Python 3 (ipykernel)",
   "language": "python",
   "name": "python3"
  },
  "language_info": {
   "codemirror_mode": {
    "name": "ipython",
    "version": 3
   },
   "file_extension": ".py",
   "mimetype": "text/x-python",
   "name": "python",
   "nbconvert_exporter": "python",
   "pygments_lexer": "ipython3",
   "version": "3.9.6"
  }
 },
 "nbformat": 4,
 "nbformat_minor": 5
}
