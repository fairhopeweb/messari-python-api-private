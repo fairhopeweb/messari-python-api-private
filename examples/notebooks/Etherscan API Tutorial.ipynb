{
 "cells": [
  {
   "cell_type": "markdown",
   "id": "b650d739",
   "metadata": {},
   "source": [
    "# EVM Blockexplorer API Tutorial"
   ]
  },
  {
   "cell_type": "markdown",
   "id": "90d1e1be",
   "metadata": {},
   "source": [
    "This tutorial aims to be a quick guide to get you started using the Etherscan API integrated into messari's python library."
   ]
  },
  {
   "cell_type": "code",
   "execution_count": 1,
   "id": "4f68f0a5",
   "metadata": {},
   "outputs": [],
   "source": [
    "import time #need to sleep to stop rate limiting\n",
    "from messari.blockexplorers.etherscan import Etherscan\n",
    "API_KEY='DWC3QGAEHNFQQM55Z1AYTXUTZ1GPBK51JQ'\n",
    "es = Etherscan(api_key=API_KEY)"
   ]
  },
  {
   "cell_type": "markdown",
   "id": "38e8bdb7",
   "metadata": {},
   "source": [
    "## API Structure"
   ]
  },
  {
   "cell_type": "markdown",
   "id": "4e241116",
   "metadata": {},
   "source": [
    "The Deep DAO Python client contains a number of functions that wrap some of Deep DAO's API endpoints. These include:\n",
    "\n",
    "Accounts\n",
    "* get_account_ether_balance\n",
    "* get_account_normal_transactions\n",
    "* get_account_internal_transactions\n",
    "* get_transaction_internal_transactions\n",
    "* get_block_range_internal_transactions\n",
    "* get_account_token_transfers\n",
    "* get_account_nft_transfers\n",
    "* get_account_blocks_mined\n",
    "\n",
    "Contracts\n",
    "* get_contract_abi\n",
    "* get_contract_source_code\n",
    "\n",
    "Transactions\n",
    "* get_contract_execution_status\n",
    "* get_transaction_execution_status\n",
    "\n",
    "Blocks\n",
    "* get_block_reward\n",
    "* get_block_countdown\n",
    "* get_block_by_timestamp\n",
    "\n",
    "Logs\n",
    "* get_logs\n",
    "\n",
    "Geth/Parity Proxy\n",
    "* get_eth_block_number\n",
    "* get_eth_block\n",
    "* get_eth_uncle\n",
    "* get_eth_block_transaction_count\n",
    "* get_eth_transaction_by_hash\n",
    "* get_eth_transaction_by_block_index\n",
    "* get_eth_account_transaction_count\n",
    "* get_eth_transaction_reciept\n",
    "* get_eth_gas_price\n",
    "\n",
    "Tokens\n",
    "* get_token_total_supply\n",
    "* get_token_account_balance\n",
    "\n",
    "Gas Tracker\n",
    "* get_est_confirmation\n",
    "* get_gas_oracle\n",
    "\n",
    "Stats\n",
    "* get_total_eth_supply\n",
    "* get_total_eth2_supply\n",
    "* get_last_eth_price\n",
    "* get_nodes_size\n",
    "* get_total_nodes_count\n",
    "\n",
    "Below are a few examples to showcase the functionality and types of data each function generates."
   ]
  },
  {
   "cell_type": "markdown",
   "id": "edbe602f",
   "metadata": {},
   "source": [
    "## Accounts"
   ]
  },
  {
   "cell_type": "markdown",
   "id": "2f68ecd9",
   "metadata": {},
   "source": [
    "Functions to return info about given account(s)"
   ]
  },
  {
   "cell_type": "code",
   "execution_count": 2,
   "id": "625f06f1",
   "metadata": {},
   "outputs": [],
   "source": [
    "accounts = ['0xBa19BdFF99065d9ABF3dF8CE942390B97fd71B12', '0x503e4bfe8299D486701BC7bc7F2Ea94f50035daC']\n",
    "txns = ['0x29f2df8ce6a0e2a93bddacdfcceb9fd847630dcd1d25ad1ec3402cc449fa1eb6', '0x0bd7f9af4f8ddb18a321ab0120a2389046b39feb67561d17378e0d4dc062decc', '0x1815a03dd8a1ce7da5a7a4304fa5fae1a8f4f3c20787e341eea230614e49ff61']\n",
    "tokens = ['0x1f9840a85d5af5bf1d1762f925bdaddc4201f984', '0xc18360217d8f7ab5e7c516566761ea12ce7f9d72']"
   ]
  },
  {
   "cell_type": "markdown",
   "id": "9817299a",
   "metadata": {},
   "source": [
    "### get_account_ether_balance"
   ]
  },
  {
   "cell_type": "markdown",
   "id": "8bae3b46",
   "metadata": {},
   "source": [
    "Returns the Ether (wei) balance of a given address"
   ]
  },
  {
   "cell_type": "code",
   "execution_count": 3,
   "id": "34261fa3",
   "metadata": {},
   "outputs": [
    {
     "data": {
      "text/html": [
       "<div>\n",
       "<style scoped>\n",
       "    .dataframe tbody tr th:only-of-type {\n",
       "        vertical-align: middle;\n",
       "    }\n",
       "\n",
       "    .dataframe tbody tr th {\n",
       "        vertical-align: top;\n",
       "    }\n",
       "\n",
       "    .dataframe thead th {\n",
       "        text-align: right;\n",
       "    }\n",
       "</style>\n",
       "<table border=\"1\" class=\"dataframe\">\n",
       "  <thead>\n",
       "    <tr style=\"text-align: right;\">\n",
       "      <th></th>\n",
       "      <th>balances</th>\n",
       "    </tr>\n",
       "  </thead>\n",
       "  <tbody>\n",
       "    <tr>\n",
       "      <th>0xBa19BdFF99065d9ABF3dF8CE942390B97fd71B12</th>\n",
       "      <td>976947792508781600</td>\n",
       "    </tr>\n",
       "    <tr>\n",
       "      <th>0x503e4bfe8299D486701BC7bc7F2Ea94f50035daC</th>\n",
       "      <td>2239319013287287</td>\n",
       "    </tr>\n",
       "  </tbody>\n",
       "</table>\n",
       "</div>"
      ],
      "text/plain": [
       "                                                      balances\n",
       "0xBa19BdFF99065d9ABF3dF8CE942390B97fd71B12  976947792508781600\n",
       "0x503e4bfe8299D486701BC7bc7F2Ea94f50035daC    2239319013287287"
      ]
     },
     "execution_count": 3,
     "metadata": {},
     "output_type": "execute_result"
    }
   ],
   "source": [
    "account_balances = es.get_account_native_balance(accounts)\n",
    "time.sleep(1)\n",
    "account_balances"
   ]
  },
  {
   "cell_type": "markdown",
   "id": "043c28fd",
   "metadata": {},
   "source": [
    "### get_account_normal_transactions"
   ]
  },
  {
   "cell_type": "markdown",
   "id": "51ed8f66",
   "metadata": {},
   "source": [
    "Returns the list of transactions performed by an address, with optional pagination"
   ]
  },
  {
   "cell_type": "code",
   "execution_count": 4,
   "id": "93d52ff6",
   "metadata": {},
   "outputs": [
    {
     "data": {
      "text/html": [
       "<div>\n",
       "<style scoped>\n",
       "    .dataframe tbody tr th:only-of-type {\n",
       "        vertical-align: middle;\n",
       "    }\n",
       "\n",
       "    .dataframe tbody tr th {\n",
       "        vertical-align: top;\n",
       "    }\n",
       "\n",
       "    .dataframe thead tr th {\n",
       "        text-align: left;\n",
       "    }\n",
       "</style>\n",
       "<table border=\"1\" class=\"dataframe\">\n",
       "  <thead>\n",
       "    <tr>\n",
       "      <th></th>\n",
       "      <th colspan=\"10\" halign=\"left\">0xBa19BdFF99065d9ABF3dF8CE942390B97fd71B12</th>\n",
       "      <th>...</th>\n",
       "      <th colspan=\"10\" halign=\"left\">0x503e4bfe8299D486701BC7bc7F2Ea94f50035daC</th>\n",
       "    </tr>\n",
       "    <tr>\n",
       "      <th></th>\n",
       "      <th>blockNumber</th>\n",
       "      <th>timeStamp</th>\n",
       "      <th>hash</th>\n",
       "      <th>nonce</th>\n",
       "      <th>blockHash</th>\n",
       "      <th>transactionIndex</th>\n",
       "      <th>from</th>\n",
       "      <th>to</th>\n",
       "      <th>value</th>\n",
       "      <th>gas</th>\n",
       "      <th>...</th>\n",
       "      <th>value</th>\n",
       "      <th>gas</th>\n",
       "      <th>gasPrice</th>\n",
       "      <th>isError</th>\n",
       "      <th>txreceipt_status</th>\n",
       "      <th>input</th>\n",
       "      <th>contractAddress</th>\n",
       "      <th>cumulativeGasUsed</th>\n",
       "      <th>gasUsed</th>\n",
       "      <th>confirmations</th>\n",
       "    </tr>\n",
       "  </thead>\n",
       "  <tbody>\n",
       "    <tr>\n",
       "      <th>0</th>\n",
       "      <td>12150458</td>\n",
       "      <td>1617238173</td>\n",
       "      <td>0x1d3e049fcaeb7e02dbd1c796852fd2a0accb584eb621...</td>\n",
       "      <td>34</td>\n",
       "      <td>0xc5a9897f311d4310e0d6701ed50d24d81640a96fa54b...</td>\n",
       "      <td>113</td>\n",
       "      <td>0x503e4bfe8299d486701bc7bc7f2ea94f50035dac</td>\n",
       "      <td>0xba19bdff99065d9abf3df8ce942390b97fd71b12</td>\n",
       "      <td>150000000000000000</td>\n",
       "      <td>21000</td>\n",
       "      <td>...</td>\n",
       "      <td>200000000000000000</td>\n",
       "      <td>21000</td>\n",
       "      <td>100000000000</td>\n",
       "      <td>0</td>\n",
       "      <td>1</td>\n",
       "      <td>0x</td>\n",
       "      <td></td>\n",
       "      <td>12485187</td>\n",
       "      <td>21000</td>\n",
       "      <td>1765581</td>\n",
       "    </tr>\n",
       "    <tr>\n",
       "      <th>1</th>\n",
       "      <td>12150499</td>\n",
       "      <td>1617238663</td>\n",
       "      <td>0x7be0198fc6afc4227aa63eed7b04e3c2e1cb845f77b7...</td>\n",
       "      <td>10</td>\n",
       "      <td>0x32b9419d095d0d6031498dac7b86844536db45b210be...</td>\n",
       "      <td>161</td>\n",
       "      <td>0xe35e8e145745df95d38d2ae1d2091c9097962e0d</td>\n",
       "      <td>0xba19bdff99065d9abf3df8ce942390b97fd71b12</td>\n",
       "      <td>150000000000000000</td>\n",
       "      <td>21000</td>\n",
       "      <td>...</td>\n",
       "      <td>170000000000000000</td>\n",
       "      <td>170000</td>\n",
       "      <td>122200966918</td>\n",
       "      <td>0</td>\n",
       "      <td>1</td>\n",
       "      <td>0x7ff36ab5000000000000000000000000000000000000...</td>\n",
       "      <td></td>\n",
       "      <td>2220434</td>\n",
       "      <td>124771</td>\n",
       "      <td>1765569</td>\n",
       "    </tr>\n",
       "    <tr>\n",
       "      <th>2</th>\n",
       "      <td>12150534</td>\n",
       "      <td>1617239068</td>\n",
       "      <td>0xfc70483d8711be918fbf2b78d37d27ec46c7dc7338dc...</td>\n",
       "      <td>0</td>\n",
       "      <td>0xa70a5f5aaf4d389b9c6150b850a20041077c7ff757c0...</td>\n",
       "      <td>42</td>\n",
       "      <td>0xba19bdff99065d9abf3df8ce942390b97fd71b12</td>\n",
       "      <td>0x4678f0a6958e4d2bc4f1baf7bc52e8f3564f3fe4</td>\n",
       "      <td>0</td>\n",
       "      <td>918027</td>\n",
       "      <td>...</td>\n",
       "      <td>1000000000000000000</td>\n",
       "      <td>21000</td>\n",
       "      <td>117000000000</td>\n",
       "      <td>0</td>\n",
       "      <td>1</td>\n",
       "      <td>0x</td>\n",
       "      <td></td>\n",
       "      <td>11686985</td>\n",
       "      <td>21000</td>\n",
       "      <td>1765428</td>\n",
       "    </tr>\n",
       "    <tr>\n",
       "      <th>3</th>\n",
       "      <td>12150547</td>\n",
       "      <td>1617239178</td>\n",
       "      <td>0x409ddb1a7f518fef0d1225e118166cc05c7cd28e369a...</td>\n",
       "      <td>1</td>\n",
       "      <td>0x7c2c028e6c4dfbdaaf9364c75a10efc92a4a7e1168bb...</td>\n",
       "      <td>44</td>\n",
       "      <td>0xba19bdff99065d9abf3df8ce942390b97fd71b12</td>\n",
       "      <td>0x2260fac5e5542a773aa44fbcfedf7c193bc2c599</td>\n",
       "      <td>0</td>\n",
       "      <td>70165</td>\n",
       "      <td>...</td>\n",
       "      <td>990000000000000000</td>\n",
       "      <td>170000</td>\n",
       "      <td>124772370792</td>\n",
       "      <td>0</td>\n",
       "      <td>1</td>\n",
       "      <td>0x7ff36ab5000000000000000000000000000000000000...</td>\n",
       "      <td></td>\n",
       "      <td>316200</td>\n",
       "      <td>109771</td>\n",
       "      <td>1765402</td>\n",
       "    </tr>\n",
       "    <tr>\n",
       "      <th>4</th>\n",
       "      <td>12150591</td>\n",
       "      <td>1617239881</td>\n",
       "      <td>0x091bfeb699eb8822e68b7c572a458e72cd5bd23b8e53...</td>\n",
       "      <td>12</td>\n",
       "      <td>0x5dfd2dc6544b3928053da118dd744159c77785d42792...</td>\n",
       "      <td>105</td>\n",
       "      <td>0xe35e8e145745df95d38d2ae1d2091c9097962e0d</td>\n",
       "      <td>0xba19bdff99065d9abf3df8ce942390b97fd71b12</td>\n",
       "      <td>100000000000000000</td>\n",
       "      <td>21000</td>\n",
       "      <td>...</td>\n",
       "      <td>4900000000000000000</td>\n",
       "      <td>21000</td>\n",
       "      <td>115000000000</td>\n",
       "      <td>0</td>\n",
       "      <td>1</td>\n",
       "      <td>0x</td>\n",
       "      <td></td>\n",
       "      <td>8774834</td>\n",
       "      <td>21000</td>\n",
       "      <td>1753136</td>\n",
       "    </tr>\n",
       "  </tbody>\n",
       "</table>\n",
       "<p>5 rows × 36 columns</p>\n",
       "</div>"
      ],
      "text/plain": [
       "  0xBa19BdFF99065d9ABF3dF8CE942390B97fd71B12              \\\n",
       "                                 blockNumber   timeStamp   \n",
       "0                                   12150458  1617238173   \n",
       "1                                   12150499  1617238663   \n",
       "2                                   12150534  1617239068   \n",
       "3                                   12150547  1617239178   \n",
       "4                                   12150591  1617239881   \n",
       "\n",
       "                                                            \\\n",
       "                                                hash nonce   \n",
       "0  0x1d3e049fcaeb7e02dbd1c796852fd2a0accb584eb621...    34   \n",
       "1  0x7be0198fc6afc4227aa63eed7b04e3c2e1cb845f77b7...    10   \n",
       "2  0xfc70483d8711be918fbf2b78d37d27ec46c7dc7338dc...     0   \n",
       "3  0x409ddb1a7f518fef0d1225e118166cc05c7cd28e369a...     1   \n",
       "4  0x091bfeb699eb8822e68b7c572a458e72cd5bd23b8e53...    12   \n",
       "\n",
       "                                                                       \\\n",
       "                                           blockHash transactionIndex   \n",
       "0  0xc5a9897f311d4310e0d6701ed50d24d81640a96fa54b...              113   \n",
       "1  0x32b9419d095d0d6031498dac7b86844536db45b210be...              161   \n",
       "2  0xa70a5f5aaf4d389b9c6150b850a20041077c7ff757c0...               42   \n",
       "3  0x7c2c028e6c4dfbdaaf9364c75a10efc92a4a7e1168bb...               44   \n",
       "4  0x5dfd2dc6544b3928053da118dd744159c77785d42792...              105   \n",
       "\n",
       "                                               \\\n",
       "                                         from   \n",
       "0  0x503e4bfe8299d486701bc7bc7f2ea94f50035dac   \n",
       "1  0xe35e8e145745df95d38d2ae1d2091c9097962e0d   \n",
       "2  0xba19bdff99065d9abf3df8ce942390b97fd71b12   \n",
       "3  0xba19bdff99065d9abf3df8ce942390b97fd71b12   \n",
       "4  0xe35e8e145745df95d38d2ae1d2091c9097962e0d   \n",
       "\n",
       "                                                                           \\\n",
       "                                           to               value     gas   \n",
       "0  0xba19bdff99065d9abf3df8ce942390b97fd71b12  150000000000000000   21000   \n",
       "1  0xba19bdff99065d9abf3df8ce942390b97fd71b12  150000000000000000   21000   \n",
       "2  0x4678f0a6958e4d2bc4f1baf7bc52e8f3564f3fe4                   0  918027   \n",
       "3  0x2260fac5e5542a773aa44fbcfedf7c193bc2c599                   0   70165   \n",
       "4  0xba19bdff99065d9abf3df8ce942390b97fd71b12  100000000000000000   21000   \n",
       "\n",
       "   ... 0x503e4bfe8299D486701BC7bc7F2Ea94f50035daC                        \\\n",
       "   ...                                      value     gas      gasPrice   \n",
       "0  ...                         200000000000000000   21000  100000000000   \n",
       "1  ...                         170000000000000000  170000  122200966918   \n",
       "2  ...                        1000000000000000000   21000  117000000000   \n",
       "3  ...                         990000000000000000  170000  124772370792   \n",
       "4  ...                        4900000000000000000   21000  115000000000   \n",
       "\n",
       "                                                                               \\\n",
       "  isError txreceipt_status                                              input   \n",
       "0       0                1                                                 0x   \n",
       "1       0                1  0x7ff36ab5000000000000000000000000000000000000...   \n",
       "2       0                1                                                 0x   \n",
       "3       0                1  0x7ff36ab5000000000000000000000000000000000000...   \n",
       "4       0                1                                                 0x   \n",
       "\n",
       "                                                           \n",
       "  contractAddress cumulativeGasUsed gasUsed confirmations  \n",
       "0                          12485187   21000       1765581  \n",
       "1                           2220434  124771       1765569  \n",
       "2                          11686985   21000       1765428  \n",
       "3                            316200  109771       1765402  \n",
       "4                           8774834   21000       1753136  \n",
       "\n",
       "[5 rows x 36 columns]"
      ]
     },
     "execution_count": 4,
     "metadata": {},
     "output_type": "execute_result"
    }
   ],
   "source": [
    "account_normal = es.get_account_normal_transactions(accounts)\n",
    "time.sleep(1)\n",
    "account_normal.head()"
   ]
  },
  {
   "cell_type": "markdown",
   "id": "234050c8",
   "metadata": {},
   "source": [
    "### get_account_internal_transactions"
   ]
  },
  {
   "cell_type": "markdown",
   "id": "251a5271",
   "metadata": {},
   "source": [
    "Returns the list of internal transactions performed by an address, with optional pagination"
   ]
  },
  {
   "cell_type": "code",
   "execution_count": 5,
   "id": "3f8a22c1",
   "metadata": {},
   "outputs": [
    {
     "data": {
      "text/html": [
       "<div>\n",
       "<style scoped>\n",
       "    .dataframe tbody tr th:only-of-type {\n",
       "        vertical-align: middle;\n",
       "    }\n",
       "\n",
       "    .dataframe tbody tr th {\n",
       "        vertical-align: top;\n",
       "    }\n",
       "\n",
       "    .dataframe thead tr th {\n",
       "        text-align: left;\n",
       "    }\n",
       "</style>\n",
       "<table border=\"1\" class=\"dataframe\">\n",
       "  <thead>\n",
       "    <tr>\n",
       "      <th></th>\n",
       "      <th colspan=\"10\" halign=\"left\">0xBa19BdFF99065d9ABF3dF8CE942390B97fd71B12</th>\n",
       "      <th>...</th>\n",
       "      <th colspan=\"10\" halign=\"left\">0x503e4bfe8299D486701BC7bc7F2Ea94f50035daC</th>\n",
       "    </tr>\n",
       "    <tr>\n",
       "      <th></th>\n",
       "      <th>blockNumber</th>\n",
       "      <th>timeStamp</th>\n",
       "      <th>hash</th>\n",
       "      <th>from</th>\n",
       "      <th>to</th>\n",
       "      <th>value</th>\n",
       "      <th>contractAddress</th>\n",
       "      <th>input</th>\n",
       "      <th>type</th>\n",
       "      <th>gas</th>\n",
       "      <th>...</th>\n",
       "      <th>to</th>\n",
       "      <th>value</th>\n",
       "      <th>contractAddress</th>\n",
       "      <th>input</th>\n",
       "      <th>type</th>\n",
       "      <th>gas</th>\n",
       "      <th>gasUsed</th>\n",
       "      <th>traceId</th>\n",
       "      <th>isError</th>\n",
       "      <th>errCode</th>\n",
       "    </tr>\n",
       "  </thead>\n",
       "  <tbody>\n",
       "    <tr>\n",
       "      <th>0</th>\n",
       "      <td>12163335</td>\n",
       "      <td>1617409597</td>\n",
       "      <td>0x68141c1316d922ed5113e265a5d636f1ec6b090e7ea7...</td>\n",
       "      <td>0x283af0b28c62c092c9727f1ee09c02ca627eb7f5</td>\n",
       "      <td>0xba19bdff99065d9abf3df8ce942390b97fd71b12</td>\n",
       "      <td>1132216169560432</td>\n",
       "      <td></td>\n",
       "      <td></td>\n",
       "      <td>call</td>\n",
       "      <td>2300</td>\n",
       "      <td>...</td>\n",
       "      <td>0x503e4bfe8299d486701bc7bc7f2ea94f50035dac</td>\n",
       "      <td>1378007072137347</td>\n",
       "      <td></td>\n",
       "      <td></td>\n",
       "      <td>call</td>\n",
       "      <td>2300</td>\n",
       "      <td>0</td>\n",
       "      <td>10</td>\n",
       "      <td>0</td>\n",
       "      <td></td>\n",
       "    </tr>\n",
       "    <tr>\n",
       "      <th>1</th>\n",
       "      <td>12290519</td>\n",
       "      <td>1619100967</td>\n",
       "      <td>0x82785446d28889f99d95139610abc5bdd0362be3f302...</td>\n",
       "      <td>0xe68fff06277508259b1229d284120488d4ded390</td>\n",
       "      <td>0xba19bdff99065d9abf3df8ce942390b97fd71b12</td>\n",
       "      <td>195917915000000000</td>\n",
       "      <td></td>\n",
       "      <td></td>\n",
       "      <td>call</td>\n",
       "      <td>9445</td>\n",
       "      <td>...</td>\n",
       "      <td>0x503e4bfe8299d486701bc7bc7f2ea94f50035dac</td>\n",
       "      <td>1269277206626259375</td>\n",
       "      <td></td>\n",
       "      <td></td>\n",
       "      <td>call</td>\n",
       "      <td>44313</td>\n",
       "      <td>0</td>\n",
       "      <td>2</td>\n",
       "      <td>0</td>\n",
       "      <td></td>\n",
       "    </tr>\n",
       "    <tr>\n",
       "      <th>2</th>\n",
       "      <td>12358348</td>\n",
       "      <td>1620006583</td>\n",
       "      <td>0xd86114bde57cd4587d98ca24be129299a3d29d60bca7...</td>\n",
       "      <td>0x0f92496ff3997d8911b42dc87cd71c29493c2efa</td>\n",
       "      <td>0xba19bdff99065d9abf3df8ce942390b97fd71b12</td>\n",
       "      <td>1500000000000000000</td>\n",
       "      <td></td>\n",
       "      <td></td>\n",
       "      <td>call</td>\n",
       "      <td>2300</td>\n",
       "      <td>...</td>\n",
       "      <td>0x503e4bfe8299d486701bc7bc7f2ea94f50035dac</td>\n",
       "      <td>924987209833558520</td>\n",
       "      <td></td>\n",
       "      <td></td>\n",
       "      <td>call</td>\n",
       "      <td>17389</td>\n",
       "      <td>0</td>\n",
       "      <td>4</td>\n",
       "      <td>0</td>\n",
       "      <td></td>\n",
       "    </tr>\n",
       "    <tr>\n",
       "      <th>3</th>\n",
       "      <td>12361579</td>\n",
       "      <td>1620049473</td>\n",
       "      <td>0xec5a0beb745af0dc51f85c767f5267308501c991091a...</td>\n",
       "      <td>0x7a250d5630b4cf539739df2c5dacb4c659f2488d</td>\n",
       "      <td>0xba19bdff99065d9abf3df8ce942390b97fd71b12</td>\n",
       "      <td>1000000000000000000</td>\n",
       "      <td></td>\n",
       "      <td></td>\n",
       "      <td>call</td>\n",
       "      <td>26093</td>\n",
       "      <td>...</td>\n",
       "      <td>0x503e4bfe8299d486701bc7bc7f2ea94f50035dac</td>\n",
       "      <td>2915551216325263181</td>\n",
       "      <td></td>\n",
       "      <td></td>\n",
       "      <td>call</td>\n",
       "      <td>29846</td>\n",
       "      <td>0</td>\n",
       "      <td>0_4</td>\n",
       "      <td>0</td>\n",
       "      <td></td>\n",
       "    </tr>\n",
       "    <tr>\n",
       "      <th>4</th>\n",
       "      <td>12361931</td>\n",
       "      <td>1620054041</td>\n",
       "      <td>0xcffe026fe4efb0d0fbb71ef0a23f756d33d41878e2fb...</td>\n",
       "      <td>0x1db681925786441ba82adefac7bf492089665ca0</td>\n",
       "      <td>0xba19bdff99065d9abf3df8ce942390b97fd71b12</td>\n",
       "      <td>632281841566148913</td>\n",
       "      <td></td>\n",
       "      <td></td>\n",
       "      <td>call</td>\n",
       "      <td>2300</td>\n",
       "      <td>...</td>\n",
       "      <td>0x503e4bfe8299d486701bc7bc7f2ea94f50035dac</td>\n",
       "      <td>1124184601060627798</td>\n",
       "      <td></td>\n",
       "      <td></td>\n",
       "      <td>call</td>\n",
       "      <td>2300</td>\n",
       "      <td>0</td>\n",
       "      <td>0</td>\n",
       "      <td>0</td>\n",
       "      <td></td>\n",
       "    </tr>\n",
       "  </tbody>\n",
       "</table>\n",
       "<p>5 rows × 28 columns</p>\n",
       "</div>"
      ],
      "text/plain": [
       "  0xBa19BdFF99065d9ABF3dF8CE942390B97fd71B12              \\\n",
       "                                 blockNumber   timeStamp   \n",
       "0                                   12163335  1617409597   \n",
       "1                                   12290519  1619100967   \n",
       "2                                   12358348  1620006583   \n",
       "3                                   12361579  1620049473   \n",
       "4                                   12361931  1620054041   \n",
       "\n",
       "                                                      \\\n",
       "                                                hash   \n",
       "0  0x68141c1316d922ed5113e265a5d636f1ec6b090e7ea7...   \n",
       "1  0x82785446d28889f99d95139610abc5bdd0362be3f302...   \n",
       "2  0xd86114bde57cd4587d98ca24be129299a3d29d60bca7...   \n",
       "3  0xec5a0beb745af0dc51f85c767f5267308501c991091a...   \n",
       "4  0xcffe026fe4efb0d0fbb71ef0a23f756d33d41878e2fb...   \n",
       "\n",
       "                                               \\\n",
       "                                         from   \n",
       "0  0x283af0b28c62c092c9727f1ee09c02ca627eb7f5   \n",
       "1  0xe68fff06277508259b1229d284120488d4ded390   \n",
       "2  0x0f92496ff3997d8911b42dc87cd71c29493c2efa   \n",
       "3  0x7a250d5630b4cf539739df2c5dacb4c659f2488d   \n",
       "4  0x1db681925786441ba82adefac7bf492089665ca0   \n",
       "\n",
       "                                                                    \\\n",
       "                                           to                value   \n",
       "0  0xba19bdff99065d9abf3df8ce942390b97fd71b12     1132216169560432   \n",
       "1  0xba19bdff99065d9abf3df8ce942390b97fd71b12   195917915000000000   \n",
       "2  0xba19bdff99065d9abf3df8ce942390b97fd71b12  1500000000000000000   \n",
       "3  0xba19bdff99065d9abf3df8ce942390b97fd71b12  1000000000000000000   \n",
       "4  0xba19bdff99065d9abf3df8ce942390b97fd71b12   632281841566148913   \n",
       "\n",
       "                                      ...  \\\n",
       "  contractAddress input  type    gas  ...   \n",
       "0                        call   2300  ...   \n",
       "1                        call   9445  ...   \n",
       "2                        call   2300  ...   \n",
       "3                        call  26093  ...   \n",
       "4                        call   2300  ...   \n",
       "\n",
       "   0x503e4bfe8299D486701BC7bc7F2Ea94f50035daC                       \\\n",
       "                                           to                value   \n",
       "0  0x503e4bfe8299d486701bc7bc7f2ea94f50035dac     1378007072137347   \n",
       "1  0x503e4bfe8299d486701bc7bc7f2ea94f50035dac  1269277206626259375   \n",
       "2  0x503e4bfe8299d486701bc7bc7f2ea94f50035dac   924987209833558520   \n",
       "3  0x503e4bfe8299d486701bc7bc7f2ea94f50035dac  2915551216325263181   \n",
       "4  0x503e4bfe8299d486701bc7bc7f2ea94f50035dac  1124184601060627798   \n",
       "\n",
       "                                                                      \n",
       "  contractAddress input  type    gas gasUsed traceId isError errCode  \n",
       "0                        call   2300       0      10       0          \n",
       "1                        call  44313       0       2       0          \n",
       "2                        call  17389       0       4       0          \n",
       "3                        call  29846       0     0_4       0          \n",
       "4                        call   2300       0       0       0          \n",
       "\n",
       "[5 rows x 28 columns]"
      ]
     },
     "execution_count": 5,
     "metadata": {},
     "output_type": "execute_result"
    }
   ],
   "source": [
    "account_internal = es.get_account_internal_transactions(accounts)\n",
    "time.sleep(1)\n",
    "account_internal.head()"
   ]
  },
  {
   "cell_type": "markdown",
   "id": "8547ea50",
   "metadata": {},
   "source": [
    "### get_transaction_internal_transactions"
   ]
  },
  {
   "cell_type": "markdown",
   "id": "d1cc8b62",
   "metadata": {},
   "source": [
    "Returns the list of internal transactions performed within a transaction"
   ]
  },
  {
   "cell_type": "code",
   "execution_count": 6,
   "id": "4026fda1",
   "metadata": {},
   "outputs": [
    {
     "data": {
      "text/html": [
       "<div>\n",
       "<style scoped>\n",
       "    .dataframe tbody tr th:only-of-type {\n",
       "        vertical-align: middle;\n",
       "    }\n",
       "\n",
       "    .dataframe tbody tr th {\n",
       "        vertical-align: top;\n",
       "    }\n",
       "\n",
       "    .dataframe thead tr th {\n",
       "        text-align: left;\n",
       "    }\n",
       "</style>\n",
       "<table border=\"1\" class=\"dataframe\">\n",
       "  <thead>\n",
       "    <tr>\n",
       "      <th></th>\n",
       "      <th colspan=\"12\" halign=\"left\">0x40eb908387324f2b575b4879cd9d7188f69c8fc9d87c901b9e2daaea4b442170</th>\n",
       "    </tr>\n",
       "    <tr>\n",
       "      <th></th>\n",
       "      <th>blockNumber</th>\n",
       "      <th>timeStamp</th>\n",
       "      <th>from</th>\n",
       "      <th>to</th>\n",
       "      <th>value</th>\n",
       "      <th>contractAddress</th>\n",
       "      <th>input</th>\n",
       "      <th>type</th>\n",
       "      <th>gas</th>\n",
       "      <th>gasUsed</th>\n",
       "      <th>isError</th>\n",
       "      <th>errCode</th>\n",
       "    </tr>\n",
       "  </thead>\n",
       "  <tbody>\n",
       "    <tr>\n",
       "      <th>0</th>\n",
       "      <td>1743059</td>\n",
       "      <td>1466489498</td>\n",
       "      <td>0x2cac6e4b11d6b58f6d3c1c9d5fe8faa89f60e5a2</td>\n",
       "      <td>0x66a1c3eaf0f1ffc28d209c0763ed0ca614f3b002</td>\n",
       "      <td>7106740000000000</td>\n",
       "      <td></td>\n",
       "      <td></td>\n",
       "      <td>call</td>\n",
       "      <td>2300</td>\n",
       "      <td>0</td>\n",
       "      <td>0</td>\n",
       "      <td></td>\n",
       "    </tr>\n",
       "  </tbody>\n",
       "</table>\n",
       "</div>"
      ],
      "text/plain": [
       "  0x40eb908387324f2b575b4879cd9d7188f69c8fc9d87c901b9e2daaea4b442170  \\\n",
       "                                                         blockNumber   \n",
       "0                                            1743059                   \n",
       "\n",
       "                                                           \\\n",
       "    timeStamp                                        from   \n",
       "0  1466489498  0x2cac6e4b11d6b58f6d3c1c9d5fe8faa89f60e5a2   \n",
       "\n",
       "                                                                 \\\n",
       "                                           to             value   \n",
       "0  0x66a1c3eaf0f1ffc28d209c0763ed0ca614f3b002  7106740000000000   \n",
       "\n",
       "                                                             \n",
       "  contractAddress input  type   gas gasUsed isError errCode  \n",
       "0                        call  2300       0       0          "
      ]
     },
     "execution_count": 6,
     "metadata": {},
     "output_type": "execute_result"
    }
   ],
   "source": [
    "int_txn = '0x40eb908387324f2b575b4879cd9d7188f69c8fc9d87c901b9e2daaea4b442170'\n",
    "transaction_internals = es.get_transaction_internal_transactions(int_txn)\n",
    "time.sleep(1)\n",
    "transaction_internals"
   ]
  },
  {
   "cell_type": "markdown",
   "id": "eedad693",
   "metadata": {},
   "source": [
    "### get_block_range_internal_transactions"
   ]
  },
  {
   "cell_type": "markdown",
   "id": "e0550e46",
   "metadata": {},
   "source": [
    "Returns the list of internal transactions performed within a block range, with optional pagination"
   ]
  },
  {
   "cell_type": "code",
   "execution_count": 7,
   "id": "e3efa670",
   "metadata": {},
   "outputs": [
    {
     "data": {
      "text/html": [
       "<div>\n",
       "<style scoped>\n",
       "    .dataframe tbody tr th:only-of-type {\n",
       "        vertical-align: middle;\n",
       "    }\n",
       "\n",
       "    .dataframe tbody tr th {\n",
       "        vertical-align: top;\n",
       "    }\n",
       "\n",
       "    .dataframe thead th {\n",
       "        text-align: right;\n",
       "    }\n",
       "</style>\n",
       "<table border=\"1\" class=\"dataframe\">\n",
       "  <thead>\n",
       "    <tr style=\"text-align: right;\">\n",
       "      <th></th>\n",
       "      <th>blockNumber</th>\n",
       "      <th>timeStamp</th>\n",
       "      <th>hash</th>\n",
       "      <th>from</th>\n",
       "      <th>to</th>\n",
       "      <th>value</th>\n",
       "      <th>contractAddress</th>\n",
       "      <th>input</th>\n",
       "      <th>type</th>\n",
       "      <th>gas</th>\n",
       "      <th>gasUsed</th>\n",
       "      <th>traceId</th>\n",
       "      <th>isError</th>\n",
       "      <th>errCode</th>\n",
       "    </tr>\n",
       "  </thead>\n",
       "  <tbody>\n",
       "    <tr>\n",
       "      <th>0</th>\n",
       "      <td>10000000</td>\n",
       "      <td>1588598533</td>\n",
       "      <td>0xc2f74145a896b6a5b938216d130f5c382d3d77d5d501...</td>\n",
       "      <td>0xf0542ed44d268c85875b3b84b0e7ce0773e9aeef</td>\n",
       "      <td>0x35e4876102389f13d78381d317ff4612412a56c9</td>\n",
       "      <td>50000000000000000</td>\n",
       "      <td></td>\n",
       "      <td></td>\n",
       "      <td>call</td>\n",
       "      <td>2300</td>\n",
       "      <td>0</td>\n",
       "      <td>0</td>\n",
       "      <td>0</td>\n",
       "      <td></td>\n",
       "    </tr>\n",
       "    <tr>\n",
       "      <th>1</th>\n",
       "      <td>10000000</td>\n",
       "      <td>1588598533</td>\n",
       "      <td>0xa9b04ff42f93868886c1258ba59967ceb6aafa011865...</td>\n",
       "      <td>0x8a91c9a16cd62693649d80afa85a09dbbdcb8508</td>\n",
       "      <td></td>\n",
       "      <td>0</td>\n",
       "      <td>0xbce5fe052b25e422550f6012fdd1941f9353f001</td>\n",
       "      <td></td>\n",
       "      <td>create</td>\n",
       "      <td>1499696</td>\n",
       "      <td>64779</td>\n",
       "      <td>0</td>\n",
       "      <td>0</td>\n",
       "      <td></td>\n",
       "    </tr>\n",
       "    <tr>\n",
       "      <th>2</th>\n",
       "      <td>10000000</td>\n",
       "      <td>1588598533</td>\n",
       "      <td>0xc96ee63d87a2d21b1dccff4d3de50726887cadbf010c...</td>\n",
       "      <td>0x8a91c9a16cd62693649d80afa85a09dbbdcb8508</td>\n",
       "      <td></td>\n",
       "      <td>0</td>\n",
       "      <td>0x1f52775214e2b3d099eb82b6e9e9025c490157ad</td>\n",
       "      <td></td>\n",
       "      <td>create</td>\n",
       "      <td>1877196</td>\n",
       "      <td>64779</td>\n",
       "      <td>0</td>\n",
       "      <td>0</td>\n",
       "      <td></td>\n",
       "    </tr>\n",
       "    <tr>\n",
       "      <th>3</th>\n",
       "      <td>10000000</td>\n",
       "      <td>1588598533</td>\n",
       "      <td>0x46a9ce0dbc787533c6bda878ff3c4f2354b86301bf4f...</td>\n",
       "      <td>0x8a91c9a16cd62693649d80afa85a09dbbdcb8508</td>\n",
       "      <td></td>\n",
       "      <td>0</td>\n",
       "      <td>0x2858e866c5fdcefea13bedf13948a785b5c8b040</td>\n",
       "      <td></td>\n",
       "      <td>create</td>\n",
       "      <td>1877196</td>\n",
       "      <td>64779</td>\n",
       "      <td>0</td>\n",
       "      <td>0</td>\n",
       "      <td></td>\n",
       "    </tr>\n",
       "    <tr>\n",
       "      <th>4</th>\n",
       "      <td>10000000</td>\n",
       "      <td>1588598533</td>\n",
       "      <td>0x9dab17b59a0612347929fe03bb82d6a03f8a0880ac62...</td>\n",
       "      <td>0x8a91c9a16cd62693649d80afa85a09dbbdcb8508</td>\n",
       "      <td></td>\n",
       "      <td>0</td>\n",
       "      <td>0x903171964ee615dc99f350bd29ea747b887ae3f4</td>\n",
       "      <td></td>\n",
       "      <td>create</td>\n",
       "      <td>1897522</td>\n",
       "      <td>64779</td>\n",
       "      <td>1</td>\n",
       "      <td>0</td>\n",
       "      <td></td>\n",
       "    </tr>\n",
       "  </tbody>\n",
       "</table>\n",
       "</div>"
      ],
      "text/plain": [
       "  blockNumber   timeStamp                                               hash  \\\n",
       "0    10000000  1588598533  0xc2f74145a896b6a5b938216d130f5c382d3d77d5d501...   \n",
       "1    10000000  1588598533  0xa9b04ff42f93868886c1258ba59967ceb6aafa011865...   \n",
       "2    10000000  1588598533  0xc96ee63d87a2d21b1dccff4d3de50726887cadbf010c...   \n",
       "3    10000000  1588598533  0x46a9ce0dbc787533c6bda878ff3c4f2354b86301bf4f...   \n",
       "4    10000000  1588598533  0x9dab17b59a0612347929fe03bb82d6a03f8a0880ac62...   \n",
       "\n",
       "                                         from  \\\n",
       "0  0xf0542ed44d268c85875b3b84b0e7ce0773e9aeef   \n",
       "1  0x8a91c9a16cd62693649d80afa85a09dbbdcb8508   \n",
       "2  0x8a91c9a16cd62693649d80afa85a09dbbdcb8508   \n",
       "3  0x8a91c9a16cd62693649d80afa85a09dbbdcb8508   \n",
       "4  0x8a91c9a16cd62693649d80afa85a09dbbdcb8508   \n",
       "\n",
       "                                           to              value  \\\n",
       "0  0x35e4876102389f13d78381d317ff4612412a56c9  50000000000000000   \n",
       "1                                                              0   \n",
       "2                                                              0   \n",
       "3                                                              0   \n",
       "4                                                              0   \n",
       "\n",
       "                              contractAddress input    type      gas gasUsed  \\\n",
       "0                                                      call     2300       0   \n",
       "1  0xbce5fe052b25e422550f6012fdd1941f9353f001        create  1499696   64779   \n",
       "2  0x1f52775214e2b3d099eb82b6e9e9025c490157ad        create  1877196   64779   \n",
       "3  0x2858e866c5fdcefea13bedf13948a785b5c8b040        create  1877196   64779   \n",
       "4  0x903171964ee615dc99f350bd29ea747b887ae3f4        create  1897522   64779   \n",
       "\n",
       "  traceId isError errCode  \n",
       "0       0       0          \n",
       "1       0       0          \n",
       "2       0       0          \n",
       "3       0       0          \n",
       "4       1       0          "
      ]
     },
     "execution_count": 7,
     "metadata": {},
     "output_type": "execute_result"
    }
   ],
   "source": [
    "block_range_internals = es.get_block_range_internal_transactions(10000000,10001000)\n",
    "time.sleep(1)\n",
    "block_range_internals.head()"
   ]
  },
  {
   "cell_type": "markdown",
   "id": "bdde7cb7",
   "metadata": {},
   "source": [
    "### get_account_token_transfers"
   ]
  },
  {
   "cell_type": "markdown",
   "id": "06efeb28",
   "metadata": {},
   "source": [
    "Returns the list of ERC-20 tokens transferred by an address, with optional filtering by token contract"
   ]
  },
  {
   "cell_type": "code",
   "execution_count": 8,
   "id": "fadd60c3",
   "metadata": {},
   "outputs": [
    {
     "data": {
      "text/html": [
       "<div>\n",
       "<style scoped>\n",
       "    .dataframe tbody tr th:only-of-type {\n",
       "        vertical-align: middle;\n",
       "    }\n",
       "\n",
       "    .dataframe tbody tr th {\n",
       "        vertical-align: top;\n",
       "    }\n",
       "\n",
       "    .dataframe thead tr th {\n",
       "        text-align: left;\n",
       "    }\n",
       "</style>\n",
       "<table border=\"1\" class=\"dataframe\">\n",
       "  <thead>\n",
       "    <tr>\n",
       "      <th></th>\n",
       "      <th colspan=\"10\" halign=\"left\">0xBa19BdFF99065d9ABF3dF8CE942390B97fd71B12</th>\n",
       "      <th>...</th>\n",
       "      <th colspan=\"10\" halign=\"left\">0x503e4bfe8299D486701BC7bc7F2Ea94f50035daC</th>\n",
       "    </tr>\n",
       "    <tr>\n",
       "      <th></th>\n",
       "      <th>blockNumber</th>\n",
       "      <th>timeStamp</th>\n",
       "      <th>hash</th>\n",
       "      <th>nonce</th>\n",
       "      <th>blockHash</th>\n",
       "      <th>from</th>\n",
       "      <th>contractAddress</th>\n",
       "      <th>to</th>\n",
       "      <th>value</th>\n",
       "      <th>tokenName</th>\n",
       "      <th>...</th>\n",
       "      <th>tokenName</th>\n",
       "      <th>tokenSymbol</th>\n",
       "      <th>tokenDecimal</th>\n",
       "      <th>transactionIndex</th>\n",
       "      <th>gas</th>\n",
       "      <th>gasPrice</th>\n",
       "      <th>gasUsed</th>\n",
       "      <th>cumulativeGasUsed</th>\n",
       "      <th>input</th>\n",
       "      <th>confirmations</th>\n",
       "    </tr>\n",
       "  </thead>\n",
       "  <tbody>\n",
       "    <tr>\n",
       "      <th>0</th>\n",
       "      <td>12150499</td>\n",
       "      <td>1617238663</td>\n",
       "      <td>0x1680acc117e0a9bfa7e24553c11a6ca133a1c708a677...</td>\n",
       "      <td>35</td>\n",
       "      <td>0x32b9419d095d0d6031498dac7b86844536db45b210be...</td>\n",
       "      <td>0x503e4bfe8299d486701bc7bc7f2ea94f50035dac</td>\n",
       "      <td>0x2260fac5e5542a773aa44fbcfedf7c193bc2c599</td>\n",
       "      <td>0xba19bdff99065d9abf3df8ce942390b97fd71b12</td>\n",
       "      <td>25282582</td>\n",
       "      <td>Wrapped BTC</td>\n",
       "      <td>...</td>\n",
       "      <td>DefiPulse Index</td>\n",
       "      <td>DPI</td>\n",
       "      <td>18</td>\n",
       "      <td>29</td>\n",
       "      <td>170000</td>\n",
       "      <td>122200966918</td>\n",
       "      <td>124771</td>\n",
       "      <td>2220434</td>\n",
       "      <td>deprecated</td>\n",
       "      <td>1765569</td>\n",
       "    </tr>\n",
       "    <tr>\n",
       "      <th>1</th>\n",
       "      <td>12150506</td>\n",
       "      <td>1617238752</td>\n",
       "      <td>0x42595019ce981395f8e92ebf645989527a8537d71aab...</td>\n",
       "      <td>11</td>\n",
       "      <td>0x4eb37fcc85990d4eebd746e9a78b014d3093a49aaf56...</td>\n",
       "      <td>0xe35e8e145745df95d38d2ae1d2091c9097962e0d</td>\n",
       "      <td>0x2260fac5e5542a773aa44fbcfedf7c193bc2c599</td>\n",
       "      <td>0xba19bdff99065d9abf3df8ce942390b97fd71b12</td>\n",
       "      <td>8604978</td>\n",
       "      <td>Wrapped BTC</td>\n",
       "      <td>...</td>\n",
       "      <td>DefiPulse Index</td>\n",
       "      <td>DPI</td>\n",
       "      <td>18</td>\n",
       "      <td>7</td>\n",
       "      <td>170000</td>\n",
       "      <td>124772370792</td>\n",
       "      <td>109771</td>\n",
       "      <td>316200</td>\n",
       "      <td>deprecated</td>\n",
       "      <td>1765402</td>\n",
       "    </tr>\n",
       "    <tr>\n",
       "      <th>2</th>\n",
       "      <td>12150615</td>\n",
       "      <td>1617240099</td>\n",
       "      <td>0x23ea85829b0d9f78ce79ae543411252793a60ac93e67...</td>\n",
       "      <td>2</td>\n",
       "      <td>0xd0e73d1b266d43c767a5ff9989da25fda414b9a40326...</td>\n",
       "      <td>0xba19bdff99065d9abf3df8ce942390b97fd71b12</td>\n",
       "      <td>0x2260fac5e5542a773aa44fbcfedf7c193bc2c599</td>\n",
       "      <td>0x0f92496ff3997d8911b42dc87cd71c29493c2efa</td>\n",
       "      <td>33880000</td>\n",
       "      <td>Wrapped BTC</td>\n",
       "      <td>...</td>\n",
       "      <td>Interest Bearing ETH</td>\n",
       "      <td>ibETH</td>\n",
       "      <td>18</td>\n",
       "      <td>89</td>\n",
       "      <td>137074</td>\n",
       "      <td>117000000000</td>\n",
       "      <td>91383</td>\n",
       "      <td>7411688</td>\n",
       "      <td>deprecated</td>\n",
       "      <td>1753103</td>\n",
       "    </tr>\n",
       "    <tr>\n",
       "      <th>3</th>\n",
       "      <td>12150615</td>\n",
       "      <td>1617240099</td>\n",
       "      <td>0x23ea85829b0d9f78ce79ae543411252793a60ac93e67...</td>\n",
       "      <td>2</td>\n",
       "      <td>0xd0e73d1b266d43c767a5ff9989da25fda414b9a40326...</td>\n",
       "      <td>0x0000000000000000000000000000000000000000</td>\n",
       "      <td>0x6b175474e89094c44da98b954eedeac495271d0f</td>\n",
       "      <td>0xba19bdff99065d9abf3df8ce942390b97fd71b12</td>\n",
       "      <td>10000000000000000000000</td>\n",
       "      <td>Dai Stablecoin</td>\n",
       "      <td>...</td>\n",
       "      <td>Interest Bearing ETH</td>\n",
       "      <td>ibETH</td>\n",
       "      <td>18</td>\n",
       "      <td>77</td>\n",
       "      <td>114058</td>\n",
       "      <td>130000000000</td>\n",
       "      <td>76039</td>\n",
       "      <td>8219729</td>\n",
       "      <td>deprecated</td>\n",
       "      <td>1747508</td>\n",
       "    </tr>\n",
       "    <tr>\n",
       "      <th>4</th>\n",
       "      <td>12150678</td>\n",
       "      <td>1617240821</td>\n",
       "      <td>0xcb1d2301f1ca5d697c150539276eb914ada713211011...</td>\n",
       "      <td>4</td>\n",
       "      <td>0x207f158eb9443f3867dbb8ea7d28cf7732d6393472b7...</td>\n",
       "      <td>0xba19bdff99065d9abf3df8ce942390b97fd71b12</td>\n",
       "      <td>0x6b175474e89094c44da98b954eedeac495271d0f</td>\n",
       "      <td>0xa478c2975ab1ea89e8196811f51a7b7ade33eb11</td>\n",
       "      <td>10000000000000000000000</td>\n",
       "      <td>Dai Stablecoin</td>\n",
       "      <td>...</td>\n",
       "      <td>Curve DAO Token</td>\n",
       "      <td>CRV</td>\n",
       "      <td>18</td>\n",
       "      <td>149</td>\n",
       "      <td>164925</td>\n",
       "      <td>131500000000</td>\n",
       "      <td>124363</td>\n",
       "      <td>10406728</td>\n",
       "      <td>deprecated</td>\n",
       "      <td>1720069</td>\n",
       "    </tr>\n",
       "  </tbody>\n",
       "</table>\n",
       "<p>5 rows × 38 columns</p>\n",
       "</div>"
      ],
      "text/plain": [
       "  0xBa19BdFF99065d9ABF3dF8CE942390B97fd71B12              \\\n",
       "                                 blockNumber   timeStamp   \n",
       "0                                   12150499  1617238663   \n",
       "1                                   12150506  1617238752   \n",
       "2                                   12150615  1617240099   \n",
       "3                                   12150615  1617240099   \n",
       "4                                   12150678  1617240821   \n",
       "\n",
       "                                                            \\\n",
       "                                                hash nonce   \n",
       "0  0x1680acc117e0a9bfa7e24553c11a6ca133a1c708a677...    35   \n",
       "1  0x42595019ce981395f8e92ebf645989527a8537d71aab...    11   \n",
       "2  0x23ea85829b0d9f78ce79ae543411252793a60ac93e67...     2   \n",
       "3  0x23ea85829b0d9f78ce79ae543411252793a60ac93e67...     2   \n",
       "4  0xcb1d2301f1ca5d697c150539276eb914ada713211011...     4   \n",
       "\n",
       "                                                      \\\n",
       "                                           blockHash   \n",
       "0  0x32b9419d095d0d6031498dac7b86844536db45b210be...   \n",
       "1  0x4eb37fcc85990d4eebd746e9a78b014d3093a49aaf56...   \n",
       "2  0xd0e73d1b266d43c767a5ff9989da25fda414b9a40326...   \n",
       "3  0xd0e73d1b266d43c767a5ff9989da25fda414b9a40326...   \n",
       "4  0x207f158eb9443f3867dbb8ea7d28cf7732d6393472b7...   \n",
       "\n",
       "                                               \\\n",
       "                                         from   \n",
       "0  0x503e4bfe8299d486701bc7bc7f2ea94f50035dac   \n",
       "1  0xe35e8e145745df95d38d2ae1d2091c9097962e0d   \n",
       "2  0xba19bdff99065d9abf3df8ce942390b97fd71b12   \n",
       "3  0x0000000000000000000000000000000000000000   \n",
       "4  0xba19bdff99065d9abf3df8ce942390b97fd71b12   \n",
       "\n",
       "                                               \\\n",
       "                              contractAddress   \n",
       "0  0x2260fac5e5542a773aa44fbcfedf7c193bc2c599   \n",
       "1  0x2260fac5e5542a773aa44fbcfedf7c193bc2c599   \n",
       "2  0x2260fac5e5542a773aa44fbcfedf7c193bc2c599   \n",
       "3  0x6b175474e89094c44da98b954eedeac495271d0f   \n",
       "4  0x6b175474e89094c44da98b954eedeac495271d0f   \n",
       "\n",
       "                                                                        \\\n",
       "                                           to                    value   \n",
       "0  0xba19bdff99065d9abf3df8ce942390b97fd71b12                 25282582   \n",
       "1  0xba19bdff99065d9abf3df8ce942390b97fd71b12                  8604978   \n",
       "2  0x0f92496ff3997d8911b42dc87cd71c29493c2efa                 33880000   \n",
       "3  0xba19bdff99065d9abf3df8ce942390b97fd71b12  10000000000000000000000   \n",
       "4  0xa478c2975ab1ea89e8196811f51a7b7ade33eb11  10000000000000000000000   \n",
       "\n",
       "                   ... 0x503e4bfe8299D486701BC7bc7F2Ea94f50035daC              \\\n",
       "        tokenName  ...                                  tokenName tokenSymbol   \n",
       "0     Wrapped BTC  ...                            DefiPulse Index         DPI   \n",
       "1     Wrapped BTC  ...                            DefiPulse Index         DPI   \n",
       "2     Wrapped BTC  ...                       Interest Bearing ETH       ibETH   \n",
       "3  Dai Stablecoin  ...                       Interest Bearing ETH       ibETH   \n",
       "4  Dai Stablecoin  ...                            Curve DAO Token         CRV   \n",
       "\n",
       "                                                               \\\n",
       "  tokenDecimal transactionIndex     gas      gasPrice gasUsed   \n",
       "0           18               29  170000  122200966918  124771   \n",
       "1           18                7  170000  124772370792  109771   \n",
       "2           18               89  137074  117000000000   91383   \n",
       "3           18               77  114058  130000000000   76039   \n",
       "4           18              149  164925  131500000000  124363   \n",
       "\n",
       "                                               \n",
       "  cumulativeGasUsed       input confirmations  \n",
       "0           2220434  deprecated       1765569  \n",
       "1            316200  deprecated       1765402  \n",
       "2           7411688  deprecated       1753103  \n",
       "3           8219729  deprecated       1747508  \n",
       "4          10406728  deprecated       1720069  \n",
       "\n",
       "[5 rows x 38 columns]"
      ]
     },
     "execution_count": 8,
     "metadata": {},
     "output_type": "execute_result"
    }
   ],
   "source": [
    "account_token_transfers = es.get_account_token_transfers(accounts)\n",
    "time.sleep(1)\n",
    "account_token_transfers.head()"
   ]
  },
  {
   "cell_type": "markdown",
   "id": "370f56ba",
   "metadata": {},
   "source": [
    "### get_account_nft_transfers"
   ]
  },
  {
   "cell_type": "markdown",
   "id": "b1dcc694",
   "metadata": {},
   "source": [
    "Returns the list of ERC-721 ( NFT ) tokens transferred by an address, with optional filtering by token contract"
   ]
  },
  {
   "cell_type": "code",
   "execution_count": 9,
   "id": "ddd15e06",
   "metadata": {},
   "outputs": [
    {
     "data": {
      "text/html": [
       "<div>\n",
       "<style scoped>\n",
       "    .dataframe tbody tr th:only-of-type {\n",
       "        vertical-align: middle;\n",
       "    }\n",
       "\n",
       "    .dataframe tbody tr th {\n",
       "        vertical-align: top;\n",
       "    }\n",
       "\n",
       "    .dataframe thead tr th {\n",
       "        text-align: left;\n",
       "    }\n",
       "</style>\n",
       "<table border=\"1\" class=\"dataframe\">\n",
       "  <thead>\n",
       "    <tr>\n",
       "      <th></th>\n",
       "      <th colspan=\"10\" halign=\"left\">0xBa19BdFF99065d9ABF3dF8CE942390B97fd71B12</th>\n",
       "      <th>...</th>\n",
       "      <th colspan=\"10\" halign=\"left\">0x503e4bfe8299D486701BC7bc7F2Ea94f50035daC</th>\n",
       "    </tr>\n",
       "    <tr>\n",
       "      <th></th>\n",
       "      <th>blockNumber</th>\n",
       "      <th>timeStamp</th>\n",
       "      <th>hash</th>\n",
       "      <th>nonce</th>\n",
       "      <th>blockHash</th>\n",
       "      <th>from</th>\n",
       "      <th>contractAddress</th>\n",
       "      <th>to</th>\n",
       "      <th>tokenID</th>\n",
       "      <th>tokenName</th>\n",
       "      <th>...</th>\n",
       "      <th>tokenName</th>\n",
       "      <th>tokenSymbol</th>\n",
       "      <th>tokenDecimal</th>\n",
       "      <th>transactionIndex</th>\n",
       "      <th>gas</th>\n",
       "      <th>gasPrice</th>\n",
       "      <th>gasUsed</th>\n",
       "      <th>cumulativeGasUsed</th>\n",
       "      <th>input</th>\n",
       "      <th>confirmations</th>\n",
       "    </tr>\n",
       "  </thead>\n",
       "  <tbody>\n",
       "    <tr>\n",
       "      <th>0</th>\n",
       "      <td>12163335</td>\n",
       "      <td>1617409597</td>\n",
       "      <td>0x68141c1316d922ed5113e265a5d636f1ec6b090e7ea7...</td>\n",
       "      <td>7</td>\n",
       "      <td>0x50410977c4200551881195a8a82dc774f1ad856d1486...</td>\n",
       "      <td>0x283af0b28c62c092c9727f1ee09c02ca627eb7f5</td>\n",
       "      <td>0x57f1887a8bf19b14fc0df6fd9b2acc9af147ea85</td>\n",
       "      <td>0xba19bdff99065d9abf3df8ce942390b97fd71b12</td>\n",
       "      <td>4330337349596085516852643297037585621539016595...</td>\n",
       "      <td>Ethereum Name Service</td>\n",
       "      <td>...</td>\n",
       "      <td>Ethereum Name Service</td>\n",
       "      <td>ENS</td>\n",
       "      <td>0</td>\n",
       "      <td>141</td>\n",
       "      <td>316737</td>\n",
       "      <td>104000000000</td>\n",
       "      <td>274305</td>\n",
       "      <td>9723492</td>\n",
       "      <td>deprecated</td>\n",
       "      <td>1732403</td>\n",
       "    </tr>\n",
       "    <tr>\n",
       "      <th>1</th>\n",
       "      <td>13105774</td>\n",
       "      <td>1630044146</td>\n",
       "      <td>0xafeac0a71b170dc37ee03b12b6b063c930de3008986f...</td>\n",
       "      <td>154</td>\n",
       "      <td>0x06a55da3c1917d3401d32386e2e0ba931301363d2f63...</td>\n",
       "      <td>0x0000000000000000000000000000000000000000</td>\n",
       "      <td>0xdc8bed466ee117ebff8ee84896d6acd42170d4bb</td>\n",
       "      <td>0xba19bdff99065d9abf3df8ce942390b97fd71b12</td>\n",
       "      <td>1014</td>\n",
       "      <td>Non-Fungible Soup</td>\n",
       "      <td>...</td>\n",
       "      <td>NaN</td>\n",
       "      <td>NaN</td>\n",
       "      <td>NaN</td>\n",
       "      <td>NaN</td>\n",
       "      <td>NaN</td>\n",
       "      <td>NaN</td>\n",
       "      <td>NaN</td>\n",
       "      <td>NaN</td>\n",
       "      <td>NaN</td>\n",
       "      <td>NaN</td>\n",
       "    </tr>\n",
       "    <tr>\n",
       "      <th>2</th>\n",
       "      <td>13105774</td>\n",
       "      <td>1630044146</td>\n",
       "      <td>0xafeac0a71b170dc37ee03b12b6b063c930de3008986f...</td>\n",
       "      <td>154</td>\n",
       "      <td>0x06a55da3c1917d3401d32386e2e0ba931301363d2f63...</td>\n",
       "      <td>0x0000000000000000000000000000000000000000</td>\n",
       "      <td>0xdc8bed466ee117ebff8ee84896d6acd42170d4bb</td>\n",
       "      <td>0xba19bdff99065d9abf3df8ce942390b97fd71b12</td>\n",
       "      <td>1585</td>\n",
       "      <td>Non-Fungible Soup</td>\n",
       "      <td>...</td>\n",
       "      <td>NaN</td>\n",
       "      <td>NaN</td>\n",
       "      <td>NaN</td>\n",
       "      <td>NaN</td>\n",
       "      <td>NaN</td>\n",
       "      <td>NaN</td>\n",
       "      <td>NaN</td>\n",
       "      <td>NaN</td>\n",
       "      <td>NaN</td>\n",
       "      <td>NaN</td>\n",
       "    </tr>\n",
       "    <tr>\n",
       "      <th>3</th>\n",
       "      <td>13105774</td>\n",
       "      <td>1630044146</td>\n",
       "      <td>0xafeac0a71b170dc37ee03b12b6b063c930de3008986f...</td>\n",
       "      <td>154</td>\n",
       "      <td>0x06a55da3c1917d3401d32386e2e0ba931301363d2f63...</td>\n",
       "      <td>0x0000000000000000000000000000000000000000</td>\n",
       "      <td>0xdc8bed466ee117ebff8ee84896d6acd42170d4bb</td>\n",
       "      <td>0xba19bdff99065d9abf3df8ce942390b97fd71b12</td>\n",
       "      <td>108</td>\n",
       "      <td>Non-Fungible Soup</td>\n",
       "      <td>...</td>\n",
       "      <td>NaN</td>\n",
       "      <td>NaN</td>\n",
       "      <td>NaN</td>\n",
       "      <td>NaN</td>\n",
       "      <td>NaN</td>\n",
       "      <td>NaN</td>\n",
       "      <td>NaN</td>\n",
       "      <td>NaN</td>\n",
       "      <td>NaN</td>\n",
       "      <td>NaN</td>\n",
       "    </tr>\n",
       "    <tr>\n",
       "      <th>4</th>\n",
       "      <td>13108127</td>\n",
       "      <td>1630076779</td>\n",
       "      <td>0xa63f272d0089e3c0f3af4f11a817dacda9a203e35bb1...</td>\n",
       "      <td>155</td>\n",
       "      <td>0xa9e53c0bc8f6abb2c5e1a8c73d5ea7e7b4528d872834...</td>\n",
       "      <td>0xba19bdff99065d9abf3df8ce942390b97fd71b12</td>\n",
       "      <td>0xdc8bed466ee117ebff8ee84896d6acd42170d4bb</td>\n",
       "      <td>0x07bbf9fdb156f298bec53cefa3652954a0738ed1</td>\n",
       "      <td>1585</td>\n",
       "      <td>Non-Fungible Soup</td>\n",
       "      <td>...</td>\n",
       "      <td>NaN</td>\n",
       "      <td>NaN</td>\n",
       "      <td>NaN</td>\n",
       "      <td>NaN</td>\n",
       "      <td>NaN</td>\n",
       "      <td>NaN</td>\n",
       "      <td>NaN</td>\n",
       "      <td>NaN</td>\n",
       "      <td>NaN</td>\n",
       "      <td>NaN</td>\n",
       "    </tr>\n",
       "  </tbody>\n",
       "</table>\n",
       "<p>5 rows × 38 columns</p>\n",
       "</div>"
      ],
      "text/plain": [
       "  0xBa19BdFF99065d9ABF3dF8CE942390B97fd71B12              \\\n",
       "                                 blockNumber   timeStamp   \n",
       "0                                   12163335  1617409597   \n",
       "1                                   13105774  1630044146   \n",
       "2                                   13105774  1630044146   \n",
       "3                                   13105774  1630044146   \n",
       "4                                   13108127  1630076779   \n",
       "\n",
       "                                                            \\\n",
       "                                                hash nonce   \n",
       "0  0x68141c1316d922ed5113e265a5d636f1ec6b090e7ea7...     7   \n",
       "1  0xafeac0a71b170dc37ee03b12b6b063c930de3008986f...   154   \n",
       "2  0xafeac0a71b170dc37ee03b12b6b063c930de3008986f...   154   \n",
       "3  0xafeac0a71b170dc37ee03b12b6b063c930de3008986f...   154   \n",
       "4  0xa63f272d0089e3c0f3af4f11a817dacda9a203e35bb1...   155   \n",
       "\n",
       "                                                      \\\n",
       "                                           blockHash   \n",
       "0  0x50410977c4200551881195a8a82dc774f1ad856d1486...   \n",
       "1  0x06a55da3c1917d3401d32386e2e0ba931301363d2f63...   \n",
       "2  0x06a55da3c1917d3401d32386e2e0ba931301363d2f63...   \n",
       "3  0x06a55da3c1917d3401d32386e2e0ba931301363d2f63...   \n",
       "4  0xa9e53c0bc8f6abb2c5e1a8c73d5ea7e7b4528d872834...   \n",
       "\n",
       "                                               \\\n",
       "                                         from   \n",
       "0  0x283af0b28c62c092c9727f1ee09c02ca627eb7f5   \n",
       "1  0x0000000000000000000000000000000000000000   \n",
       "2  0x0000000000000000000000000000000000000000   \n",
       "3  0x0000000000000000000000000000000000000000   \n",
       "4  0xba19bdff99065d9abf3df8ce942390b97fd71b12   \n",
       "\n",
       "                                               \\\n",
       "                              contractAddress   \n",
       "0  0x57f1887a8bf19b14fc0df6fd9b2acc9af147ea85   \n",
       "1  0xdc8bed466ee117ebff8ee84896d6acd42170d4bb   \n",
       "2  0xdc8bed466ee117ebff8ee84896d6acd42170d4bb   \n",
       "3  0xdc8bed466ee117ebff8ee84896d6acd42170d4bb   \n",
       "4  0xdc8bed466ee117ebff8ee84896d6acd42170d4bb   \n",
       "\n",
       "                                               \\\n",
       "                                           to   \n",
       "0  0xba19bdff99065d9abf3df8ce942390b97fd71b12   \n",
       "1  0xba19bdff99065d9abf3df8ce942390b97fd71b12   \n",
       "2  0xba19bdff99065d9abf3df8ce942390b97fd71b12   \n",
       "3  0xba19bdff99065d9abf3df8ce942390b97fd71b12   \n",
       "4  0x07bbf9fdb156f298bec53cefa3652954a0738ed1   \n",
       "\n",
       "                                                                             \\\n",
       "                                             tokenID              tokenName   \n",
       "0  4330337349596085516852643297037585621539016595...  Ethereum Name Service   \n",
       "1                                               1014      Non-Fungible Soup   \n",
       "2                                               1585      Non-Fungible Soup   \n",
       "3                                                108      Non-Fungible Soup   \n",
       "4                                               1585      Non-Fungible Soup   \n",
       "\n",
       "   ... 0x503e4bfe8299D486701BC7bc7F2Ea94f50035daC                           \\\n",
       "   ...                                  tokenName tokenSymbol tokenDecimal   \n",
       "0  ...                      Ethereum Name Service         ENS            0   \n",
       "1  ...                                        NaN         NaN          NaN   \n",
       "2  ...                                        NaN         NaN          NaN   \n",
       "3  ...                                        NaN         NaN          NaN   \n",
       "4  ...                                        NaN         NaN          NaN   \n",
       "\n",
       "                                                                    \\\n",
       "  transactionIndex     gas      gasPrice gasUsed cumulativeGasUsed   \n",
       "0              141  316737  104000000000  274305           9723492   \n",
       "1              NaN     NaN           NaN     NaN               NaN   \n",
       "2              NaN     NaN           NaN     NaN               NaN   \n",
       "3              NaN     NaN           NaN     NaN               NaN   \n",
       "4              NaN     NaN           NaN     NaN               NaN   \n",
       "\n",
       "                             \n",
       "        input confirmations  \n",
       "0  deprecated       1732403  \n",
       "1         NaN           NaN  \n",
       "2         NaN           NaN  \n",
       "3         NaN           NaN  \n",
       "4         NaN           NaN  \n",
       "\n",
       "[5 rows x 38 columns]"
      ]
     },
     "execution_count": 9,
     "metadata": {},
     "output_type": "execute_result"
    }
   ],
   "source": [
    "account_nft_transfers = es.get_account_nft_transfers(accounts)\n",
    "time.sleep(1)\n",
    "account_nft_transfers.head()"
   ]
  },
  {
   "cell_type": "markdown",
   "id": "4e6e5202",
   "metadata": {},
   "source": [
    "### get_account_blocks_mined"
   ]
  },
  {
   "cell_type": "markdown",
   "id": "bef06eb7",
   "metadata": {},
   "source": [
    "Returns the list of blocks mined by an address"
   ]
  },
  {
   "cell_type": "code",
   "execution_count": 10,
   "id": "cedbed4e",
   "metadata": {},
   "outputs": [
    {
     "data": {
      "text/html": [
       "<div>\n",
       "<style scoped>\n",
       "    .dataframe tbody tr th:only-of-type {\n",
       "        vertical-align: middle;\n",
       "    }\n",
       "\n",
       "    .dataframe tbody tr th {\n",
       "        vertical-align: top;\n",
       "    }\n",
       "\n",
       "    .dataframe thead tr th {\n",
       "        text-align: left;\n",
       "    }\n",
       "</style>\n",
       "<table border=\"1\" class=\"dataframe\">\n",
       "  <thead>\n",
       "    <tr>\n",
       "      <th></th>\n",
       "      <th colspan=\"3\" halign=\"left\">0xEA674fdDe714fd979de3EdF0F56AA9716B898ec8</th>\n",
       "      <th colspan=\"3\" halign=\"left\">0x829BD824B016326A401d083B33D092293333A830</th>\n",
       "    </tr>\n",
       "    <tr>\n",
       "      <th></th>\n",
       "      <th>blockNumber</th>\n",
       "      <th>timeStamp</th>\n",
       "      <th>blockReward</th>\n",
       "      <th>blockNumber</th>\n",
       "      <th>timeStamp</th>\n",
       "      <th>blockReward</th>\n",
       "    </tr>\n",
       "  </thead>\n",
       "  <tbody>\n",
       "    <tr>\n",
       "      <th>0</th>\n",
       "      <td>13760471</td>\n",
       "      <td>1638906350</td>\n",
       "      <td>2069107837422013705</td>\n",
       "      <td>13760473</td>\n",
       "      <td>1638906400</td>\n",
       "      <td>2266153039252558524</td>\n",
       "    </tr>\n",
       "    <tr>\n",
       "      <th>1</th>\n",
       "      <td>13760463</td>\n",
       "      <td>1638906262</td>\n",
       "      <td>2008450436837187292</td>\n",
       "      <td>13760468</td>\n",
       "      <td>1638906294</td>\n",
       "      <td>2212928743818686923</td>\n",
       "    </tr>\n",
       "    <tr>\n",
       "      <th>2</th>\n",
       "      <td>13760462</td>\n",
       "      <td>1638906255</td>\n",
       "      <td>2112547329746343328</td>\n",
       "      <td>13760461</td>\n",
       "      <td>1638906230</td>\n",
       "      <td>2267134191255677506</td>\n",
       "    </tr>\n",
       "    <tr>\n",
       "      <th>3</th>\n",
       "      <td>13760457</td>\n",
       "      <td>1638906196</td>\n",
       "      <td>2062657777672694362</td>\n",
       "      <td>13760460</td>\n",
       "      <td>1638906222</td>\n",
       "      <td>2051296828847996611</td>\n",
       "    </tr>\n",
       "    <tr>\n",
       "      <th>4</th>\n",
       "      <td>13760455</td>\n",
       "      <td>1638906147</td>\n",
       "      <td>2144610484990289572</td>\n",
       "      <td>13760458</td>\n",
       "      <td>1638906203</td>\n",
       "      <td>2065676034674585597</td>\n",
       "    </tr>\n",
       "  </tbody>\n",
       "</table>\n",
       "</div>"
      ],
      "text/plain": [
       "  0xEA674fdDe714fd979de3EdF0F56AA9716B898ec8                                   \\\n",
       "                                 blockNumber   timeStamp          blockReward   \n",
       "0                                   13760471  1638906350  2069107837422013705   \n",
       "1                                   13760463  1638906262  2008450436837187292   \n",
       "2                                   13760462  1638906255  2112547329746343328   \n",
       "3                                   13760457  1638906196  2062657777672694362   \n",
       "4                                   13760455  1638906147  2144610484990289572   \n",
       "\n",
       "  0x829BD824B016326A401d083B33D092293333A830                                   \n",
       "                                 blockNumber   timeStamp          blockReward  \n",
       "0                                   13760473  1638906400  2266153039252558524  \n",
       "1                                   13760468  1638906294  2212928743818686923  \n",
       "2                                   13760461  1638906230  2267134191255677506  \n",
       "3                                   13760460  1638906222  2051296828847996611  \n",
       "4                                   13760458  1638906203  2065676034674585597  "
      ]
     },
     "execution_count": 10,
     "metadata": {},
     "output_type": "execute_result"
    }
   ],
   "source": [
    "# Ethermine pubkey, F2Pool Old pubkey\n",
    "miners = ['0xEA674fdDe714fd979de3EdF0F56AA9716B898ec8', '0x829BD824B016326A401d083B33D092293333A830']\n",
    "account_blocks_mined = es.get_account_blocks_mined(miners)\n",
    "time.sleep(1)\n",
    "account_blocks_mined.head()"
   ]
  },
  {
   "cell_type": "markdown",
   "id": "ecf32244",
   "metadata": {},
   "source": [
    "## Contracts"
   ]
  },
  {
   "cell_type": "markdown",
   "id": "0d581372",
   "metadata": {},
   "source": [
    "Functions to return information about contracts"
   ]
  },
  {
   "cell_type": "code",
   "execution_count": 11,
   "id": "01fb4f5b",
   "metadata": {},
   "outputs": [],
   "source": [
    "# Sushiswap Router, Ygov Contract\n",
    "contracts = ['0xd9e1cE17f2641f24aE83637ab66a2cca9C378B9F', '0x0001FB050Fe7312791bF6475b96569D83F695C9f']"
   ]
  },
  {
   "cell_type": "markdown",
   "id": "0848243e",
   "metadata": {},
   "source": [
    "### get_contract_abi"
   ]
  },
  {
   "cell_type": "markdown",
   "id": "b7f8cb09",
   "metadata": {},
   "source": [
    "Returns the Contract Application Binary Interface (ABI) of a verified smart contract"
   ]
  },
  {
   "cell_type": "code",
   "execution_count": 12,
   "id": "a48d49ef",
   "metadata": {},
   "outputs": [
    {
     "data": {
      "text/plain": [
       "{'0xd9e1cE17f2641f24aE83637ab66a2cca9C378B9F': '[{\"inputs\":[{\"internalType\":\"address\",\"name\":\"_factory\",\"type\":\"address\"},{\"internalType\":\"address\",\"name\":\"_WETH\",\"type\":\"address\"}],\"stateMutability\":\"nonpayable\",\"type\":\"constructor\"},{\"inputs\":[],\"name\":\"WETH\",\"outputs\":[{\"internalType\":\"address\",\"name\":\"\",\"type\":\"address\"}],\"stateMutability\":\"view\",\"type\":\"function\"},{\"inputs\":[{\"internalType\":\"address\",\"name\":\"tokenA\",\"type\":\"address\"},{\"internalType\":\"address\",\"name\":\"tokenB\",\"type\":\"address\"},{\"internalType\":\"uint256\",\"name\":\"amountADesired\",\"type\":\"uint256\"},{\"internalType\":\"uint256\",\"name\":\"amountBDesired\",\"type\":\"uint256\"},{\"internalType\":\"uint256\",\"name\":\"amountAMin\",\"type\":\"uint256\"},{\"internalType\":\"uint256\",\"name\":\"amountBMin\",\"type\":\"uint256\"},{\"internalType\":\"address\",\"name\":\"to\",\"type\":\"address\"},{\"internalType\":\"uint256\",\"name\":\"deadline\",\"type\":\"uint256\"}],\"name\":\"addLiquidity\",\"outputs\":[{\"internalType\":\"uint256\",\"name\":\"amountA\",\"type\":\"uint256\"},{\"internalType\":\"uint256\",\"name\":\"amountB\",\"type\":\"uint256\"},{\"internalType\":\"uint256\",\"name\":\"liquidity\",\"type\":\"uint256\"}],\"stateMutability\":\"nonpayable\",\"type\":\"function\"},{\"inputs\":[{\"internalType\":\"address\",\"name\":\"token\",\"type\":\"address\"},{\"internalType\":\"uint256\",\"name\":\"amountTokenDesired\",\"type\":\"uint256\"},{\"internalType\":\"uint256\",\"name\":\"amountTokenMin\",\"type\":\"uint256\"},{\"internalType\":\"uint256\",\"name\":\"amountETHMin\",\"type\":\"uint256\"},{\"internalType\":\"address\",\"name\":\"to\",\"type\":\"address\"},{\"internalType\":\"uint256\",\"name\":\"deadline\",\"type\":\"uint256\"}],\"name\":\"addLiquidityETH\",\"outputs\":[{\"internalType\":\"uint256\",\"name\":\"amountToken\",\"type\":\"uint256\"},{\"internalType\":\"uint256\",\"name\":\"amountETH\",\"type\":\"uint256\"},{\"internalType\":\"uint256\",\"name\":\"liquidity\",\"type\":\"uint256\"}],\"stateMutability\":\"payable\",\"type\":\"function\"},{\"inputs\":[],\"name\":\"factory\",\"outputs\":[{\"internalType\":\"address\",\"name\":\"\",\"type\":\"address\"}],\"stateMutability\":\"view\",\"type\":\"function\"},{\"inputs\":[{\"internalType\":\"uint256\",\"name\":\"amountOut\",\"type\":\"uint256\"},{\"internalType\":\"uint256\",\"name\":\"reserveIn\",\"type\":\"uint256\"},{\"internalType\":\"uint256\",\"name\":\"reserveOut\",\"type\":\"uint256\"}],\"name\":\"getAmountIn\",\"outputs\":[{\"internalType\":\"uint256\",\"name\":\"amountIn\",\"type\":\"uint256\"}],\"stateMutability\":\"pure\",\"type\":\"function\"},{\"inputs\":[{\"internalType\":\"uint256\",\"name\":\"amountIn\",\"type\":\"uint256\"},{\"internalType\":\"uint256\",\"name\":\"reserveIn\",\"type\":\"uint256\"},{\"internalType\":\"uint256\",\"name\":\"reserveOut\",\"type\":\"uint256\"}],\"name\":\"getAmountOut\",\"outputs\":[{\"internalType\":\"uint256\",\"name\":\"amountOut\",\"type\":\"uint256\"}],\"stateMutability\":\"pure\",\"type\":\"function\"},{\"inputs\":[{\"internalType\":\"uint256\",\"name\":\"amountOut\",\"type\":\"uint256\"},{\"internalType\":\"address[]\",\"name\":\"path\",\"type\":\"address[]\"}],\"name\":\"getAmountsIn\",\"outputs\":[{\"internalType\":\"uint256[]\",\"name\":\"amounts\",\"type\":\"uint256[]\"}],\"stateMutability\":\"view\",\"type\":\"function\"},{\"inputs\":[{\"internalType\":\"uint256\",\"name\":\"amountIn\",\"type\":\"uint256\"},{\"internalType\":\"address[]\",\"name\":\"path\",\"type\":\"address[]\"}],\"name\":\"getAmountsOut\",\"outputs\":[{\"internalType\":\"uint256[]\",\"name\":\"amounts\",\"type\":\"uint256[]\"}],\"stateMutability\":\"view\",\"type\":\"function\"},{\"inputs\":[{\"internalType\":\"uint256\",\"name\":\"amountA\",\"type\":\"uint256\"},{\"internalType\":\"uint256\",\"name\":\"reserveA\",\"type\":\"uint256\"},{\"internalType\":\"uint256\",\"name\":\"reserveB\",\"type\":\"uint256\"}],\"name\":\"quote\",\"outputs\":[{\"internalType\":\"uint256\",\"name\":\"amountB\",\"type\":\"uint256\"}],\"stateMutability\":\"pure\",\"type\":\"function\"},{\"inputs\":[{\"internalType\":\"address\",\"name\":\"tokenA\",\"type\":\"address\"},{\"internalType\":\"address\",\"name\":\"tokenB\",\"type\":\"address\"},{\"internalType\":\"uint256\",\"name\":\"liquidity\",\"type\":\"uint256\"},{\"internalType\":\"uint256\",\"name\":\"amountAMin\",\"type\":\"uint256\"},{\"internalType\":\"uint256\",\"name\":\"amountBMin\",\"type\":\"uint256\"},{\"internalType\":\"address\",\"name\":\"to\",\"type\":\"address\"},{\"internalType\":\"uint256\",\"name\":\"deadline\",\"type\":\"uint256\"}],\"name\":\"removeLiquidity\",\"outputs\":[{\"internalType\":\"uint256\",\"name\":\"amountA\",\"type\":\"uint256\"},{\"internalType\":\"uint256\",\"name\":\"amountB\",\"type\":\"uint256\"}],\"stateMutability\":\"nonpayable\",\"type\":\"function\"},{\"inputs\":[{\"internalType\":\"address\",\"name\":\"token\",\"type\":\"address\"},{\"internalType\":\"uint256\",\"name\":\"liquidity\",\"type\":\"uint256\"},{\"internalType\":\"uint256\",\"name\":\"amountTokenMin\",\"type\":\"uint256\"},{\"internalType\":\"uint256\",\"name\":\"amountETHMin\",\"type\":\"uint256\"},{\"internalType\":\"address\",\"name\":\"to\",\"type\":\"address\"},{\"internalType\":\"uint256\",\"name\":\"deadline\",\"type\":\"uint256\"}],\"name\":\"removeLiquidityETH\",\"outputs\":[{\"internalType\":\"uint256\",\"name\":\"amountToken\",\"type\":\"uint256\"},{\"internalType\":\"uint256\",\"name\":\"amountETH\",\"type\":\"uint256\"}],\"stateMutability\":\"nonpayable\",\"type\":\"function\"},{\"inputs\":[{\"internalType\":\"address\",\"name\":\"token\",\"type\":\"address\"},{\"internalType\":\"uint256\",\"name\":\"liquidity\",\"type\":\"uint256\"},{\"internalType\":\"uint256\",\"name\":\"amountTokenMin\",\"type\":\"uint256\"},{\"internalType\":\"uint256\",\"name\":\"amountETHMin\",\"type\":\"uint256\"},{\"internalType\":\"address\",\"name\":\"to\",\"type\":\"address\"},{\"internalType\":\"uint256\",\"name\":\"deadline\",\"type\":\"uint256\"}],\"name\":\"removeLiquidityETHSupportingFeeOnTransferTokens\",\"outputs\":[{\"internalType\":\"uint256\",\"name\":\"amountETH\",\"type\":\"uint256\"}],\"stateMutability\":\"nonpayable\",\"type\":\"function\"},{\"inputs\":[{\"internalType\":\"address\",\"name\":\"token\",\"type\":\"address\"},{\"internalType\":\"uint256\",\"name\":\"liquidity\",\"type\":\"uint256\"},{\"internalType\":\"uint256\",\"name\":\"amountTokenMin\",\"type\":\"uint256\"},{\"internalType\":\"uint256\",\"name\":\"amountETHMin\",\"type\":\"uint256\"},{\"internalType\":\"address\",\"name\":\"to\",\"type\":\"address\"},{\"internalType\":\"uint256\",\"name\":\"deadline\",\"type\":\"uint256\"},{\"internalType\":\"bool\",\"name\":\"approveMax\",\"type\":\"bool\"},{\"internalType\":\"uint8\",\"name\":\"v\",\"type\":\"uint8\"},{\"internalType\":\"bytes32\",\"name\":\"r\",\"type\":\"bytes32\"},{\"internalType\":\"bytes32\",\"name\":\"s\",\"type\":\"bytes32\"}],\"name\":\"removeLiquidityETHWithPermit\",\"outputs\":[{\"internalType\":\"uint256\",\"name\":\"amountToken\",\"type\":\"uint256\"},{\"internalType\":\"uint256\",\"name\":\"amountETH\",\"type\":\"uint256\"}],\"stateMutability\":\"nonpayable\",\"type\":\"function\"},{\"inputs\":[{\"internalType\":\"address\",\"name\":\"token\",\"type\":\"address\"},{\"internalType\":\"uint256\",\"name\":\"liquidity\",\"type\":\"uint256\"},{\"internalType\":\"uint256\",\"name\":\"amountTokenMin\",\"type\":\"uint256\"},{\"internalType\":\"uint256\",\"name\":\"amountETHMin\",\"type\":\"uint256\"},{\"internalType\":\"address\",\"name\":\"to\",\"type\":\"address\"},{\"internalType\":\"uint256\",\"name\":\"deadline\",\"type\":\"uint256\"},{\"internalType\":\"bool\",\"name\":\"approveMax\",\"type\":\"bool\"},{\"internalType\":\"uint8\",\"name\":\"v\",\"type\":\"uint8\"},{\"internalType\":\"bytes32\",\"name\":\"r\",\"type\":\"bytes32\"},{\"internalType\":\"bytes32\",\"name\":\"s\",\"type\":\"bytes32\"}],\"name\":\"removeLiquidityETHWithPermitSupportingFeeOnTransferTokens\",\"outputs\":[{\"internalType\":\"uint256\",\"name\":\"amountETH\",\"type\":\"uint256\"}],\"stateMutability\":\"nonpayable\",\"type\":\"function\"},{\"inputs\":[{\"internalType\":\"address\",\"name\":\"tokenA\",\"type\":\"address\"},{\"internalType\":\"address\",\"name\":\"tokenB\",\"type\":\"address\"},{\"internalType\":\"uint256\",\"name\":\"liquidity\",\"type\":\"uint256\"},{\"internalType\":\"uint256\",\"name\":\"amountAMin\",\"type\":\"uint256\"},{\"internalType\":\"uint256\",\"name\":\"amountBMin\",\"type\":\"uint256\"},{\"internalType\":\"address\",\"name\":\"to\",\"type\":\"address\"},{\"internalType\":\"uint256\",\"name\":\"deadline\",\"type\":\"uint256\"},{\"internalType\":\"bool\",\"name\":\"approveMax\",\"type\":\"bool\"},{\"internalType\":\"uint8\",\"name\":\"v\",\"type\":\"uint8\"},{\"internalType\":\"bytes32\",\"name\":\"r\",\"type\":\"bytes32\"},{\"internalType\":\"bytes32\",\"name\":\"s\",\"type\":\"bytes32\"}],\"name\":\"removeLiquidityWithPermit\",\"outputs\":[{\"internalType\":\"uint256\",\"name\":\"amountA\",\"type\":\"uint256\"},{\"internalType\":\"uint256\",\"name\":\"amountB\",\"type\":\"uint256\"}],\"stateMutability\":\"nonpayable\",\"type\":\"function\"},{\"inputs\":[{\"internalType\":\"uint256\",\"name\":\"amountOut\",\"type\":\"uint256\"},{\"internalType\":\"address[]\",\"name\":\"path\",\"type\":\"address[]\"},{\"internalType\":\"address\",\"name\":\"to\",\"type\":\"address\"},{\"internalType\":\"uint256\",\"name\":\"deadline\",\"type\":\"uint256\"}],\"name\":\"swapETHForExactTokens\",\"outputs\":[{\"internalType\":\"uint256[]\",\"name\":\"amounts\",\"type\":\"uint256[]\"}],\"stateMutability\":\"payable\",\"type\":\"function\"},{\"inputs\":[{\"internalType\":\"uint256\",\"name\":\"amountOutMin\",\"type\":\"uint256\"},{\"internalType\":\"address[]\",\"name\":\"path\",\"type\":\"address[]\"},{\"internalType\":\"address\",\"name\":\"to\",\"type\":\"address\"},{\"internalType\":\"uint256\",\"name\":\"deadline\",\"type\":\"uint256\"}],\"name\":\"swapExactETHForTokens\",\"outputs\":[{\"internalType\":\"uint256[]\",\"name\":\"amounts\",\"type\":\"uint256[]\"}],\"stateMutability\":\"payable\",\"type\":\"function\"},{\"inputs\":[{\"internalType\":\"uint256\",\"name\":\"amountOutMin\",\"type\":\"uint256\"},{\"internalType\":\"address[]\",\"name\":\"path\",\"type\":\"address[]\"},{\"internalType\":\"address\",\"name\":\"to\",\"type\":\"address\"},{\"internalType\":\"uint256\",\"name\":\"deadline\",\"type\":\"uint256\"}],\"name\":\"swapExactETHForTokensSupportingFeeOnTransferTokens\",\"outputs\":[],\"stateMutability\":\"payable\",\"type\":\"function\"},{\"inputs\":[{\"internalType\":\"uint256\",\"name\":\"amountIn\",\"type\":\"uint256\"},{\"internalType\":\"uint256\",\"name\":\"amountOutMin\",\"type\":\"uint256\"},{\"internalType\":\"address[]\",\"name\":\"path\",\"type\":\"address[]\"},{\"internalType\":\"address\",\"name\":\"to\",\"type\":\"address\"},{\"internalType\":\"uint256\",\"name\":\"deadline\",\"type\":\"uint256\"}],\"name\":\"swapExactTokensForETH\",\"outputs\":[{\"internalType\":\"uint256[]\",\"name\":\"amounts\",\"type\":\"uint256[]\"}],\"stateMutability\":\"nonpayable\",\"type\":\"function\"},{\"inputs\":[{\"internalType\":\"uint256\",\"name\":\"amountIn\",\"type\":\"uint256\"},{\"internalType\":\"uint256\",\"name\":\"amountOutMin\",\"type\":\"uint256\"},{\"internalType\":\"address[]\",\"name\":\"path\",\"type\":\"address[]\"},{\"internalType\":\"address\",\"name\":\"to\",\"type\":\"address\"},{\"internalType\":\"uint256\",\"name\":\"deadline\",\"type\":\"uint256\"}],\"name\":\"swapExactTokensForETHSupportingFeeOnTransferTokens\",\"outputs\":[],\"stateMutability\":\"nonpayable\",\"type\":\"function\"},{\"inputs\":[{\"internalType\":\"uint256\",\"name\":\"amountIn\",\"type\":\"uint256\"},{\"internalType\":\"uint256\",\"name\":\"amountOutMin\",\"type\":\"uint256\"},{\"internalType\":\"address[]\",\"name\":\"path\",\"type\":\"address[]\"},{\"internalType\":\"address\",\"name\":\"to\",\"type\":\"address\"},{\"internalType\":\"uint256\",\"name\":\"deadline\",\"type\":\"uint256\"}],\"name\":\"swapExactTokensForTokens\",\"outputs\":[{\"internalType\":\"uint256[]\",\"name\":\"amounts\",\"type\":\"uint256[]\"}],\"stateMutability\":\"nonpayable\",\"type\":\"function\"},{\"inputs\":[{\"internalType\":\"uint256\",\"name\":\"amountIn\",\"type\":\"uint256\"},{\"internalType\":\"uint256\",\"name\":\"amountOutMin\",\"type\":\"uint256\"},{\"internalType\":\"address[]\",\"name\":\"path\",\"type\":\"address[]\"},{\"internalType\":\"address\",\"name\":\"to\",\"type\":\"address\"},{\"internalType\":\"uint256\",\"name\":\"deadline\",\"type\":\"uint256\"}],\"name\":\"swapExactTokensForTokensSupportingFeeOnTransferTokens\",\"outputs\":[],\"stateMutability\":\"nonpayable\",\"type\":\"function\"},{\"inputs\":[{\"internalType\":\"uint256\",\"name\":\"amountOut\",\"type\":\"uint256\"},{\"internalType\":\"uint256\",\"name\":\"amountInMax\",\"type\":\"uint256\"},{\"internalType\":\"address[]\",\"name\":\"path\",\"type\":\"address[]\"},{\"internalType\":\"address\",\"name\":\"to\",\"type\":\"address\"},{\"internalType\":\"uint256\",\"name\":\"deadline\",\"type\":\"uint256\"}],\"name\":\"swapTokensForExactETH\",\"outputs\":[{\"internalType\":\"uint256[]\",\"name\":\"amounts\",\"type\":\"uint256[]\"}],\"stateMutability\":\"nonpayable\",\"type\":\"function\"},{\"inputs\":[{\"internalType\":\"uint256\",\"name\":\"amountOut\",\"type\":\"uint256\"},{\"internalType\":\"uint256\",\"name\":\"amountInMax\",\"type\":\"uint256\"},{\"internalType\":\"address[]\",\"name\":\"path\",\"type\":\"address[]\"},{\"internalType\":\"address\",\"name\":\"to\",\"type\":\"address\"},{\"internalType\":\"uint256\",\"name\":\"deadline\",\"type\":\"uint256\"}],\"name\":\"swapTokensForExactTokens\",\"outputs\":[{\"internalType\":\"uint256[]\",\"name\":\"amounts\",\"type\":\"uint256[]\"}],\"stateMutability\":\"nonpayable\",\"type\":\"function\"},{\"stateMutability\":\"payable\",\"type\":\"receive\"}]',\n",
       " '0x0001FB050Fe7312791bF6475b96569D83F695C9f': '[{\"anonymous\":false,\"inputs\":[{\"indexed\":true,\"internalType\":\"address\",\"name\":\"previousOwner\",\"type\":\"address\"},{\"indexed\":true,\"internalType\":\"address\",\"name\":\"newOwner\",\"type\":\"address\"}],\"name\":\"OwnershipTransferred\",\"type\":\"event\"},{\"anonymous\":false,\"inputs\":[{\"indexed\":false,\"internalType\":\"uint256\",\"name\":\"reward\",\"type\":\"uint256\"}],\"name\":\"RewardAdded\",\"type\":\"event\"},{\"anonymous\":false,\"inputs\":[{\"indexed\":true,\"internalType\":\"address\",\"name\":\"user\",\"type\":\"address\"},{\"indexed\":false,\"internalType\":\"uint256\",\"name\":\"reward\",\"type\":\"uint256\"}],\"name\":\"RewardPaid\",\"type\":\"event\"},{\"anonymous\":false,\"inputs\":[{\"indexed\":true,\"internalType\":\"address\",\"name\":\"user\",\"type\":\"address\"},{\"indexed\":false,\"internalType\":\"uint256\",\"name\":\"amount\",\"type\":\"uint256\"}],\"name\":\"Staked\",\"type\":\"event\"},{\"anonymous\":false,\"inputs\":[{\"indexed\":true,\"internalType\":\"address\",\"name\":\"user\",\"type\":\"address\"},{\"indexed\":false,\"internalType\":\"uint256\",\"name\":\"amount\",\"type\":\"uint256\"}],\"name\":\"Withdrawn\",\"type\":\"event\"},{\"constant\":true,\"inputs\":[],\"name\":\"DURATION\",\"outputs\":[{\"internalType\":\"uint256\",\"name\":\"\",\"type\":\"uint256\"}],\"payable\":false,\"stateMutability\":\"view\",\"type\":\"function\"},{\"constant\":true,\"inputs\":[{\"internalType\":\"address\",\"name\":\"account\",\"type\":\"address\"}],\"name\":\"balanceOf\",\"outputs\":[{\"internalType\":\"uint256\",\"name\":\"\",\"type\":\"uint256\"}],\"payable\":false,\"stateMutability\":\"view\",\"type\":\"function\"},{\"constant\":true,\"inputs\":[{\"internalType\":\"address\",\"name\":\"account\",\"type\":\"address\"}],\"name\":\"earned\",\"outputs\":[{\"internalType\":\"uint256\",\"name\":\"\",\"type\":\"uint256\"}],\"payable\":false,\"stateMutability\":\"view\",\"type\":\"function\"},{\"constant\":false,\"inputs\":[],\"name\":\"exit\",\"outputs\":[],\"payable\":false,\"stateMutability\":\"nonpayable\",\"type\":\"function\"},{\"constant\":false,\"inputs\":[],\"name\":\"getReward\",\"outputs\":[],\"payable\":false,\"stateMutability\":\"nonpayable\",\"type\":\"function\"},{\"constant\":true,\"inputs\":[],\"name\":\"isOwner\",\"outputs\":[{\"internalType\":\"bool\",\"name\":\"\",\"type\":\"bool\"}],\"payable\":false,\"stateMutability\":\"view\",\"type\":\"function\"},{\"constant\":true,\"inputs\":[],\"name\":\"lastTimeRewardApplicable\",\"outputs\":[{\"internalType\":\"uint256\",\"name\":\"\",\"type\":\"uint256\"}],\"payable\":false,\"stateMutability\":\"view\",\"type\":\"function\"},{\"constant\":true,\"inputs\":[],\"name\":\"lastUpdateTime\",\"outputs\":[{\"internalType\":\"uint256\",\"name\":\"\",\"type\":\"uint256\"}],\"payable\":false,\"stateMutability\":\"view\",\"type\":\"function\"},{\"constant\":false,\"inputs\":[{\"internalType\":\"uint256\",\"name\":\"reward\",\"type\":\"uint256\"}],\"name\":\"notifyRewardAmount\",\"outputs\":[],\"payable\":false,\"stateMutability\":\"nonpayable\",\"type\":\"function\"},{\"constant\":true,\"inputs\":[],\"name\":\"owner\",\"outputs\":[{\"internalType\":\"address\",\"name\":\"\",\"type\":\"address\"}],\"payable\":false,\"stateMutability\":\"view\",\"type\":\"function\"},{\"constant\":true,\"inputs\":[],\"name\":\"periodFinish\",\"outputs\":[{\"internalType\":\"uint256\",\"name\":\"\",\"type\":\"uint256\"}],\"payable\":false,\"stateMutability\":\"view\",\"type\":\"function\"},{\"constant\":false,\"inputs\":[],\"name\":\"renounceOwnership\",\"outputs\":[],\"payable\":false,\"stateMutability\":\"nonpayable\",\"type\":\"function\"},{\"constant\":true,\"inputs\":[],\"name\":\"rewardPerToken\",\"outputs\":[{\"internalType\":\"uint256\",\"name\":\"\",\"type\":\"uint256\"}],\"payable\":false,\"stateMutability\":\"view\",\"type\":\"function\"},{\"constant\":true,\"inputs\":[],\"name\":\"rewardPerTokenStored\",\"outputs\":[{\"internalType\":\"uint256\",\"name\":\"\",\"type\":\"uint256\"}],\"payable\":false,\"stateMutability\":\"view\",\"type\":\"function\"},{\"constant\":true,\"inputs\":[],\"name\":\"rewardRate\",\"outputs\":[{\"internalType\":\"uint256\",\"name\":\"\",\"type\":\"uint256\"}],\"payable\":false,\"stateMutability\":\"view\",\"type\":\"function\"},{\"constant\":true,\"inputs\":[{\"internalType\":\"address\",\"name\":\"\",\"type\":\"address\"}],\"name\":\"rewards\",\"outputs\":[{\"internalType\":\"uint256\",\"name\":\"\",\"type\":\"uint256\"}],\"payable\":false,\"stateMutability\":\"view\",\"type\":\"function\"},{\"constant\":false,\"inputs\":[{\"internalType\":\"address\",\"name\":\"_rewardDistribution\",\"type\":\"address\"}],\"name\":\"setRewardDistribution\",\"outputs\":[],\"payable\":false,\"stateMutability\":\"nonpayable\",\"type\":\"function\"},{\"constant\":false,\"inputs\":[{\"internalType\":\"uint256\",\"name\":\"amount\",\"type\":\"uint256\"}],\"name\":\"stake\",\"outputs\":[],\"payable\":false,\"stateMutability\":\"nonpayable\",\"type\":\"function\"},{\"constant\":true,\"inputs\":[],\"name\":\"totalSupply\",\"outputs\":[{\"internalType\":\"uint256\",\"name\":\"\",\"type\":\"uint256\"}],\"payable\":false,\"stateMutability\":\"view\",\"type\":\"function\"},{\"constant\":false,\"inputs\":[{\"internalType\":\"address\",\"name\":\"newOwner\",\"type\":\"address\"}],\"name\":\"transferOwnership\",\"outputs\":[],\"payable\":false,\"stateMutability\":\"nonpayable\",\"type\":\"function\"},{\"constant\":true,\"inputs\":[{\"internalType\":\"address\",\"name\":\"\",\"type\":\"address\"}],\"name\":\"userRewardPerTokenPaid\",\"outputs\":[{\"internalType\":\"uint256\",\"name\":\"\",\"type\":\"uint256\"}],\"payable\":false,\"stateMutability\":\"view\",\"type\":\"function\"},{\"constant\":false,\"inputs\":[{\"internalType\":\"uint256\",\"name\":\"amount\",\"type\":\"uint256\"}],\"name\":\"withdraw\",\"outputs\":[],\"payable\":false,\"stateMutability\":\"nonpayable\",\"type\":\"function\"},{\"constant\":true,\"inputs\":[],\"name\":\"y\",\"outputs\":[{\"internalType\":\"contract IERC20\",\"name\":\"\",\"type\":\"address\"}],\"payable\":false,\"stateMutability\":\"view\",\"type\":\"function\"},{\"constant\":true,\"inputs\":[],\"name\":\"yfi\",\"outputs\":[{\"internalType\":\"contract IERC20\",\"name\":\"\",\"type\":\"address\"}],\"payable\":false,\"stateMutability\":\"view\",\"type\":\"function\"}]'}"
      ]
     },
     "execution_count": 12,
     "metadata": {},
     "output_type": "execute_result"
    }
   ],
   "source": [
    "abis = es.get_contract_abi(contracts)\n",
    "time.sleep(1)\n",
    "abis"
   ]
  },
  {
   "cell_type": "markdown",
   "id": "10a2afce",
   "metadata": {},
   "source": [
    "### get_contract_source_code"
   ]
  },
  {
   "cell_type": "markdown",
   "id": "e906f2d8",
   "metadata": {},
   "source": [
    "Returns the Solidity source code of a verified smart contract"
   ]
  },
  {
   "cell_type": "code",
   "execution_count": 13,
   "id": "13ecd7ed",
   "metadata": {},
   "outputs": [
    {
     "data": {
      "text/html": [
       "<div>\n",
       "<style scoped>\n",
       "    .dataframe tbody tr th:only-of-type {\n",
       "        vertical-align: middle;\n",
       "    }\n",
       "\n",
       "    .dataframe tbody tr th {\n",
       "        vertical-align: top;\n",
       "    }\n",
       "\n",
       "    .dataframe thead tr th {\n",
       "        text-align: left;\n",
       "    }\n",
       "</style>\n",
       "<table border=\"1\" class=\"dataframe\">\n",
       "  <thead>\n",
       "    <tr>\n",
       "      <th></th>\n",
       "      <th colspan=\"10\" halign=\"left\">0xd9e1cE17f2641f24aE83637ab66a2cca9C378B9F</th>\n",
       "      <th>...</th>\n",
       "      <th colspan=\"10\" halign=\"left\">0x0001FB050Fe7312791bF6475b96569D83F695C9f</th>\n",
       "    </tr>\n",
       "    <tr>\n",
       "      <th></th>\n",
       "      <th>SourceCode</th>\n",
       "      <th>ABI</th>\n",
       "      <th>ContractName</th>\n",
       "      <th>CompilerVersion</th>\n",
       "      <th>OptimizationUsed</th>\n",
       "      <th>Runs</th>\n",
       "      <th>ConstructorArguments</th>\n",
       "      <th>EVMVersion</th>\n",
       "      <th>Library</th>\n",
       "      <th>LicenseType</th>\n",
       "      <th>...</th>\n",
       "      <th>CompilerVersion</th>\n",
       "      <th>OptimizationUsed</th>\n",
       "      <th>Runs</th>\n",
       "      <th>ConstructorArguments</th>\n",
       "      <th>EVMVersion</th>\n",
       "      <th>Library</th>\n",
       "      <th>LicenseType</th>\n",
       "      <th>Proxy</th>\n",
       "      <th>Implementation</th>\n",
       "      <th>SwarmSource</th>\n",
       "    </tr>\n",
       "  </thead>\n",
       "  <tbody>\n",
       "    <tr>\n",
       "      <th>0</th>\n",
       "      <td>// File: contracts/uniswapv2/interfaces/IUnisw...</td>\n",
       "      <td>[{\"inputs\":[{\"internalType\":\"address\",\"name\":\"...</td>\n",
       "      <td>UniswapV2Router02</td>\n",
       "      <td>v0.6.12+commit.27d51765</td>\n",
       "      <td>1</td>\n",
       "      <td>200</td>\n",
       "      <td>000000000000000000000000c0aee478e3658e2610c5f7...</td>\n",
       "      <td>Default</td>\n",
       "      <td></td>\n",
       "      <td>None</td>\n",
       "      <td>...</td>\n",
       "      <td>v0.5.16+commit.9c3226ce</td>\n",
       "      <td>0</td>\n",
       "      <td>200</td>\n",
       "      <td></td>\n",
       "      <td>Default</td>\n",
       "      <td></td>\n",
       "      <td>MIT</td>\n",
       "      <td>0</td>\n",
       "      <td></td>\n",
       "      <td>bzzr://e51af10bf74bebc919ec3e43a0470cbc7433a40...</td>\n",
       "    </tr>\n",
       "  </tbody>\n",
       "</table>\n",
       "<p>1 rows × 26 columns</p>\n",
       "</div>"
      ],
      "text/plain": [
       "          0xd9e1cE17f2641f24aE83637ab66a2cca9C378B9F  \\\n",
       "                                          SourceCode   \n",
       "0  // File: contracts/uniswapv2/interfaces/IUnisw...   \n",
       "\n",
       "                                                                         \\\n",
       "                                                 ABI       ContractName   \n",
       "0  [{\"inputs\":[{\"internalType\":\"address\",\"name\":\"...  UniswapV2Router02   \n",
       "\n",
       "                                                  \\\n",
       "           CompilerVersion OptimizationUsed Runs   \n",
       "0  v0.6.12+commit.27d51765                1  200   \n",
       "\n",
       "                                                                         \\\n",
       "                                ConstructorArguments EVMVersion Library   \n",
       "0  000000000000000000000000c0aee478e3658e2610c5f7...    Default           \n",
       "\n",
       "               ... 0x0001FB050Fe7312791bF6475b96569D83F695C9f  \\\n",
       "  LicenseType  ...                            CompilerVersion   \n",
       "0        None  ...                    v0.5.16+commit.9c3226ce   \n",
       "\n",
       "                                                                             \\\n",
       "  OptimizationUsed Runs ConstructorArguments EVMVersion Library LicenseType   \n",
       "0                0  200                         Default                 MIT   \n",
       "\n",
       "                                                                           \n",
       "  Proxy Implementation                                        SwarmSource  \n",
       "0     0                 bzzr://e51af10bf74bebc919ec3e43a0470cbc7433a40...  \n",
       "\n",
       "[1 rows x 26 columns]"
      ]
     },
     "execution_count": 13,
     "metadata": {},
     "output_type": "execute_result"
    }
   ],
   "source": [
    "source_code = es.get_contract_source_code(contracts)\n",
    "time.sleep(1)\n",
    "source_code"
   ]
  },
  {
   "cell_type": "markdown",
   "id": "71973602",
   "metadata": {},
   "source": [
    "## Transactions"
   ]
  },
  {
   "cell_type": "markdown",
   "id": "83817b19",
   "metadata": {},
   "source": [
    "Functions to return information about transactions"
   ]
  },
  {
   "cell_type": "code",
   "execution_count": 14,
   "id": "f7d14c7b",
   "metadata": {},
   "outputs": [],
   "source": [
    "txns = ['0x29f2df8ce6a0e2a93bddacdfcceb9fd847630dcd1d25ad1ec3402cc449fa1eb6', '0x0bd7f9af4f8ddb18a321ab0120a2389046b39feb67561d17378e0d4dc062decc', '0x1815a03dd8a1ce7da5a7a4304fa5fae1a8f4f3c20787e341eea230614e49ff61']"
   ]
  },
  {
   "cell_type": "markdown",
   "id": "9a53f185",
   "metadata": {},
   "source": [
    "### get_contract_execution_status -- busted on Etherscan backend"
   ]
  },
  {
   "cell_type": "markdown",
   "id": "5c57928e",
   "metadata": {},
   "source": [
    "Returns the status code of a contract execution"
   ]
  },
  {
   "cell_type": "code",
   "execution_count": 15,
   "id": "b54297bd",
   "metadata": {},
   "outputs": [
    {
     "data": {
      "text/html": [
       "<div>\n",
       "<style scoped>\n",
       "    .dataframe tbody tr th:only-of-type {\n",
       "        vertical-align: middle;\n",
       "    }\n",
       "\n",
       "    .dataframe tbody tr th {\n",
       "        vertical-align: top;\n",
       "    }\n",
       "\n",
       "    .dataframe thead th {\n",
       "        text-align: right;\n",
       "    }\n",
       "</style>\n",
       "<table border=\"1\" class=\"dataframe\">\n",
       "  <thead>\n",
       "    <tr style=\"text-align: right;\">\n",
       "      <th></th>\n",
       "      <th>transactions</th>\n",
       "    </tr>\n",
       "  </thead>\n",
       "  <tbody>\n",
       "    <tr>\n",
       "      <th>0x29f2df8ce6a0e2a93bddacdfcceb9fd847630dcd1d25ad1ec3402cc449fa1eb6</th>\n",
       "      <td>Error! Missing Or invalid Action name</td>\n",
       "    </tr>\n",
       "    <tr>\n",
       "      <th>0x0bd7f9af4f8ddb18a321ab0120a2389046b39feb67561d17378e0d4dc062decc</th>\n",
       "      <td>Error! Missing Or invalid Action name</td>\n",
       "    </tr>\n",
       "    <tr>\n",
       "      <th>0x1815a03dd8a1ce7da5a7a4304fa5fae1a8f4f3c20787e341eea230614e49ff61</th>\n",
       "      <td>Error! Missing Or invalid Action name</td>\n",
       "    </tr>\n",
       "  </tbody>\n",
       "</table>\n",
       "</div>"
      ],
      "text/plain": [
       "                                                                             transactions\n",
       "0x29f2df8ce6a0e2a93bddacdfcceb9fd847630dcd1d25a...  Error! Missing Or invalid Action name\n",
       "0x0bd7f9af4f8ddb18a321ab0120a2389046b39feb67561...  Error! Missing Or invalid Action name\n",
       "0x1815a03dd8a1ce7da5a7a4304fa5fae1a8f4f3c20787e...  Error! Missing Or invalid Action name"
      ]
     },
     "execution_count": 15,
     "metadata": {},
     "output_type": "execute_result"
    }
   ],
   "source": [
    "contract_execution_status = es.get_contract_execution_status(txns)\n",
    "time.sleep(1)\n",
    "contract_execution_status"
   ]
  },
  {
   "cell_type": "markdown",
   "id": "cfb44e87",
   "metadata": {},
   "source": [
    "### get_transaction_execution_status -- busted on Etherscan backend"
   ]
  },
  {
   "cell_type": "markdown",
   "id": "c208c434",
   "metadata": {},
   "source": [
    "Returns the status code of a transaction execution."
   ]
  },
  {
   "cell_type": "code",
   "execution_count": 16,
   "id": "dab115a6",
   "metadata": {},
   "outputs": [
    {
     "data": {
      "text/html": [
       "<div>\n",
       "<style scoped>\n",
       "    .dataframe tbody tr th:only-of-type {\n",
       "        vertical-align: middle;\n",
       "    }\n",
       "\n",
       "    .dataframe tbody tr th {\n",
       "        vertical-align: top;\n",
       "    }\n",
       "\n",
       "    .dataframe thead th {\n",
       "        text-align: right;\n",
       "    }\n",
       "</style>\n",
       "<table border=\"1\" class=\"dataframe\">\n",
       "  <thead>\n",
       "    <tr style=\"text-align: right;\">\n",
       "      <th></th>\n",
       "      <th>transactions</th>\n",
       "    </tr>\n",
       "  </thead>\n",
       "  <tbody>\n",
       "    <tr>\n",
       "      <th>0x29f2df8ce6a0e2a93bddacdfcceb9fd847630dcd1d25ad1ec3402cc449fa1eb6</th>\n",
       "      <td>Error! Missing Or invalid Action name</td>\n",
       "    </tr>\n",
       "    <tr>\n",
       "      <th>0x0bd7f9af4f8ddb18a321ab0120a2389046b39feb67561d17378e0d4dc062decc</th>\n",
       "      <td>Error! Missing Or invalid Action name</td>\n",
       "    </tr>\n",
       "    <tr>\n",
       "      <th>0x1815a03dd8a1ce7da5a7a4304fa5fae1a8f4f3c20787e341eea230614e49ff61</th>\n",
       "      <td>Error! Missing Or invalid Action name</td>\n",
       "    </tr>\n",
       "  </tbody>\n",
       "</table>\n",
       "</div>"
      ],
      "text/plain": [
       "                                                                             transactions\n",
       "0x29f2df8ce6a0e2a93bddacdfcceb9fd847630dcd1d25a...  Error! Missing Or invalid Action name\n",
       "0x0bd7f9af4f8ddb18a321ab0120a2389046b39feb67561...  Error! Missing Or invalid Action name\n",
       "0x1815a03dd8a1ce7da5a7a4304fa5fae1a8f4f3c20787e...  Error! Missing Or invalid Action name"
      ]
     },
     "execution_count": 16,
     "metadata": {},
     "output_type": "execute_result"
    }
   ],
   "source": [
    "transaction_execution_status = es.get_transaction_execution_status(txns)\n",
    "time.sleep(1)\n",
    "transaction_execution_status"
   ]
  },
  {
   "cell_type": "markdown",
   "id": "d1c328ec",
   "metadata": {},
   "source": [
    "## Blocks"
   ]
  },
  {
   "cell_type": "markdown",
   "id": "09fb064e",
   "metadata": {},
   "source": [
    "Functions to return information about given block(s)"
   ]
  },
  {
   "cell_type": "code",
   "execution_count": 17,
   "id": "7824d5b7",
   "metadata": {},
   "outputs": [],
   "source": [
    "blocks = [13188647, 13088500]\n",
    "far_out_block = 50000000\n",
    "timestamp = 1638767557"
   ]
  },
  {
   "cell_type": "markdown",
   "id": "22de6cc2",
   "metadata": {},
   "source": [
    "### get_block_reward"
   ]
  },
  {
   "cell_type": "markdown",
   "id": "7d91d87b",
   "metadata": {},
   "source": [
    "Returns the block reward and 'Uncle' block rewards"
   ]
  },
  {
   "cell_type": "code",
   "execution_count": 18,
   "id": "4435c797",
   "metadata": {},
   "outputs": [
    {
     "data": {
      "text/html": [
       "<div>\n",
       "<style scoped>\n",
       "    .dataframe tbody tr th:only-of-type {\n",
       "        vertical-align: middle;\n",
       "    }\n",
       "\n",
       "    .dataframe tbody tr th {\n",
       "        vertical-align: top;\n",
       "    }\n",
       "\n",
       "    .dataframe thead th {\n",
       "        text-align: right;\n",
       "    }\n",
       "</style>\n",
       "<table border=\"1\" class=\"dataframe\">\n",
       "  <thead>\n",
       "    <tr style=\"text-align: right;\">\n",
       "      <th></th>\n",
       "      <th>13188647</th>\n",
       "      <th>13088500</th>\n",
       "    </tr>\n",
       "  </thead>\n",
       "  <tbody>\n",
       "    <tr>\n",
       "      <th>blockNumber</th>\n",
       "      <td>13188647</td>\n",
       "      <td>13088500</td>\n",
       "    </tr>\n",
       "    <tr>\n",
       "      <th>timeStamp</th>\n",
       "      <td>1631151375</td>\n",
       "      <td>1629814354</td>\n",
       "    </tr>\n",
       "    <tr>\n",
       "      <th>blockMiner</th>\n",
       "      <td>0x5a0b54d5dc17e0aadc383d2db43b0a0d3e029c4c</td>\n",
       "      <td>0x1ad91ee08f21be3de0ba2ba6918e714da6b45836</td>\n",
       "    </tr>\n",
       "    <tr>\n",
       "      <th>blockReward</th>\n",
       "      <td>2747824941203436716</td>\n",
       "      <td>2431595650457815561</td>\n",
       "    </tr>\n",
       "    <tr>\n",
       "      <th>uncles</th>\n",
       "      <td>[]</td>\n",
       "      <td>[]</td>\n",
       "    </tr>\n",
       "    <tr>\n",
       "      <th>uncleInclusionReward</th>\n",
       "      <td>0</td>\n",
       "      <td>0</td>\n",
       "    </tr>\n",
       "  </tbody>\n",
       "</table>\n",
       "</div>"
      ],
      "text/plain": [
       "                                                        13188647  \\\n",
       "blockNumber                                             13188647   \n",
       "timeStamp                                             1631151375   \n",
       "blockMiner            0x5a0b54d5dc17e0aadc383d2db43b0a0d3e029c4c   \n",
       "blockReward                                  2747824941203436716   \n",
       "uncles                                                        []   \n",
       "uncleInclusionReward                                           0   \n",
       "\n",
       "                                                        13088500  \n",
       "blockNumber                                             13088500  \n",
       "timeStamp                                             1629814354  \n",
       "blockMiner            0x1ad91ee08f21be3de0ba2ba6918e714da6b45836  \n",
       "blockReward                                  2431595650457815561  \n",
       "uncles                                                        []  \n",
       "uncleInclusionReward                                           0  "
      ]
     },
     "execution_count": 18,
     "metadata": {},
     "output_type": "execute_result"
    }
   ],
   "source": [
    "block_rewards = es.get_block_reward(blocks)\n",
    "time.sleep(1)\n",
    "block_rewards"
   ]
  },
  {
   "cell_type": "markdown",
   "id": "148a901c",
   "metadata": {},
   "source": [
    "### get_block_countdown"
   ]
  },
  {
   "cell_type": "markdown",
   "id": "7617ad8a",
   "metadata": {},
   "source": [
    "Returns the estimated time remaining, in seconds, until a certain block is mined"
   ]
  },
  {
   "cell_type": "code",
   "execution_count": 19,
   "id": "d7fbed3e",
   "metadata": {},
   "outputs": [
    {
     "data": {
      "text/html": [
       "<div>\n",
       "<style scoped>\n",
       "    .dataframe tbody tr th:only-of-type {\n",
       "        vertical-align: middle;\n",
       "    }\n",
       "\n",
       "    .dataframe tbody tr th {\n",
       "        vertical-align: top;\n",
       "    }\n",
       "\n",
       "    .dataframe thead th {\n",
       "        text-align: right;\n",
       "    }\n",
       "</style>\n",
       "<table border=\"1\" class=\"dataframe\">\n",
       "  <thead>\n",
       "    <tr style=\"text-align: right;\">\n",
       "      <th></th>\n",
       "      <th>CurrentBlock</th>\n",
       "      <th>CountdownBlock</th>\n",
       "      <th>RemainingBlock</th>\n",
       "      <th>EstimateTimeInSec</th>\n",
       "    </tr>\n",
       "  </thead>\n",
       "  <tbody>\n",
       "    <tr>\n",
       "      <th>0</th>\n",
       "      <td>13760474</td>\n",
       "      <td>50000000</td>\n",
       "      <td>36239526</td>\n",
       "      <td>492857568.6</td>\n",
       "    </tr>\n",
       "  </tbody>\n",
       "</table>\n",
       "</div>"
      ],
      "text/plain": [
       "  CurrentBlock CountdownBlock RemainingBlock EstimateTimeInSec\n",
       "0     13760474       50000000       36239526       492857568.6"
      ]
     },
     "execution_count": 19,
     "metadata": {},
     "output_type": "execute_result"
    }
   ],
   "source": [
    "block_countdown = es.get_block_countdown(far_out_block)\n",
    "time.sleep(1)\n",
    "block_countdown"
   ]
  },
  {
   "cell_type": "markdown",
   "id": "5a661634",
   "metadata": {},
   "source": [
    "### get_block_by_timestamp"
   ]
  },
  {
   "cell_type": "markdown",
   "id": "de1dd5aa",
   "metadata": {},
   "source": [
    "Returns the block number that was mined at a certain timestamp (in unix)"
   ]
  },
  {
   "cell_type": "code",
   "execution_count": 20,
   "id": "489c178e",
   "metadata": {},
   "outputs": [
    {
     "data": {
      "text/html": [
       "<div>\n",
       "<style scoped>\n",
       "    .dataframe tbody tr th:only-of-type {\n",
       "        vertical-align: middle;\n",
       "    }\n",
       "\n",
       "    .dataframe tbody tr th {\n",
       "        vertical-align: top;\n",
       "    }\n",
       "\n",
       "    .dataframe thead th {\n",
       "        text-align: right;\n",
       "    }\n",
       "</style>\n",
       "<table border=\"1\" class=\"dataframe\">\n",
       "  <thead>\n",
       "    <tr style=\"text-align: right;\">\n",
       "      <th></th>\n",
       "      <th>0</th>\n",
       "    </tr>\n",
       "  </thead>\n",
       "  <tbody>\n",
       "    <tr>\n",
       "      <th>0</th>\n",
       "      <td>13750384</td>\n",
       "    </tr>\n",
       "  </tbody>\n",
       "</table>\n",
       "</div>"
      ],
      "text/plain": [
       "          0\n",
       "0  13750384"
      ]
     },
     "execution_count": 20,
     "metadata": {},
     "output_type": "execute_result"
    }
   ],
   "source": [
    "block_at_time = es.get_block_by_timestamp(timestamp)\n",
    "time.sleep(1)\n",
    "block_at_time"
   ]
  },
  {
   "cell_type": "markdown",
   "id": "86df1899",
   "metadata": {},
   "source": [
    "## Logs"
   ]
  },
  {
   "cell_type": "markdown",
   "id": "ef57d842",
   "metadata": {},
   "source": [
    "This function is a wrapper around the Etherscan API which is a wrapper around the native eth_getLogs. Please check out their documentation for a more in depth explanation: https://docs.etherscan.io/api-endpoints/logs\n",
    "\n",
    "Below are the list of supported filter parameters:\n",
    "* fromBlock, toBlock, address\n",
    "* topic0, topic1, topic2, topic3 (32 Bytes per topic)\n",
    "* topic0_1_opr (and|or between topic0 & topic1), topic1_2_opr (and|or between topic1 & topic2), topic2_3_opr (and|or between topic2 & topic3), topic0_2_opr (and|or between topic0 & topic2), topic0_3_opr (and|or between topic0 & topic3), topic1_3_opr (and|or between topic1 & topic3)\n",
    "\n",
    "\n",
    "Some parameters to take note of:\n",
    "* FromBlock & ToBlock accepts the blocknumber (integer, NOT hex) or 'latest' (earliest & pending is NOT supported yet)\n",
    "* Topic Operator (opr) choices are either 'and' or 'or' and are restricted to the above choices only\n",
    "* FromBlock & ToBlock parameters are required\n",
    "* An address and/or topic(X) parameters are required, when multiple topic(X) parameters are used the topicX_X_opr (and|or operator) is also required"
   ]
  },
  {
   "cell_type": "code",
   "execution_count": 21,
   "id": "121adb3e",
   "metadata": {},
   "outputs": [],
   "source": [
    "address = '0x33990122638b9132ca29c723bdf037f1a891a70c'\n",
    "fromBlock=379224\n",
    "toBlock='latest'\n",
    "topic0='0xf63780e752c6a54a94fc52715dbc5518a3b4c3c2833d301a204226548a2a8545'"
   ]
  },
  {
   "cell_type": "code",
   "execution_count": 22,
   "id": "7222456c",
   "metadata": {},
   "outputs": [
    {
     "data": {
      "text/html": [
       "<div>\n",
       "<style scoped>\n",
       "    .dataframe tbody tr th:only-of-type {\n",
       "        vertical-align: middle;\n",
       "    }\n",
       "\n",
       "    .dataframe tbody tr th {\n",
       "        vertical-align: top;\n",
       "    }\n",
       "\n",
       "    .dataframe thead th {\n",
       "        text-align: right;\n",
       "    }\n",
       "</style>\n",
       "<table border=\"1\" class=\"dataframe\">\n",
       "  <thead>\n",
       "    <tr style=\"text-align: right;\">\n",
       "      <th></th>\n",
       "      <th>address</th>\n",
       "      <th>topics</th>\n",
       "      <th>data</th>\n",
       "      <th>blockNumber</th>\n",
       "      <th>timeStamp</th>\n",
       "      <th>gasPrice</th>\n",
       "      <th>gasUsed</th>\n",
       "      <th>logIndex</th>\n",
       "      <th>transactionHash</th>\n",
       "      <th>transactionIndex</th>\n",
       "    </tr>\n",
       "  </thead>\n",
       "  <tbody>\n",
       "    <tr>\n",
       "      <th>0</th>\n",
       "      <td>0x33990122638b9132ca29c723bdf037f1a891a70c</td>\n",
       "      <td>[0xf63780e752c6a54a94fc52715dbc5518a3b4c3c2833...</td>\n",
       "      <td>0x</td>\n",
       "      <td>0x5c958</td>\n",
       "      <td>0x561d688c</td>\n",
       "      <td>0xba43b7400</td>\n",
       "      <td>0x10682</td>\n",
       "      <td>0x</td>\n",
       "      <td>0x0b03498648ae2da924f961dda00dc6bb0a8df1551926...</td>\n",
       "      <td>0x</td>\n",
       "    </tr>\n",
       "    <tr>\n",
       "      <th>1</th>\n",
       "      <td>0x33990122638b9132ca29c723bdf037f1a891a70c</td>\n",
       "      <td>[0xf63780e752c6a54a94fc52715dbc5518a3b4c3c2833...</td>\n",
       "      <td>0x</td>\n",
       "      <td>0x5c965</td>\n",
       "      <td>0x561d6930</td>\n",
       "      <td>0xba43b7400</td>\n",
       "      <td>0x105c2</td>\n",
       "      <td>0x</td>\n",
       "      <td>0x8c72ea19b48947c4339077bd9c9c09a780dfbdb1cafe...</td>\n",
       "      <td>0x</td>\n",
       "    </tr>\n",
       "    <tr>\n",
       "      <th>2</th>\n",
       "      <td>0x33990122638b9132ca29c723bdf037f1a891a70c</td>\n",
       "      <td>[0xf63780e752c6a54a94fc52715dbc5518a3b4c3c2833...</td>\n",
       "      <td>0x</td>\n",
       "      <td>0x6664c</td>\n",
       "      <td>0x56281247</td>\n",
       "      <td>0xba43b7400</td>\n",
       "      <td>0x105c2</td>\n",
       "      <td>0x</td>\n",
       "      <td>0xf9c4f7843dc1f9bf6d248ebe0033b2c51398255eb897...</td>\n",
       "      <td>0x1</td>\n",
       "    </tr>\n",
       "    <tr>\n",
       "      <th>3</th>\n",
       "      <td>0x33990122638b9132ca29c723bdf037f1a891a70c</td>\n",
       "      <td>[0xf63780e752c6a54a94fc52715dbc5518a3b4c3c2833...</td>\n",
       "      <td>0x</td>\n",
       "      <td>0x66650</td>\n",
       "      <td>0x5628125d</td>\n",
       "      <td>0xba43b7400</td>\n",
       "      <td>0x10642</td>\n",
       "      <td>0x</td>\n",
       "      <td>0xb190139d14140cf98035c5b78fe3b2629db2787ef234...</td>\n",
       "      <td>0x</td>\n",
       "    </tr>\n",
       "    <tr>\n",
       "      <th>4</th>\n",
       "      <td>0x33990122638b9132ca29c723bdf037f1a891a70c</td>\n",
       "      <td>[0xf63780e752c6a54a94fc52715dbc5518a3b4c3c2833...</td>\n",
       "      <td>0x</td>\n",
       "      <td>0x6aff6</td>\n",
       "      <td>0x562cf696</td>\n",
       "      <td>0xba43b7400</td>\n",
       "      <td>0x104c2</td>\n",
       "      <td>0x</td>\n",
       "      <td>0x27d96550f2b41e9bc3da7d6e2f2a333ce11c128d425b...</td>\n",
       "      <td>0x1</td>\n",
       "    </tr>\n",
       "    <tr>\n",
       "      <th>...</th>\n",
       "      <td>...</td>\n",
       "      <td>...</td>\n",
       "      <td>...</td>\n",
       "      <td>...</td>\n",
       "      <td>...</td>\n",
       "      <td>...</td>\n",
       "      <td>...</td>\n",
       "      <td>...</td>\n",
       "      <td>...</td>\n",
       "      <td>...</td>\n",
       "    </tr>\n",
       "    <tr>\n",
       "      <th>364</th>\n",
       "      <td>0x33990122638b9132ca29c723bdf037f1a891a70c</td>\n",
       "      <td>[0xf63780e752c6a54a94fc52715dbc5518a3b4c3c2833...</td>\n",
       "      <td></td>\n",
       "      <td>0x17f0b1</td>\n",
       "      <td>0x5742bd78</td>\n",
       "      <td>0x4a817c800</td>\n",
       "      <td>0x107c2</td>\n",
       "      <td>0x</td>\n",
       "      <td>0x647676db70d8d17d4d59f27afcd048181f2dd0d6e20d...</td>\n",
       "      <td>0x</td>\n",
       "    </tr>\n",
       "    <tr>\n",
       "      <th>365</th>\n",
       "      <td>0x33990122638b9132ca29c723bdf037f1a891a70c</td>\n",
       "      <td>[0xf63780e752c6a54a94fc52715dbc5518a3b4c3c2833...</td>\n",
       "      <td></td>\n",
       "      <td>0x18df11</td>\n",
       "      <td>0x57502078</td>\n",
       "      <td>0x4a817c800</td>\n",
       "      <td>0x104c2</td>\n",
       "      <td>0x</td>\n",
       "      <td>0xe8b0588b803621a50d4eccbb71e2f9463c0d6c267e6d...</td>\n",
       "      <td>0x</td>\n",
       "    </tr>\n",
       "    <tr>\n",
       "      <th>366</th>\n",
       "      <td>0x33990122638b9132ca29c723bdf037f1a891a70c</td>\n",
       "      <td>[0xf63780e752c6a54a94fc52715dbc5518a3b4c3c2833...</td>\n",
       "      <td></td>\n",
       "      <td>0x19741f</td>\n",
       "      <td>0x5758741d</td>\n",
       "      <td>0x4a817c800</td>\n",
       "      <td>0x10502</td>\n",
       "      <td>0x1</td>\n",
       "      <td>0x84d0668ff085c81379e0b36aa6eaf54d5d387e93084d...</td>\n",
       "      <td>0x1</td>\n",
       "    </tr>\n",
       "    <tr>\n",
       "      <th>367</th>\n",
       "      <td>0x33990122638b9132ca29c723bdf037f1a891a70c</td>\n",
       "      <td>[0xf63780e752c6a54a94fc52715dbc5518a3b4c3c2833...</td>\n",
       "      <td></td>\n",
       "      <td>0x19749b</td>\n",
       "      <td>0x57587a9f</td>\n",
       "      <td>0x4a817c800</td>\n",
       "      <td>0xca6a</td>\n",
       "      <td>0x3</td>\n",
       "      <td>0xbb60625e9c4df3cd1c66f77fb673e478c81b58deccb1...</td>\n",
       "      <td>0x5</td>\n",
       "    </tr>\n",
       "    <tr>\n",
       "      <th>368</th>\n",
       "      <td>0x33990122638b9132ca29c723bdf037f1a891a70c</td>\n",
       "      <td>[0xf63780e752c6a54a94fc52715dbc5518a3b4c3c2833...</td>\n",
       "      <td>0x</td>\n",
       "      <td>0x2399ec</td>\n",
       "      <td>0x57e9bb5c</td>\n",
       "      <td>0xba43b7400</td>\n",
       "      <td>0x10682</td>\n",
       "      <td>0x</td>\n",
       "      <td>0x980742edcf7b5cc9e1fdb2ddd71df20a176454c09be5...</td>\n",
       "      <td>0x</td>\n",
       "    </tr>\n",
       "  </tbody>\n",
       "</table>\n",
       "<p>369 rows × 10 columns</p>\n",
       "</div>"
      ],
      "text/plain": [
       "                                        address  \\\n",
       "0    0x33990122638b9132ca29c723bdf037f1a891a70c   \n",
       "1    0x33990122638b9132ca29c723bdf037f1a891a70c   \n",
       "2    0x33990122638b9132ca29c723bdf037f1a891a70c   \n",
       "3    0x33990122638b9132ca29c723bdf037f1a891a70c   \n",
       "4    0x33990122638b9132ca29c723bdf037f1a891a70c   \n",
       "..                                          ...   \n",
       "364  0x33990122638b9132ca29c723bdf037f1a891a70c   \n",
       "365  0x33990122638b9132ca29c723bdf037f1a891a70c   \n",
       "366  0x33990122638b9132ca29c723bdf037f1a891a70c   \n",
       "367  0x33990122638b9132ca29c723bdf037f1a891a70c   \n",
       "368  0x33990122638b9132ca29c723bdf037f1a891a70c   \n",
       "\n",
       "                                                topics data blockNumber  \\\n",
       "0    [0xf63780e752c6a54a94fc52715dbc5518a3b4c3c2833...   0x     0x5c958   \n",
       "1    [0xf63780e752c6a54a94fc52715dbc5518a3b4c3c2833...   0x     0x5c965   \n",
       "2    [0xf63780e752c6a54a94fc52715dbc5518a3b4c3c2833...   0x     0x6664c   \n",
       "3    [0xf63780e752c6a54a94fc52715dbc5518a3b4c3c2833...   0x     0x66650   \n",
       "4    [0xf63780e752c6a54a94fc52715dbc5518a3b4c3c2833...   0x     0x6aff6   \n",
       "..                                                 ...  ...         ...   \n",
       "364  [0xf63780e752c6a54a94fc52715dbc5518a3b4c3c2833...         0x17f0b1   \n",
       "365  [0xf63780e752c6a54a94fc52715dbc5518a3b4c3c2833...         0x18df11   \n",
       "366  [0xf63780e752c6a54a94fc52715dbc5518a3b4c3c2833...         0x19741f   \n",
       "367  [0xf63780e752c6a54a94fc52715dbc5518a3b4c3c2833...         0x19749b   \n",
       "368  [0xf63780e752c6a54a94fc52715dbc5518a3b4c3c2833...   0x    0x2399ec   \n",
       "\n",
       "      timeStamp     gasPrice  gasUsed logIndex  \\\n",
       "0    0x561d688c  0xba43b7400  0x10682       0x   \n",
       "1    0x561d6930  0xba43b7400  0x105c2       0x   \n",
       "2    0x56281247  0xba43b7400  0x105c2       0x   \n",
       "3    0x5628125d  0xba43b7400  0x10642       0x   \n",
       "4    0x562cf696  0xba43b7400  0x104c2       0x   \n",
       "..          ...          ...      ...      ...   \n",
       "364  0x5742bd78  0x4a817c800  0x107c2       0x   \n",
       "365  0x57502078  0x4a817c800  0x104c2       0x   \n",
       "366  0x5758741d  0x4a817c800  0x10502      0x1   \n",
       "367  0x57587a9f  0x4a817c800   0xca6a      0x3   \n",
       "368  0x57e9bb5c  0xba43b7400  0x10682       0x   \n",
       "\n",
       "                                       transactionHash transactionIndex  \n",
       "0    0x0b03498648ae2da924f961dda00dc6bb0a8df1551926...               0x  \n",
       "1    0x8c72ea19b48947c4339077bd9c9c09a780dfbdb1cafe...               0x  \n",
       "2    0xf9c4f7843dc1f9bf6d248ebe0033b2c51398255eb897...              0x1  \n",
       "3    0xb190139d14140cf98035c5b78fe3b2629db2787ef234...               0x  \n",
       "4    0x27d96550f2b41e9bc3da7d6e2f2a333ce11c128d425b...              0x1  \n",
       "..                                                 ...              ...  \n",
       "364  0x647676db70d8d17d4d59f27afcd048181f2dd0d6e20d...               0x  \n",
       "365  0xe8b0588b803621a50d4eccbb71e2f9463c0d6c267e6d...               0x  \n",
       "366  0x84d0668ff085c81379e0b36aa6eaf54d5d387e93084d...              0x1  \n",
       "367  0xbb60625e9c4df3cd1c66f77fb673e478c81b58deccb1...              0x5  \n",
       "368  0x980742edcf7b5cc9e1fdb2ddd71df20a176454c09be5...               0x  \n",
       "\n",
       "[369 rows x 10 columns]"
      ]
     },
     "execution_count": 22,
     "metadata": {},
     "output_type": "execute_result"
    }
   ],
   "source": [
    "logs = es.get_logs(address, fromBlock, to_block=toBlock, topic0=topic0)\n",
    "time.sleep(1)\n",
    "logs"
   ]
  },
  {
   "cell_type": "markdown",
   "id": "5362d975",
   "metadata": {},
   "source": [
    "## Geth/Parity Proxy"
   ]
  },
  {
   "cell_type": "markdown",
   "id": "8a3097b5",
   "metadata": {},
   "source": [
    "Functions to emulate a Geth/Parity Ethereum client through Etherscan"
   ]
  },
  {
   "cell_type": "code",
   "execution_count": 23,
   "id": "92bd608e",
   "metadata": {},
   "outputs": [],
   "source": [
    "accounts = ['0xBa19BdFF99065d9ABF3dF8CE942390B97fd71B12', '0x503e4bfe8299D486701BC7bc7F2Ea94f50035daC']\n",
    "blocks = [13188647, 13088500]\n",
    "index = 0\n",
    "txns = ['0x29f2df8ce6a0e2a93bddacdfcceb9fd847630dcd1d25ad1ec3402cc449fa1eb6', '0x0bd7f9af4f8ddb18a321ab0120a2389046b39feb67561d17378e0d4dc062decc', '0x1815a03dd8a1ce7da5a7a4304fa5fae1a8f4f3c20787e341eea230614e49ff61']"
   ]
  },
  {
   "cell_type": "markdown",
   "id": "8902c4b5",
   "metadata": {},
   "source": [
    "### get_eth_block_number"
   ]
  },
  {
   "cell_type": "markdown",
   "id": "9a3488a5",
   "metadata": {},
   "source": [
    "Returns the number of most recent block"
   ]
  },
  {
   "cell_type": "code",
   "execution_count": null,
   "id": "d58c650b",
   "metadata": {},
   "outputs": [],
   "source": [
    "blockNo = es.get_eth_block_number()\n",
    "time.sleep(1)\n",
    "blockNo"
   ]
  },
  {
   "cell_type": "markdown",
   "id": "507d2411",
   "metadata": {},
   "source": [
    "### get_eth_block"
   ]
  },
  {
   "cell_type": "markdown",
   "id": "aaf9025d",
   "metadata": {},
   "source": [
    "Returns information about a block by block number"
   ]
  },
  {
   "cell_type": "code",
   "execution_count": null,
   "id": "776467f2",
   "metadata": {},
   "outputs": [],
   "source": [
    "eth_block = es.get_eth_block(blocks)\n",
    "time.sleep(1)\n",
    "eth_block"
   ]
  },
  {
   "cell_type": "markdown",
   "id": "0df20323",
   "metadata": {},
   "source": [
    "### get_eth_uncle"
   ]
  },
  {
   "cell_type": "markdown",
   "id": "ee40943f",
   "metadata": {},
   "source": [
    "Returns information about a uncle by block number and index"
   ]
  },
  {
   "cell_type": "code",
   "execution_count": null,
   "id": "9741c92d",
   "metadata": {},
   "outputs": [],
   "source": [
    "uncle = es.get_eth_uncle(blocks[0], index)\n",
    "time.sleep(1)\n",
    "uncle"
   ]
  },
  {
   "cell_type": "markdown",
   "id": "626496b9",
   "metadata": {},
   "source": [
    "### get_eth_block_transaction_count"
   ]
  },
  {
   "cell_type": "markdown",
   "id": "7a48c4c7",
   "metadata": {},
   "source": [
    "Returns the number of transactions in a block"
   ]
  },
  {
   "cell_type": "code",
   "execution_count": null,
   "id": "887b033a",
   "metadata": {},
   "outputs": [],
   "source": [
    "block_transaction_count = es.get_eth_block_transaction_count(blocks)\n",
    "time.sleep(1)\n",
    "block_transaction_count"
   ]
  },
  {
   "cell_type": "markdown",
   "id": "e56126ba",
   "metadata": {},
   "source": [
    "### get_eth_transaction_by_hash"
   ]
  },
  {
   "cell_type": "markdown",
   "id": "3fa4a17f",
   "metadata": {},
   "source": [
    "Returns the information about a transaction requested by transaction hash"
   ]
  },
  {
   "cell_type": "code",
   "execution_count": null,
   "id": "4a54b8f7",
   "metadata": {},
   "outputs": [],
   "source": [
    "txns_by_hash = es.get_eth_transaction_by_hash(txns)\n",
    "time.sleep(1)\n",
    "txns_by_hash"
   ]
  },
  {
   "cell_type": "markdown",
   "id": "0b0c2e5e",
   "metadata": {},
   "source": [
    "### get_eth_transaction_by_block_index"
   ]
  },
  {
   "cell_type": "markdown",
   "id": "4364cd38",
   "metadata": {},
   "source": [
    "Returns information about a transaction by block number and transaction index position"
   ]
  },
  {
   "cell_type": "code",
   "execution_count": null,
   "id": "44fa9686",
   "metadata": {},
   "outputs": [],
   "source": [
    "txn_info = es.get_eth_transaction_by_block_index(blocks[0], index)\n",
    "time.sleep(1)\n",
    "txn_info"
   ]
  },
  {
   "cell_type": "markdown",
   "id": "65483030",
   "metadata": {},
   "source": [
    "### get_eth_account_transaction_count"
   ]
  },
  {
   "cell_type": "markdown",
   "id": "67b2edbc",
   "metadata": {},
   "source": [
    "Returns the number of transactions performed by an address"
   ]
  },
  {
   "cell_type": "code",
   "execution_count": null,
   "id": "824bc485",
   "metadata": {},
   "outputs": [],
   "source": [
    "transaction_count = es.get_eth_account_transaction_count(accounts)\n",
    "time.sleep(1)\n",
    "transaction_count"
   ]
  },
  {
   "cell_type": "markdown",
   "id": "791ad753",
   "metadata": {},
   "source": [
    "### get_eth_transaction_receipt"
   ]
  },
  {
   "cell_type": "markdown",
   "id": "987a432c",
   "metadata": {},
   "source": [
    "Returns the receipt of a transaction by transaction hash"
   ]
  },
  {
   "cell_type": "code",
   "execution_count": null,
   "id": "020ad39e",
   "metadata": {},
   "outputs": [],
   "source": [
    "receipts = es.get_eth_transaction_receipt(txns)\n",
    "time.sleep(1)\n",
    "receipts"
   ]
  },
  {
   "cell_type": "markdown",
   "id": "1b03f7fc",
   "metadata": {},
   "source": [
    "### get_eth_gas_price"
   ]
  },
  {
   "cell_type": "markdown",
   "id": "55ac2f35",
   "metadata": {},
   "source": [
    "Returns the current price per gas in wei"
   ]
  },
  {
   "cell_type": "code",
   "execution_count": null,
   "id": "eea2117e",
   "metadata": {},
   "outputs": [],
   "source": [
    "gas_price = es.get_eth_gas_price()\n",
    "time.sleep(1)\n",
    "gas_price"
   ]
  },
  {
   "cell_type": "markdown",
   "id": "8f988608",
   "metadata": {},
   "source": [
    "## Tokens"
   ]
  },
  {
   "cell_type": "markdown",
   "id": "37a4d873",
   "metadata": {},
   "source": [
    "Functions to return information about tokens"
   ]
  },
  {
   "cell_type": "code",
   "execution_count": null,
   "id": "e4c19ba2",
   "metadata": {},
   "outputs": [],
   "source": [
    "#pickle, xSushi\n",
    "tokens = ['0x429881672B9AE42b8EbA0E26cD9C73711b891Ca5', '0x8798249c2E607446EfB7Ad49eC89dD1865Ff4272']\n",
    "# One account w/ the above tokens, one account w/out the above tokens\n",
    "accounts = ['0xBa19BdFF99065d9ABF3dF8CE942390B97fd71B12', '0x503e4bfe8299D486701BC7bc7F2Ea94f50035daC']"
   ]
  },
  {
   "cell_type": "markdown",
   "id": "a7f692c3",
   "metadata": {},
   "source": [
    "### get_token_total_supply"
   ]
  },
  {
   "cell_type": "markdown",
   "id": "2f36afcf",
   "metadata": {},
   "source": [
    "Returns the current amount of an ERC-20 token(s) in circulation\n",
    "\n",
    "NOTE: supply is not adjusted for decimals of token(s)"
   ]
  },
  {
   "cell_type": "code",
   "execution_count": null,
   "id": "3d7c39b0",
   "metadata": {},
   "outputs": [],
   "source": [
    "total_supply = es.get_token_total_supply(tokens)\n",
    "time.sleep(1)\n",
    "total_supply"
   ]
  },
  {
   "cell_type": "markdown",
   "id": "8e753ae9",
   "metadata": {},
   "source": [
    "### get_token_account_balance"
   ]
  },
  {
   "cell_type": "markdown",
   "id": "409a77de",
   "metadata": {},
   "source": [
    "Returns the current balance of an ERC-20 token(s) of an address(es).\n",
    "\n",
    "NOTE: balance is not adjusted for decimals of token(s)"
   ]
  },
  {
   "cell_type": "code",
   "execution_count": null,
   "id": "6c01c5bf",
   "metadata": {},
   "outputs": [],
   "source": [
    "account_balance = es.get_token_account_balance(tokens, accounts)\n",
    "time.sleep(1)\n",
    "account_balance"
   ]
  },
  {
   "cell_type": "markdown",
   "id": "1f697e32",
   "metadata": {},
   "source": [
    "## Gas Tracker"
   ]
  },
  {
   "cell_type": "markdown",
   "id": "8e45aa90",
   "metadata": {},
   "source": [
    "Functions to return information about gas"
   ]
  },
  {
   "cell_type": "code",
   "execution_count": null,
   "id": "2e6703d3",
   "metadata": {},
   "outputs": [],
   "source": [
    "gas_price_wei=2000000000"
   ]
  },
  {
   "cell_type": "markdown",
   "id": "509b156f",
   "metadata": {},
   "source": [
    "### get_est_confirmation"
   ]
  },
  {
   "cell_type": "markdown",
   "id": "193395c4",
   "metadata": {},
   "source": [
    "Returns the estimated time, in seconds, for a transaction to be confirmed on the blockchain gas price in wei"
   ]
  },
  {
   "cell_type": "code",
   "execution_count": null,
   "id": "e98dae6a",
   "metadata": {},
   "outputs": [],
   "source": [
    "est_confirmation = es.get_est_confirmation(gas_price_wei)\n",
    "time.sleep(1)\n",
    "est_confirmation"
   ]
  },
  {
   "cell_type": "markdown",
   "id": "29f39611",
   "metadata": {},
   "source": [
    "### get_gas_oracle"
   ]
  },
  {
   "cell_type": "markdown",
   "id": "3bc8ef92",
   "metadata": {},
   "source": [
    "Returns the current Safe, Proposed and Fast gas prices"
   ]
  },
  {
   "cell_type": "code",
   "execution_count": null,
   "id": "dd28adde",
   "metadata": {},
   "outputs": [],
   "source": [
    "gas_oracle = es.get_gas_oracle()\n",
    "time.sleep(1)\n",
    "gas_oracle"
   ]
  },
  {
   "cell_type": "markdown",
   "id": "21a451a3",
   "metadata": {},
   "source": [
    "## Stats"
   ]
  },
  {
   "cell_type": "markdown",
   "id": "6c03ded4",
   "metadata": {},
   "source": [
    "Functions to return statistics supported by Etherscan"
   ]
  },
  {
   "cell_type": "code",
   "execution_count": null,
   "id": "e0aac208",
   "metadata": {},
   "outputs": [],
   "source": [
    "start_date='2021-01-01'\n",
    "end_date='2021-01-05'"
   ]
  },
  {
   "cell_type": "markdown",
   "id": "d53815d4",
   "metadata": {},
   "source": [
    "### get_eth_total_supply"
   ]
  },
  {
   "cell_type": "markdown",
   "id": "76a84fe7",
   "metadata": {},
   "source": [
    "Returns the current amount of Ether in circulation"
   ]
  },
  {
   "cell_type": "code",
   "execution_count": null,
   "id": "62d8d14f",
   "metadata": {},
   "outputs": [],
   "source": [
    "total_eth_supply = es.get_total_eth_supply()\n",
    "time.sleep(1)\n",
    "total_eth_supply"
   ]
  },
  {
   "cell_type": "markdown",
   "id": "f95835ff",
   "metadata": {},
   "source": [
    "### get_eth2_total_supply"
   ]
  },
  {
   "cell_type": "markdown",
   "id": "36065c7f",
   "metadata": {},
   "source": [
    "Returns the current amount of Ether in circulation, ETH2 Staking rewards and EIP1559 burnt fees statistics"
   ]
  },
  {
   "cell_type": "code",
   "execution_count": null,
   "id": "acbcb54e",
   "metadata": {},
   "outputs": [],
   "source": [
    "total_eth2_supply = es.get_total_eth2_supply()\n",
    "time.sleep(1)\n",
    "total_eth2_supply"
   ]
  },
  {
   "cell_type": "markdown",
   "id": "567d3368",
   "metadata": {},
   "source": [
    "### get_last_eth_price"
   ]
  },
  {
   "cell_type": "markdown",
   "id": "6b96e081",
   "metadata": {},
   "source": [
    "Returns the latest price of 1 ETH in BTC & USD"
   ]
  },
  {
   "cell_type": "code",
   "execution_count": null,
   "id": "d6af4fc9",
   "metadata": {},
   "outputs": [],
   "source": [
    "last_eth_price = es.get_last_eth_price()\n",
    "time.sleep(1)\n",
    "last_eth_price"
   ]
  },
  {
   "cell_type": "markdown",
   "id": "d605a91f",
   "metadata": {},
   "source": [
    "### get_nodes_size"
   ]
  },
  {
   "cell_type": "markdown",
   "id": "a0c013f4",
   "metadata": {},
   "source": [
    "Returns the size of the Ethereum blockchain, in bytes, over a date range"
   ]
  },
  {
   "cell_type": "code",
   "execution_count": null,
   "id": "98aa36c6",
   "metadata": {},
   "outputs": [],
   "source": [
    "nodes_size = es.get_nodes_size(start_date=start_date, end_date=end_date)\n",
    "time.sleep(1)\n",
    "nodes_size"
   ]
  },
  {
   "cell_type": "markdown",
   "id": "644bdbfa",
   "metadata": {},
   "source": [
    "### get_total_nodes_count"
   ]
  },
  {
   "cell_type": "markdown",
   "id": "7460e6ec",
   "metadata": {},
   "source": [
    "Returns the total number of discoverable Ethereum nodes"
   ]
  },
  {
   "cell_type": "code",
   "execution_count": null,
   "id": "368a4026",
   "metadata": {},
   "outputs": [],
   "source": [
    "total_nodes_count = es.get_total_nodes_count()\n",
    "time.sleep(1)\n",
    "total_nodes_count"
   ]
  },
  {
   "cell_type": "code",
   "execution_count": null,
   "id": "9569c9ae",
   "metadata": {},
   "outputs": [],
   "source": []
  }
 ],
 "metadata": {
  "kernelspec": {
   "display_name": "Python 3 (ipykernel)",
   "language": "python",
   "name": "python3"
  },
  "language_info": {
   "codemirror_mode": {
    "name": "ipython",
    "version": 3
   },
   "file_extension": ".py",
   "mimetype": "text/x-python",
   "name": "python",
   "nbconvert_exporter": "python",
   "pygments_lexer": "ipython3",
   "version": "3.9.6"
  }
 },
 "nbformat": 4,
 "nbformat_minor": 5
}
