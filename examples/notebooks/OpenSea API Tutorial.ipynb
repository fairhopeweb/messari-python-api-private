{
 "cells": [
  {
   "cell_type": "markdown",
   "id": "likely-radio",
   "metadata": {},
   "source": [
    "# OpenSea Python API Tutorial "
   ]
  },
  {
   "cell_type": "markdown",
   "id": "d22e8023",
   "metadata": {},
   "source": [
    "This tutorial aims to be a quick guide to get you started using the OpenSea API integrated into messari's python library."
   ]
  },
  {
   "cell_type": "code",
   "execution_count": 1,
   "id": "593e4795",
   "metadata": {},
   "outputs": [],
   "source": [
    "from messari.nfts import OpenSea\n",
    "os = OpenSea()"
   ]
  },
  {
   "cell_type": "code",
   "execution_count": 6,
   "id": "cc655cd8",
   "metadata": {},
   "outputs": [],
   "source": [
    "collections = ['']"
   ]
  },
  {
   "cell_type": "markdown",
   "id": "813f1412",
   "metadata": {},
   "source": [
    "## API Structure\n",
    "The OpenSea Python client contains a number of functions that wrap some of OpenSea's API endpoints. These include:\n",
    "\n",
    "Functions\n",
    "* get_asset\n",
    "* get_contract\n",
    "* get_collection\n",
    "* get_events\n",
    "* get_bundle\n",
    "* get_collection_stats\n",
    "* get_orders\n",
    "\n",
    "Below are a few examples to showcase the functionality and types of data each function generates."
   ]
  },
  {
   "cell_type": "markdown",
   "id": "18ce8fa5",
   "metadata": {},
   "source": [
    "## Functions"
   ]
  },
  {
   "cell_type": "markdown",
   "id": "a3d7d636",
   "metadata": {},
   "source": [
    "### get_asset"
   ]
  },
  {
   "cell_type": "markdown",
   "id": "b8def586",
   "metadata": {},
   "source": [
    "Used to fetch more in-depth information about an individual asset"
   ]
  },
  {
   "cell_type": "code",
   "execution_count": null,
   "id": "69dfcc21",
   "metadata": {},
   "outputs": [],
   "source": [
    "asset = os.get_asset()\n",
    "asset"
   ]
  },
  {
   "cell_type": "markdown",
   "id": "53436e25",
   "metadata": {},
   "source": [
    "### get_contract"
   ]
  },
  {
   "cell_type": "markdown",
   "id": "d2fc0b79",
   "metadata": {},
   "source": [
    "Used to fetch more in-depth information about an contract asset"
   ]
  },
  {
   "cell_type": "code",
   "execution_count": null,
   "id": "3b4390bc",
   "metadata": {
    "collapsed": true
   },
   "outputs": [],
   "source": [
    "contract = os.get_contract\n",
    "contract"
   ]
  },
  {
   "cell_type": "markdown",
   "id": "4e79fb33",
   "metadata": {},
   "source": [
    "### get_collection"
   ]
  },
  {
   "cell_type": "markdown",
   "id": "131d14d7",
   "metadata": {},
   "source": [
    "Used for retrieving more in-depth information about individual collections, including real time statistics like floor price"
   ]
  },
  {
   "cell_type": "code",
   "execution_count": null,
   "id": "33825bac",
   "metadata": {},
   "outputs": [],
   "source": [
    "collection = os.get_collection()\n",
    "collection"
   ]
  },
  {
   "cell_type": "markdown",
   "id": "e1b4d965",
   "metadata": {},
   "source": [
    "### get_events"
   ]
  },
  {
   "cell_type": "markdown",
   "id": "33ae609b",
   "metadata": {},
   "source": [
    "provides a list of events that occur on the assets that OpenSea tracks"
   ]
  },
  {
   "cell_type": "code",
   "execution_count": null,
   "id": "7db308eb",
   "metadata": {},
   "outputs": [],
   "source": [
    "events = os.get_events()\n",
    "events"
   ]
  },
  {
   "cell_type": "markdown",
   "id": "29859619",
   "metadata": {},
   "source": [
    "### get_bundle"
   ]
  },
  {
   "cell_type": "markdown",
   "id": "b9ad92c2",
   "metadata": {},
   "source": [
    "Bundles are groups of items for sale on OpenSea. You can buy them all at once in one transaction, and you can create them without any transactions or gas, as long as you've already approved the assets inside."
   ]
  },
  {
   "cell_type": "code",
   "execution_count": null,
   "id": "3858fd66",
   "metadata": {},
   "outputs": [],
   "source": [
    "bundle = os.get_bundle()\n",
    "bundle"
   ]
  },
  {
   "cell_type": "markdown",
   "id": "466b3110",
   "metadata": {},
   "source": [
    "### get_collection_stats"
   ]
  },
  {
   "cell_type": "markdown",
   "id": "405b0b3b",
   "metadata": {},
   "source": [
    "Fetch stats for a specific collection, including realtime floor price statistics"
   ]
  },
  {
   "cell_type": "code",
   "execution_count": null,
   "id": "5c8b6617",
   "metadata": {},
   "outputs": [],
   "source": [
    "collection_stats = os.get_collection_stats()\n",
    "collection_stats"
   ]
  },
  {
   "cell_type": "markdown",
   "id": "788608ff",
   "metadata": {},
   "source": [
    "### get_orders"
   ]
  },
  {
   "cell_type": "markdown",
   "id": "4e91c3eb",
   "metadata": {},
   "source": [
    "Fetch orders from the OpenSea system"
   ]
  },
  {
   "cell_type": "code",
   "execution_count": null,
   "id": "e162bffa",
   "metadata": {},
   "outputs": [],
   "source": [
    "orders = os.get_orders()\n",
    "orders"
   ]
  }
 ],
 "metadata": {
  "kernelspec": {
   "display_name": "Python 3 (ipykernel)",
   "language": "python",
   "name": "python3"
  },
  "language_info": {
   "codemirror_mode": {
    "name": "ipython",
    "version": 3
   },
   "file_extension": ".py",
   "mimetype": "text/x-python",
   "name": "python",
   "nbconvert_exporter": "python",
   "pygments_lexer": "ipython3",
   "version": "3.9.6"
  }
 },
 "nbformat": 4,
 "nbformat_minor": 5
}
