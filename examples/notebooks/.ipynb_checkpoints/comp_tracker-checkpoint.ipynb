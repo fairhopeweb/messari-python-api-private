{
 "cells": [
  {
   "cell_type": "markdown",
   "id": "cfde7e57",
   "metadata": {},
   "source": [
    "# Event Monitor"
   ]
  },
  {
   "cell_type": "markdown",
   "id": "792338f9",
   "metadata": {},
   "source": [
    "## Setup"
   ]
  },
  {
   "cell_type": "markdown",
   "id": "ab357769",
   "metadata": {},
   "source": [
    "The event monitor requires a blockexplorer for initialization. The purpose of this blockexplorer is to get the contract source code so that contract interactions (Data & Logs) can be decoded into human readable events. "
   ]
  },
  {
   "cell_type": "code",
   "execution_count": 1,
   "id": "4e935821",
   "metadata": {},
   "outputs": [],
   "source": [
    "from messari.blockexplorers import Etherscan\n",
    "\n",
    "API_KEY = 'YOUR_API'\n",
    "ES = Etherscan(api_key=API_KEY)"
   ]
  },
  {
   "cell_type": "code",
   "execution_count": 2,
   "id": "edf51404",
   "metadata": {},
   "outputs": [],
   "source": [
    "from messari.eventmonitor import EventMonitor\n",
    "\n",
    "rpc_url = 'YOUR_RPC'"
   ]
  },
  {
   "cell_type": "code",
   "execution_count": 5,
   "id": "9798d615",
   "metadata": {},
   "outputs": [],
   "source": [
    "import time\n",
    "import pandas as pd\n",
    "from typing import List"
   ]
  },
  {
   "cell_type": "code",
   "execution_count": 3,
   "id": "35e0ad85",
   "metadata": {},
   "outputs": [],
   "source": [
    "cETH = '0x4ddc2d193948926d02f9b1fe9e1daa0718270ed5'\n",
    "cWBTC = '0xC11b1268C1A384e55C48c2391d8d480264A3A7F4'\n",
    "\n",
    "cDAI = '0x5d3a536E4D6DbD6114cc1Ead35777bAB948E3643'\n",
    "cUSDC = '0x39aa39c021dfbae8fac545936693ac917d5e7563'\n",
    "cUSDT = '0xf650c3d88d12db855b8bf7d11be6c55a4e07dcc9'\n",
    "cTUSD = '0x12392f67bdf24fae0af363c24ac620a2f67dad86'\n",
    "\n",
    "\n",
    "cAAVE = '0xe65cdb6479bac1e22340e4e755fae7e509ecd06c'\n",
    "cBAT = '0x6c8c6b02e7b2be14d4fa6022dfd6d75921d90e4e'\n",
    "cCOMP = '0x70e36f6BF80a52b3B46b3aF8e106CC0ed743E8e4'\n",
    "cLINK = '0xface851a4921ce59e912d19329929ce6da6eb0c7'\n",
    "cMKR = '0x95b4ef2869ebd94beb4eee400a99824bf5dc325b'\n",
    "cSUSHI = '0x4b0181102a0112a2ef11abee5563bb4a3176c9d7'\n",
    "cUNI = '0x35A18000230DA775CAc24873d00Ff85BccdeD550'\n",
    "cYFI = '0x80a2ae356fc9ef4305676f7a3e2ed04e12c33946'\n",
    "cZRX = '0xb3319f5d18bc0d84dd1b4825dcde5d5f7266d407'\n",
    "\n",
    "DAI= '0x6B175474E89094C44Da98b954EedeAC495271d0F'\n"
   ]
  },
  {
   "cell_type": "code",
   "execution_count": 4,
   "id": "52cb97b8",
   "metadata": {},
   "outputs": [],
   "source": [
    "comp_stables_contracts = [cUSDT, cDAI, cUSDC, cTUSD, DAI]\n",
    "comp_stables_contracts = [cETH]"
   ]
  },
  {
   "cell_type": "code",
   "execution_count": 5,
   "id": "7b8055ed",
   "metadata": {},
   "outputs": [],
   "source": [
    "comp_stables_em = EventMonitor(comp_stables_contracts, ES, rpc_url)"
   ]
  },
  {
   "cell_type": "code",
   "execution_count": 7,
   "id": "e5e4df57",
   "metadata": {},
   "outputs": [],
   "source": [
    "#comp_stables_em.start_monitor()\n",
    "comp_stables_em.stop_monitor()"
   ]
  },
  {
   "cell_type": "code",
   "execution_count": 6,
   "id": "e5a7203f",
   "metadata": {},
   "outputs": [],
   "source": [
    "comp_stables_em.start_sync()\n",
    "#comp_stables_em.end_sync()"
   ]
  },
  {
   "cell_type": "code",
   "execution_count": 7,
   "id": "672766bc",
   "metadata": {},
   "outputs": [
    {
     "name": "stdout",
     "output_type": "stream",
     "text": [
      "True\n",
      "True\n",
      "False\n"
     ]
    }
   ],
   "source": [
    "print(comp_stables_em.handler_thread.is_alive())\n",
    "print(comp_stables_em.sync_thread.is_alive())\n",
    "print(comp_stables_em.monitor_thread.is_alive())"
   ]
  },
  {
   "cell_type": "code",
   "execution_count": 8,
   "id": "71bda9da",
   "metadata": {},
   "outputs": [
    {
     "name": "stdout",
     "output_type": "stream",
     "text": [
      "True\n",
      "True\n",
      "False\n"
     ]
    }
   ],
   "source": [
    "print(comp_stables_em.handler_flag)\n",
    "print(comp_stables_em.sync_flag)\n",
    "print(comp_stables_em.monitor_flag)"
   ]
  },
  {
   "cell_type": "code",
   "execution_count": 11,
   "id": "359d2ecf",
   "metadata": {},
   "outputs": [
    {
     "data": {
      "text/plain": [
       "False"
      ]
     },
     "execution_count": 11,
     "metadata": {},
     "output_type": "execute_result"
    }
   ],
   "source": [
    "comp_stables_em.event_queue.empty()"
   ]
  },
  {
   "cell_type": "code",
   "execution_count": 12,
   "id": "81714b2f",
   "metadata": {
    "scrolled": true
   },
   "outputs": [
    {
     "data": {
      "text/plain": [
       "4"
      ]
     },
     "execution_count": 12,
     "metadata": {},
     "output_type": "execute_result"
    }
   ],
   "source": [
    "len(comp_stables_em.get_events_list())"
   ]
  },
  {
   "cell_type": "code",
   "execution_count": null,
   "id": "08cae4ea",
   "metadata": {
    "scrolled": true
   },
   "outputs": [],
   "source": []
  },
  {
   "cell_type": "code",
   "execution_count": null,
   "id": "a89300f2",
   "metadata": {},
   "outputs": [],
   "source": []
  },
  {
   "cell_type": "code",
   "execution_count": 24,
   "id": "b95b822c",
   "metadata": {},
   "outputs": [],
   "source": [
    "# Loop to monitor sync progress\n",
    "while comp_stables_em.sync_flag:\n",
    "    print(comp_stables_em.sync_status)\n",
    "    time.sleep(10)"
   ]
  },
  {
   "cell_type": "code",
   "execution_count": 30,
   "id": "af66907f",
   "metadata": {},
   "outputs": [],
   "source": [
    "def process_cToken_events(events_list: List):\n",
    "    events_df = pd.DataFrame(events_list)\n",
    "    print(events_df)\n",
    "    return\n",
    "    "
   ]
  },
  {
   "cell_type": "code",
   "execution_count": 13,
   "id": "95a7e1d2",
   "metadata": {},
   "outputs": [
    {
     "data": {
      "text/html": [
       "<div>\n",
       "<style scoped>\n",
       "    .dataframe tbody tr th:only-of-type {\n",
       "        vertical-align: middle;\n",
       "    }\n",
       "\n",
       "    .dataframe tbody tr th {\n",
       "        vertical-align: top;\n",
       "    }\n",
       "\n",
       "    .dataframe thead th {\n",
       "        text-align: right;\n",
       "    }\n",
       "</style>\n",
       "<table border=\"1\" class=\"dataframe\">\n",
       "  <thead>\n",
       "    <tr style=\"text-align: right;\">\n",
       "      <th></th>\n",
       "      <th></th>\n",
       "      <th>args</th>\n",
       "      <th>event</th>\n",
       "      <th>transaction</th>\n",
       "      <th>log_index</th>\n",
       "      <th>transaction_index</th>\n",
       "      <th>address</th>\n",
       "      <th>block_number</th>\n",
       "      <th>block</th>\n",
       "    </tr>\n",
       "    <tr>\n",
       "      <th>block_number</th>\n",
       "      <th>log_index</th>\n",
       "      <th></th>\n",
       "      <th></th>\n",
       "      <th></th>\n",
       "      <th></th>\n",
       "      <th></th>\n",
       "      <th></th>\n",
       "      <th></th>\n",
       "      <th></th>\n",
       "    </tr>\n",
       "  </thead>\n",
       "  <tbody>\n",
       "    <tr>\n",
       "      <th rowspan=\"2\" valign=\"top\">7710758</th>\n",
       "      <th>0</th>\n",
       "      <td>{'oldComptroller': '0x000000000000000000000000...</td>\n",
       "      <td>NewComptroller</td>\n",
       "      <td>0xe60e30c7131f043b17a214cfa27e7b6ae652e056141a...</td>\n",
       "      <td>0</td>\n",
       "      <td>0</td>\n",
       "      <td>0x4Ddc2D193948926D02f9B1fE9e1daa0718270ED5</td>\n",
       "      <td>7710758</td>\n",
       "      <td>0x5a4da17b60e021de2a01c111dd09d7dd63bae154e772...</td>\n",
       "    </tr>\n",
       "    <tr>\n",
       "      <th>1</th>\n",
       "      <td>{'oldInterestRateModel': '0x000000000000000000...</td>\n",
       "      <td>NewMarketInterestRateModel</td>\n",
       "      <td>0xe60e30c7131f043b17a214cfa27e7b6ae652e056141a...</td>\n",
       "      <td>1</td>\n",
       "      <td>0</td>\n",
       "      <td>0x4Ddc2D193948926D02f9B1fE9e1daa0718270ED5</td>\n",
       "      <td>7710758</td>\n",
       "      <td>0x5a4da17b60e021de2a01c111dd09d7dd63bae154e772...</td>\n",
       "    </tr>\n",
       "    <tr>\n",
       "      <th rowspan=\"2\" valign=\"top\">7710769</th>\n",
       "      <th>18</th>\n",
       "      <td>{'interestAccumulated': 0, 'borrowIndex': 1000...</td>\n",
       "      <td>AccrueInterest</td>\n",
       "      <td>0x993f40d11754d20296538074d6ca256f4a7d6b41c108...</td>\n",
       "      <td>18</td>\n",
       "      <td>26</td>\n",
       "      <td>0x4Ddc2D193948926D02f9B1fE9e1daa0718270ED5</td>\n",
       "      <td>7710769</td>\n",
       "      <td>0x10285142433b93a10b0f09ca38f862735ae7d479f9e9...</td>\n",
       "    </tr>\n",
       "    <tr>\n",
       "      <th>19</th>\n",
       "      <td>{'oldReserveFactorMantissa': 0, 'newReserveFac...</td>\n",
       "      <td>NewReserveFactor</td>\n",
       "      <td>0x993f40d11754d20296538074d6ca256f4a7d6b41c108...</td>\n",
       "      <td>19</td>\n",
       "      <td>26</td>\n",
       "      <td>0x4Ddc2D193948926D02f9B1fE9e1daa0718270ED5</td>\n",
       "      <td>7710769</td>\n",
       "      <td>0x10285142433b93a10b0f09ca38f862735ae7d479f9e9...</td>\n",
       "    </tr>\n",
       "    <tr>\n",
       "      <th>7710833</th>\n",
       "      <th>68</th>\n",
       "      <td>{'interestAccumulated': 0, 'borrowIndex': 1000...</td>\n",
       "      <td>AccrueInterest</td>\n",
       "      <td>0xa1b27194b198762eaa631564fea76008b363c157a1cc...</td>\n",
       "      <td>68</td>\n",
       "      <td>104</td>\n",
       "      <td>0x4Ddc2D193948926D02f9B1fE9e1daa0718270ED5</td>\n",
       "      <td>7710833</td>\n",
       "      <td>0x0ed263de26d3c6dc118d44e8d2b75a8aa9684fbccc13...</td>\n",
       "    </tr>\n",
       "    <tr>\n",
       "      <th>...</th>\n",
       "      <th>...</th>\n",
       "      <td>...</td>\n",
       "      <td>...</td>\n",
       "      <td>...</td>\n",
       "      <td>...</td>\n",
       "      <td>...</td>\n",
       "      <td>...</td>\n",
       "      <td>...</td>\n",
       "      <td>...</td>\n",
       "    </tr>\n",
       "    <tr>\n",
       "      <th>7718200</th>\n",
       "      <th>42</th>\n",
       "      <td>{'redeemer': '0xa9EE140bfE20a7a5F9e170C6e89EC4...</td>\n",
       "      <td>Redeem</td>\n",
       "      <td>0x549079171d9249a6c8f44ef4192303fb525177e9f729...</td>\n",
       "      <td>42</td>\n",
       "      <td>40</td>\n",
       "      <td>0x4Ddc2D193948926D02f9B1fE9e1daa0718270ED5</td>\n",
       "      <td>7718200</td>\n",
       "      <td>0xf60152683262367d9e54258ebd9ebf6c09e160a2d729...</td>\n",
       "    </tr>\n",
       "    <tr>\n",
       "      <th rowspan=\"3\" valign=\"top\">7718203</th>\n",
       "      <th>37</th>\n",
       "      <td>{'interestAccumulated': 936003345587, 'borrowI...</td>\n",
       "      <td>AccrueInterest</td>\n",
       "      <td>0x021368ae929dcf776006893ff5463fb010097ce23543...</td>\n",
       "      <td>37</td>\n",
       "      <td>122</td>\n",
       "      <td>0x4Ddc2D193948926D02f9B1fE9e1daa0718270ED5</td>\n",
       "      <td>7718203</td>\n",
       "      <td>0x970b504a9388cfc157e01adaf22d9e362da1f5d1a4d2...</td>\n",
       "    </tr>\n",
       "    <tr>\n",
       "      <th>38</th>\n",
       "      <td>{'from': '0xa9EE140bfE20a7a5F9e170C6e89EC4B090...</td>\n",
       "      <td>Transfer</td>\n",
       "      <td>0x021368ae929dcf776006893ff5463fb010097ce23543...</td>\n",
       "      <td>38</td>\n",
       "      <td>122</td>\n",
       "      <td>0x4Ddc2D193948926D02f9B1fE9e1daa0718270ED5</td>\n",
       "      <td>7718203</td>\n",
       "      <td>0x970b504a9388cfc157e01adaf22d9e362da1f5d1a4d2...</td>\n",
       "    </tr>\n",
       "    <tr>\n",
       "      <th>39</th>\n",
       "      <td>{'redeemer': '0xa9EE140bfE20a7a5F9e170C6e89EC4...</td>\n",
       "      <td>Redeem</td>\n",
       "      <td>0x021368ae929dcf776006893ff5463fb010097ce23543...</td>\n",
       "      <td>39</td>\n",
       "      <td>122</td>\n",
       "      <td>0x4Ddc2D193948926D02f9B1fE9e1daa0718270ED5</td>\n",
       "      <td>7718203</td>\n",
       "      <td>0x970b504a9388cfc157e01adaf22d9e362da1f5d1a4d2...</td>\n",
       "    </tr>\n",
       "    <tr>\n",
       "      <th>7718389</th>\n",
       "      <th>91</th>\n",
       "      <td>{'interestAccumulated': 58032217296746, 'borro...</td>\n",
       "      <td>AccrueInterest</td>\n",
       "      <td>0xf011d7342801617a22d3a125b4d50d248316a4a8e309...</td>\n",
       "      <td>91</td>\n",
       "      <td>117</td>\n",
       "      <td>0x4Ddc2D193948926D02f9B1fE9e1daa0718270ED5</td>\n",
       "      <td>7718389</td>\n",
       "      <td>0x9aa22cbd390f6f054d8b686571faa35eb108bfdc439c...</td>\n",
       "    </tr>\n",
       "  </tbody>\n",
       "</table>\n",
       "<p>92 rows × 8 columns</p>\n",
       "</div>"
      ],
      "text/plain": [
       "                                                                     args  \\\n",
       "block_number log_index                                                      \n",
       "7710758      0          {'oldComptroller': '0x000000000000000000000000...   \n",
       "             1          {'oldInterestRateModel': '0x000000000000000000...   \n",
       "7710769      18         {'interestAccumulated': 0, 'borrowIndex': 1000...   \n",
       "             19         {'oldReserveFactorMantissa': 0, 'newReserveFac...   \n",
       "7710833      68         {'interestAccumulated': 0, 'borrowIndex': 1000...   \n",
       "...                                                                   ...   \n",
       "7718200      42         {'redeemer': '0xa9EE140bfE20a7a5F9e170C6e89EC4...   \n",
       "7718203      37         {'interestAccumulated': 936003345587, 'borrowI...   \n",
       "             38         {'from': '0xa9EE140bfE20a7a5F9e170C6e89EC4B090...   \n",
       "             39         {'redeemer': '0xa9EE140bfE20a7a5F9e170C6e89EC4...   \n",
       "7718389      91         {'interestAccumulated': 58032217296746, 'borro...   \n",
       "\n",
       "                                             event  \\\n",
       "block_number log_index                               \n",
       "7710758      0                      NewComptroller   \n",
       "             1          NewMarketInterestRateModel   \n",
       "7710769      18                     AccrueInterest   \n",
       "             19                   NewReserveFactor   \n",
       "7710833      68                     AccrueInterest   \n",
       "...                                            ...   \n",
       "7718200      42                             Redeem   \n",
       "7718203      37                     AccrueInterest   \n",
       "             38                           Transfer   \n",
       "             39                             Redeem   \n",
       "7718389      91                     AccrueInterest   \n",
       "\n",
       "                                                              transaction  \\\n",
       "block_number log_index                                                      \n",
       "7710758      0          0xe60e30c7131f043b17a214cfa27e7b6ae652e056141a...   \n",
       "             1          0xe60e30c7131f043b17a214cfa27e7b6ae652e056141a...   \n",
       "7710769      18         0x993f40d11754d20296538074d6ca256f4a7d6b41c108...   \n",
       "             19         0x993f40d11754d20296538074d6ca256f4a7d6b41c108...   \n",
       "7710833      68         0xa1b27194b198762eaa631564fea76008b363c157a1cc...   \n",
       "...                                                                   ...   \n",
       "7718200      42         0x549079171d9249a6c8f44ef4192303fb525177e9f729...   \n",
       "7718203      37         0x021368ae929dcf776006893ff5463fb010097ce23543...   \n",
       "             38         0x021368ae929dcf776006893ff5463fb010097ce23543...   \n",
       "             39         0x021368ae929dcf776006893ff5463fb010097ce23543...   \n",
       "7718389      91         0xf011d7342801617a22d3a125b4d50d248316a4a8e309...   \n",
       "\n",
       "                        log_index  transaction_index  \\\n",
       "block_number log_index                                 \n",
       "7710758      0                  0                  0   \n",
       "             1                  1                  0   \n",
       "7710769      18                18                 26   \n",
       "             19                19                 26   \n",
       "7710833      68                68                104   \n",
       "...                           ...                ...   \n",
       "7718200      42                42                 40   \n",
       "7718203      37                37                122   \n",
       "             38                38                122   \n",
       "             39                39                122   \n",
       "7718389      91                91                117   \n",
       "\n",
       "                                                           address  \\\n",
       "block_number log_index                                               \n",
       "7710758      0          0x4Ddc2D193948926D02f9B1fE9e1daa0718270ED5   \n",
       "             1          0x4Ddc2D193948926D02f9B1fE9e1daa0718270ED5   \n",
       "7710769      18         0x4Ddc2D193948926D02f9B1fE9e1daa0718270ED5   \n",
       "             19         0x4Ddc2D193948926D02f9B1fE9e1daa0718270ED5   \n",
       "7710833      68         0x4Ddc2D193948926D02f9B1fE9e1daa0718270ED5   \n",
       "...                                                            ...   \n",
       "7718200      42         0x4Ddc2D193948926D02f9B1fE9e1daa0718270ED5   \n",
       "7718203      37         0x4Ddc2D193948926D02f9B1fE9e1daa0718270ED5   \n",
       "             38         0x4Ddc2D193948926D02f9B1fE9e1daa0718270ED5   \n",
       "             39         0x4Ddc2D193948926D02f9B1fE9e1daa0718270ED5   \n",
       "7718389      91         0x4Ddc2D193948926D02f9B1fE9e1daa0718270ED5   \n",
       "\n",
       "                        block_number  \\\n",
       "block_number log_index                 \n",
       "7710758      0               7710758   \n",
       "             1               7710758   \n",
       "7710769      18              7710769   \n",
       "             19              7710769   \n",
       "7710833      68              7710833   \n",
       "...                              ...   \n",
       "7718200      42              7718200   \n",
       "7718203      37              7718203   \n",
       "             38              7718203   \n",
       "             39              7718203   \n",
       "7718389      91              7718389   \n",
       "\n",
       "                                                                    block  \n",
       "block_number log_index                                                     \n",
       "7710758      0          0x5a4da17b60e021de2a01c111dd09d7dd63bae154e772...  \n",
       "             1          0x5a4da17b60e021de2a01c111dd09d7dd63bae154e772...  \n",
       "7710769      18         0x10285142433b93a10b0f09ca38f862735ae7d479f9e9...  \n",
       "             19         0x10285142433b93a10b0f09ca38f862735ae7d479f9e9...  \n",
       "7710833      68         0x0ed263de26d3c6dc118d44e8d2b75a8aa9684fbccc13...  \n",
       "...                                                                   ...  \n",
       "7718200      42         0xf60152683262367d9e54258ebd9ebf6c09e160a2d729...  \n",
       "7718203      37         0x970b504a9388cfc157e01adaf22d9e362da1f5d1a4d2...  \n",
       "             38         0x970b504a9388cfc157e01adaf22d9e362da1f5d1a4d2...  \n",
       "             39         0x970b504a9388cfc157e01adaf22d9e362da1f5d1a4d2...  \n",
       "7718389      91         0x9aa22cbd390f6f054d8b686571faa35eb108bfdc439c...  \n",
       "\n",
       "[92 rows x 8 columns]"
      ]
     },
     "execution_count": 13,
     "metadata": {},
     "output_type": "execute_result"
    }
   ],
   "source": [
    "events_df = comp_stables_em.get_events_df()\n",
    "events_df"
   ]
  },
  {
   "cell_type": "code",
   "execution_count": 14,
   "id": "eeeb33e0",
   "metadata": {},
   "outputs": [
    {
     "data": {
      "text/plain": [
       "88317"
      ]
     },
     "execution_count": 14,
     "metadata": {},
     "output_type": "execute_result"
    }
   ],
   "source": [
    "comp_stables_em.event_queue.qsize()"
   ]
  },
  {
   "cell_type": "code",
   "execution_count": null,
   "id": "799ac70a",
   "metadata": {},
   "outputs": [],
   "source": []
  },
  {
   "cell_type": "code",
   "execution_count": null,
   "id": "03dfd202",
   "metadata": {},
   "outputs": [],
   "source": []
  },
  {
   "cell_type": "code",
   "execution_count": 104,
   "id": "ed0b9110",
   "metadata": {},
   "outputs": [],
   "source": []
  },
  {
   "cell_type": "code",
   "execution_count": null,
   "id": "8e213cc4",
   "metadata": {},
   "outputs": [],
   "source": []
  },
  {
   "cell_type": "code",
   "execution_count": null,
   "id": "f116ec6d",
   "metadata": {},
   "outputs": [],
   "source": []
  },
  {
   "cell_type": "code",
   "execution_count": null,
   "id": "bbc03266",
   "metadata": {},
   "outputs": [],
   "source": []
  }
 ],
 "metadata": {
  "kernelspec": {
   "display_name": "Python 3 (ipykernel)",
   "language": "python",
   "name": "python3"
  },
  "language_info": {
   "codemirror_mode": {
    "name": "ipython",
    "version": 3
   },
   "file_extension": ".py",
   "mimetype": "text/x-python",
   "name": "python",
   "nbconvert_exporter": "python",
   "pygments_lexer": "ipython3",
   "version": "3.9.6"
  }
 },
 "nbformat": 4,
 "nbformat_minor": 5
}
