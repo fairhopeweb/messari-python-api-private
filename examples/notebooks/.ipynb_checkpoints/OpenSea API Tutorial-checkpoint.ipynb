{
 "cells": [
  {
   "cell_type": "markdown",
   "id": "likely-radio",
   "metadata": {},
   "source": [
    "# OpenSea Python API Tutorial "
   ]
  },
  {
   "cell_type": "markdown",
   "id": "d22e8023",
   "metadata": {},
   "source": [
    "This tutorial aims to be a quick guide to get you started using the OpenSea API integrated into messari's python library."
   ]
  },
  {
   "cell_type": "code",
   "execution_count": 5,
   "id": "593e4795",
   "metadata": {},
   "outputs": [],
   "source": [
    "from messari.nfts import OpenSea\n",
    "os = OpenSea()"
   ]
  },
  {
   "cell_type": "code",
   "execution_count": 6,
   "id": "cc655cd8",
   "metadata": {},
   "outputs": [],
   "source": []
  },
  {
   "cell_type": "markdown",
   "id": "813f1412",
   "metadata": {},
   "source": [
    "## API Structure\n",
    "The OpenSea Python client contains a number of functions that wrap some of OpenSea's API endpoints. These include:\n",
    "\n",
    "Functions\n",
    "* get_asset\n",
    "* get_contract\n",
    "* get_collection\n",
    "* get_events\n",
    "* get_bundle\n",
    "* get_collection_stats\n",
    "* get_orders\n",
    "\n",
    "Below are a few examples to showcase the functionality and types of data each function generates."
   ]
  },
  {
   "cell_type": "markdown",
   "id": "e7e909da",
   "metadata": {},
   "source": [
    "## Functions"
   ]
  },
  {
   "cell_type": "markdown",
   "id": "59d05082",
   "metadata": {},
   "source": [
    "### get_asset"
   ]
  },
  {
   "cell_type": "markdown",
   "id": "e2e65f2d",
   "metadata": {},
   "source": []
  },
  {
   "cell_type": "markdown",
   "id": "bf3421b1",
   "metadata": {},
   "source": []
  },
  {
   "cell_type": "markdown",
   "id": "748cca29",
   "metadata": {},
   "source": []
  },
  {
   "cell_type": "markdown",
   "id": "d5fdf646",
   "metadata": {},
   "source": []
  },
  {
   "cell_type": "markdown",
   "id": "86964026",
   "metadata": {},
   "source": []
  },
  {
   "cell_type": "markdown",
   "id": "7747888e",
   "metadata": {},
   "source": []
  },
  {
   "cell_type": "markdown",
   "id": "79a9f5f0",
   "metadata": {},
   "source": []
  }
 ],
 "metadata": {
  "kernelspec": {
   "display_name": "Python 3 (ipykernel)",
   "language": "python",
   "name": "python3"
  },
  "language_info": {
   "codemirror_mode": {
    "name": "ipython",
    "version": 3
   },
   "file_extension": ".py",
   "mimetype": "text/x-python",
   "name": "python",
   "nbconvert_exporter": "python",
   "pygments_lexer": "ipython3",
   "version": "3.9.6"
  }
 },
 "nbformat": 4,
 "nbformat_minor": 5
}
