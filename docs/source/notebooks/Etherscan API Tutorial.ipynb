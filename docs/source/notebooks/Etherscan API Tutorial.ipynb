{
 "cells": [
  {
   "cell_type": "markdown",
   "id": "b650d739",
   "metadata": {},
   "source": [
    "# Etherscan Python API Tutorial"
   ]
  },
  {
   "cell_type": "markdown",
   "id": "90d1e1be",
   "metadata": {},
   "source": [
    "This tutorial aims to be a quick guide to get you started using the Etherscan API integrated into messari's python library."
   ]
  },
  {
   "cell_type": "code",
   "execution_count": 1,
   "id": "4f68f0a5",
   "metadata": {},
   "outputs": [],
   "source": [
    "from messari.etherscan import Etherscan\n",
    "es = Etherscan()"
   ]
  },
  {
   "cell_type": "markdown",
   "id": "ea4f2e3b",
   "metadata": {},
   "source": [
    "## API Structure"
   ]
  },
  {
   "cell_type": "markdown",
   "id": "22c173a4",
   "metadata": {},
   "source": [
    "The Messari Python client contains a number of functions that wrap all of Etherscan's API endpoints. These include:\n",
    "\n",
    "* get_\n",
    "\n",
    "Below are a few examples to showcase the functionality and types of data each function generates."
   ]
  }
 ],
 "metadata": {
  "kernelspec": {
   "display_name": "Python 3 (ipykernel)",
   "language": "python",
   "name": "python3"
  },
  "language_info": {
   "codemirror_mode": {
    "name": "ipython",
    "version": 3
   },
   "file_extension": ".py",
   "mimetype": "text/x-python",
   "name": "python",
   "nbconvert_exporter": "python",
   "pygments_lexer": "ipython3",
   "version": "3.9.6"
  }
 },
 "nbformat": 4,
 "nbformat_minor": 5
}
